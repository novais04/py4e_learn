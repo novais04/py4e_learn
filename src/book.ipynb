{
 "cells": [
  {
   "cell_type": "markdown",
   "id": "6f0449c7",
   "metadata": {},
   "source": [
    "# Capítulo 5 - Iteração"
   ]
  },
  {
   "cell_type": "markdown",
   "id": "2b13b9c4",
   "metadata": {},
   "source": [
    "## 5.1 Atualizando Variáveis\n",
    "Um modelo comum de declaração de atribuição é uma que atualiza o valor de uma variável, na qual o seu novo valor depende do seu anterior.\n",
    "\n",
    "> x = x + 1\n",
    "\n",
    "Isso significa “pegue o valor atual de x, adicione 1 e então atualize x com esse novo valor.”\n",
    "\n",
    "Se você tentar atualizar uma variável que não existe, ocorrerá um erro, já que o Python avalia o lado direito da igualdade antes de atribuir um valor a x:"
   ]
  },
  {
   "cell_type": "code",
   "execution_count": null,
   "id": "4d221359",
   "metadata": {},
   "outputs": [],
   "source": [
    "x = x + 1"
   ]
  },
  {
   "cell_type": "markdown",
   "id": "3fb155e8",
   "metadata": {},
   "source": [
    "Antes de se poder atualizar uma variável, é preciso __inicializá-la__, normalmente com uma simples atribuição:"
   ]
  },
  {
   "cell_type": "code",
   "execution_count": null,
   "id": "1b773546",
   "metadata": {},
   "outputs": [],
   "source": [
    "x = 0\n",
    "x = x + 1\n",
    "print(x) "
   ]
  },
  {
   "cell_type": "markdown",
   "id": "62f3034b-facf-40fd-820d-96e3ac09a00e",
   "metadata": {},
   "source": [
    "Atualizar uma variável adicionando 1 é chamado de um *incremento*; subtraindo 1 é chamado de um *decremento*."
   ]
  },
  {
   "cell_type": "markdown",
   "id": "6fa158a9-6cfa-44da-a3b9-2b034504e1d6",
   "metadata": {},
   "source": [
    "## 5.2 A declaração while\n",
    "\n",
    "Frequentemente, computadores são utilizados para automatizar tarefas repetitivas. Repetir tarefas, idênticas ou similares, sem cometer erros, é algo que computadores fazem bem melhor que pessoas. Devido à iteração ser tão comum, Python disponibiliza diversos recursos para torná-la mais fácil.\n",
    "\n",
    "Uma das formas de iteração em Python é a declaração while. Abaixo, temos um programa simples que faz uma contagem regressiva, partindo de cinco, e depois diz “Lançar!”."
   ]
  },
  {
   "cell_type": "code",
   "execution_count": null,
   "id": "6f7f3b7e",
   "metadata": {},
   "outputs": [],
   "source": [
    "# repetindo steps com while\n",
    "n = 5\n",
    "while(n>0):\n",
    "    print(n)\n",
    "    n-=1\n",
    "print(\"Lançaçr\")"
   ]
  },
  {
   "cell_type": "markdown",
   "id": "1e80df99-933b-4cb2-8bbb-b5b33cb37b14",
   "metadata": {},
   "source": [
    "__Observação:__ Loops (etapas repetidas) têm variáveis ​​de iteração que mudam a cada vez em um loop. Muitas vezes, essas variáveis ​​de iteração passam por uma sequência de números."
   ]
  },
  {
   "cell_type": "markdown",
   "id": "eebe401d-f5d2-4dc3-831e-fc9f9c58ba8f",
   "metadata": {},
   "source": [
    "A declaração __while__ quase pode ser lida como se fosse um texto comum (escrito em português). Em português, teríamos algo como: *“Enquanto n for maior que 0,mostre o valor de n e então subtraia 1 desse valor. Quando atingir o valor 0, saia da declaração while e mostre a palavra Lançar!”.*\n",
    "\n",
    "De maneira mais formal, o fluxo de execução da declaração while seria:\n",
    "1. Análise da condição, retornando um valor True ou False.\n",
    "2. Se a condição for falsa, saia da declaração while e prossiga com as declarações seguintes.\n",
    "3. Se a condição for verdadeira, execute o bloco while e então retorne ao passo 1.\n",
    "\n",
    "Esse bloco de instruções é chamado de laço, pois o terceiro passo faz retornar ao primeiro. Nomeamos de __iteração__ cada vez em que as instruções dentro de um laço são executadas. Para o programa anterior, podemos dizer que “ele teve cinco iterações”, ou seja, o corpo do laço foi executado cinco vezes.\n",
    "\n",
    "O corpo do laço normalmente deve alterar o valor de uma ou de mais variáveis, de forma que, eventualmente, a condição de execução se torne falsa e a repetição se encerre. Chamamos essa variável que tem seu valor alterado em cada execução do laço e controla quando ele deve terminar de variável de iteração. Se não houver uma variável de iteração, o loop se repetirá eternamente, resultando em um laço\n",
    "infinito."
   ]
  },
  {
   "cell_type": "markdown",
   "id": "a5a366df-6bad-4ae7-bf3a-adf9e1398d2c",
   "metadata": {},
   "source": [
    "## 5.3 Laços infinitos\n",
    "\n",
    "Uma fonte de diversão sem fim para programadores é observar que as instruções no shampoo, “Ensaboe, enxague, repita”, são um laço infinito pois não há variável de iteração lhe dizendo quantas vezes executar essa sequência.\n",
    "\n",
    "Numa contagem regressiva, nós podemos provar que o laço termina, pois sabemos que o valor de n é finito, e podemos ver que esse valor fica cada vez menor durante o laço, então eventualmente chegaremos ao 0. Outras vezes, um laço é claramente infinito, pois não existe variável de iteração.\n",
    "\n",
    "Às vezes você não sabe que é hora de terminar o laço até chegar ao meio dele. Nesse caso você pode escrever um laço infinito de propósito e então usar o comando break para interrompê-lo.\n",
    "\n",
    "Este laço abaixo é obviamente um laço infinito, pois a expressão lógica na estrutura while é simplesmente a a constante lógica __True__:"
   ]
  },
  {
   "cell_type": "code",
   "execution_count": null,
   "id": "2498c9c5",
   "metadata": {},
   "outputs": [],
   "source": [
    "n = 10\n",
    "while True:\n",
    "    print(n, end=' ')\n",
    "    n = n - 1\n",
    "print('Pronto!')"
   ]
  },
  {
   "cell_type": "markdown",
   "id": "916f3f5c-d952-4a10-ba77-633c7bd023b5",
   "metadata": {},
   "source": [
    "Se você cometer o erro de executar esse código, você aprenderá rapidamente como parar um processo do Python em execução no seu sistema ou achar onde é o botão de desligar do seu computador. Esse programa rodará eternamente ou até a sua bateria acabar, pois a expressão lógica no topo do laço é sempre verdadeira, graças ao fato de que a expressão é o valor constante __True__.\n",
    "\n",
    "Embora isso seja um laço infinito disfuncional, nós podemos continuar usando esse padrão para construir laços úteis, desde que, cuidadosamente, adicionemos um código ao corpo do laço que, utilizando `break`, explicitamente saia dele quando atingimos a condição de saída desejada.\n",
    "\n",
    "Por exemplo, suponha que você queira entradas do usuário até que ele digite pronto. Você pode escrever:\n",
    "```\n",
    "while True:\n",
    "    line = input(\"> \")\n",
    "    if line == 'pronto':\n",
    "        break\n",
    "    print(line)\n",
    "print('pronto')\n",
    "```\n",
    "ver aquivo __copytildone1.py__\n",
    "\n",
    "A condição do laço é True, que sempre é verdadeira, então ele é executado repetidamente até atingir a estrutura break__.\n",
    "\n",
    "A cada repetição, ele solicita uma entrada do usuário mostrando um sinal de “menor que”. Se o usuário digita pronto, o comando break sai do laço. Caso contrário, o programa ecoa tudo o que o usuário digita e volta para o primeiro passo. Aqui vemos um exemplo da execução:\n",
    "```\n",
    "> olá\n",
    "olá\n",
    "> encerrar\n",
    "encerrar\n",
    "> pronto\n",
    "Pronto!\n",
    "```\n",
    "Essa forma de escrever laços while é comum, pois você pode checar a condição em qualquer lugar do bloco (não apenas no topo) e você pode expressar a condição de parada afirmativamente (“pare quando isso acontece”) melhor do que negativamente (“continue até que aquilo aconteça”)."
   ]
  },
  {
   "cell_type": "markdown",
   "id": "e5995bc5-8897-4997-9cb6-f13796d4dd0d",
   "metadata": {},
   "source": [
    "## 5.4 Finalizando iterações com continue\n",
    "\n",
    "Às vezes, você está em uma iteração de um laço e deseja finalizar essa iteração atual e pular imediatamente para a próxima. Nesse caso, você pode usar o comando `continue` para avançar para a próxima iteração sem executar as instruções restantes da iteração atual.\n",
    "\n",
    "Aqui está um exemplo de laço que copia as entradas do usuário até ele digitar __“pronto”__, mas considera as linhas que começam com o caractere cerquilha (#) como linhas que não devem ser exibidas (como os comentários em Python)."
   ]
  },
  {
   "cell_type": "code",
   "execution_count": null,
   "id": "89616813",
   "metadata": {},
   "outputs": [],
   "source": [
    "while True:\n",
    "    line = input('> ')\n",
    "    if line[0] == '#':\n",
    "        continue\n",
    "    if line == 'pronto':\n",
    "        break\n",
    "    print(line)\n",
    "print('pronto!')\n",
    "# ../py42/src/copytildone2.py\n"
   ]
  },
  {
   "cell_type": "markdown",
   "id": "cb2aff8c-a695-4b93-966f-b7aa22699767",
   "metadata": {},
   "source": [
    "Aqui temos um exemplo da execução desse novo programa com continue adicionado.\n",
    "```\n",
    "> olá\n",
    "olá\n",
    "> # não exiba isso\n",
    "> exiba isso!\n",
    "exiba isso!\n",
    "> pronto\n",
    "Pronto!\n",
    "```\n",
    "Todas as linhas são exibidas exceto a que começa com o sinal cerquilha, pois quando o continue é executado, ele termina a iteração atual e pula de volta para o topo do bloco while para começar a próxima iteração, pulando, portanto, o comando __print__."
   ]
  },
  {
   "cell_type": "markdown",
   "id": "2d8be41b-fca2-4aa3-a67e-6117717a7f8e",
   "metadata": {},
   "source": [
    "## 5.5 Definindo um laço usando for\n",
    "\n",
    "Às vezes, queremos fazer um laço por meio de um conjunto de coisas, como uma lista de palavras, as linhas em um arquivo, ou uma lista de números. Quando temos uma lista de coisas para iterar sobre, podemos construir um laço definido usando uma declaração __for__. Nós chamamos a declaração __while__ como um laço indefinido, porque ela simplesmente permanece iterando até que alguma condição se torne falsa, enquanto o laço for itera sobre um conjunto de itens conhecidos até que sejam executadas tantas iterações quanto o número de itens nesse conjunto.\n",
    "\n",
    "A sintaxe de um laço __for__ é similar a de um laço __while__, em que há uma declaração for e um corpo de repetição:"
   ]
  },
  {
   "cell_type": "code",
   "execution_count": null,
   "id": "a2c6255d",
   "metadata": {},
   "outputs": [],
   "source": [
    "amigos = ['José','Gleice', 'Sara']\n",
    "for amigo in amigos:\n",
    "    print(f'Feliz Ano Novo {amigo}')\n",
    "print('feito!')"
   ]
  },
  {
   "cell_type": "markdown",
   "id": "99a7f237",
   "metadata": {},
   "source": [
    "Em termos Python, a variável __amigos__ é uma lista [examinaremos as listas com mais detalhes em um capítulo posterior.] de três cadeias de caracteres e o laço for percorre a lista e executa o corpo uma vez para cada uma das três palavras na lista, resultando nesta saída:\n",
    "\n",
    "```\n",
    "Feliz Ano Novo: Jose\n",
    "Feliz Ano Novo: Gleice\n",
    "Feliz Ano Novo: Sara\n",
    "Feito!\n",
    "```\n",
    "Traduzir esse loop for para o português não é tão direto quanto o __while__, mas se você pensar em amigos como um *lista*, ele interpreta assim: “executar as instruções no corpo do for uma vez para cada amigo *in* lista de amigos nomeados.”\n",
    "\n",
    "Olhando para o laço __for__, for e in são palavras-chave reservadas do Python e amigo e amigos são variáveis.\n",
    "```\n",
    "for amigo in amigos:\n",
    "Print ('Feliz Ano Novo: ', amigo)\n",
    "```\n",
    "\n",
    "Em particular, __amigo__ é a variável de iteração o laço __for__. A variável amigo muda a cada iteração do laço e controla quando o laço deve ser concluído. A __variável__ de iteração percorre sucessivamente as três palavras armazenadas na variável __amigos__.\n"
   ]
  },
  {
   "cell_type": "markdown",
   "id": "d9487cac",
   "metadata": {},
   "source": [
    "## 5.6 Padrões de laço\n",
    "\n",
    "Muitas vezes usamos um laço __for__ ou __while__ para percorrer uma *lista* de itens ou conteúdos de um arquivo, nesse caso nós estamos procurando por algo como o maior ou menor valor dos dados que nós percorremos.\n",
    "\n",
    "Esses laços são geralmente construídos:\n",
    "\n",
    "- Inicializando uma ou mais variáveis antes que o laço comece\n",
    "- Realizando algum cálculo em cada item no corpo do laço, possivelmente alterando as variáveis no corpo do loop\n",
    "- Olhando para as variáveis resultantes quando o loop é concluído\n",
    "Utilizaremos uma lista de números para demonstrar os conceitos e a construção desses padrões de loop.\n",
    "\n",
    "Utilizaremos uma lista de números para demonstrar os conceitos e a construção desses padrões de loop."
   ]
  },
  {
   "cell_type": "markdown",
   "id": "eb29189b",
   "metadata": {},
   "source": [
    "## 5.6.1 Contando e somando repetições\n",
    "Por exemplo, para contar o número de itens em uma lista escreveríamos o seguinte laço __for__:"
   ]
  },
  {
   "cell_type": "code",
   "execution_count": 1,
   "id": "2823ba2b",
   "metadata": {},
   "outputs": [
    {
     "name": "stdout",
     "output_type": "stream",
     "text": [
      "Contagem 6\n"
     ]
    }
   ],
   "source": [
    "contador = 0\n",
    "for intervar in [3, 41, 12, 9, 74, 15]:\n",
    "    contador = contador + 1\n",
    "print(f\"Contagem {contador}\")"
   ]
  },
  {
   "cell_type": "markdown",
   "id": "1722cbd0",
   "metadata": {},
   "source": [
    "Nós ajustamos __contador__ para zero antes do laço começar, então nós escrevemos um laço __for__ para percorrer a lista de números. Nossa variável de iteração é chamada de __itervar__ e enquanto nós não usamos o itervar no laço, ele controla o laço e faz com que o corpo desse laço seja executado uma vez para cada um dos valores na lista.\n",
    "\n",
    "No corpo da repetição, adicionamos 1 ao valor atual de contador para cada um dos valores na lista. Enquanto o laço está executando, o valor de contador é o número de valores que percorremos “até agora”.\n",
    "\n",
    "Depois que a repetição é concluída, o valor de contador é o número total de itens. O número total “cai do céu” no final do ciclo. Nós construímos o laço para que tenhamos o que queremos quando ele terminar. \n",
    "\n",
    "Outro laço semelhante que calcula o total de um conjunto de números é o seguinte:"
   ]
  },
  {
   "cell_type": "code",
   "execution_count": 3,
   "id": "86138d93",
   "metadata": {},
   "outputs": [
    {
     "name": "stdout",
     "output_type": "stream",
     "text": [
      "total: 90\n"
     ]
    }
   ],
   "source": [
    "total = 0\n",
    "for itevar in [3,41,12,9,74,15]:\n",
    "    total = total + intervar\n",
    "print(f\"total: {total}\")"
   ]
  },
  {
   "cell_type": "markdown",
   "id": "d40efcf9",
   "metadata": {},
   "source": [
    "Nesse loop, *usamos a variável de iteração*. Em vez de simplesmente adicionar um a contagem, como na repetição anterior, nós adicionamos o número real (3, 41,12, etc.) ao total durante cada iteração de repetição. Se você pensar na variável __total__, ela contém o *“total de valores percorridos até agora”*. Então, antes que a repetição comece,__total__ é zero porque ainda não vimos nenhum valor. Durante todo o laço, __total__ é o total atualizado e, ao final do laço, __total__ é o valor de todos os valores na lista.\n",
    "\n",
    "Conforme o laço é executado, total acumula a soma dos elementos; uma variável\n",
    "usada dessa forma às vezes é chamada de *acumulador*.\n",
    "\n",
    "Nem o laço de contagem nem o de soma são particularmente úteis na prática,\n",
    "porque existem funções internas `len()` e `sum()` que calculam o número de itens em uma lista e o total dos itens em uma lista, respectivamente."
   ]
  },
  {
   "cell_type": "markdown",
   "id": "d3de3583",
   "metadata": {},
   "source": [
    "# 5.6.2 Repetições máximas e mínimas\n",
    "\n",
    "Para achar o máximo valor em uma lista ou sequência, construímos a seguinte\n",
    "repetição: "
   ]
  },
  {
   "cell_type": "code",
   "execution_count": null,
   "id": "7867aed3",
   "metadata": {},
   "outputs": [],
   "source": [
    "\n",
    "maximo = None\n",
    "print(f\"Antes: {maximo}\")\n",
    "for itervar in [3, 41, 12, 9, 74, 15]:\n",
    "    if maximo is None or itervar > maximo:\n",
    "        maximo = itervar\n",
    "    print(f\"Laço: {itervar} {maximo}\")\n",
    "print(f\"Máximo: {maximo}\")"
   ]
  },
  {
   "cell_type": "markdown",
   "id": "b4f4ef36",
   "metadata": {},
   "source": [
    "A variável __máximo__ é melhor considerada como o “maior valor que vimos até agora”. Antes da repetição, definimos máximo como a constante None. __None__ *é uma constante de valor especial que podemos armazenar em uma variável para marcá-la\n",
    "como “vazia”*.\n",
    "\n",
    "Antes do início do laço, o maior valor que temos até agora é None, já que nós\n",
    "ainda não percorremos nenhum valor. Enquanto o laço está sendo executado, se o\n",
    "máximo for None, então nós pegamos o primeiro valor que vemos como o maior até\n",
    "agora. Você pode ver na primeira iteração quando o valor do itervar é 3, já que\n",
    "máximo é None, nós imediatamente definimos máximo como sendo 3.\n",
    "\n",
    "Após a primeira iteração, máximo não é mais None, então a __segunda__ parte da\n",
    "expressão lógica composta que verifica se itervar > máximo é acionada apenas\n",
    "quando vemos um valor que é maior que o “maior até agora”. Quando vemos um\n",
    "novo “ainda maior”, nós levamos esse novo valor para o máximo. Você pode ver na\n",
    "saída do programa que máximo progride de 3 para 41 e de 41 para 74.\n",
    "\n",
    "No final do laço, verificamos todos os valores e a variável máximo agora contém o\n",
    "maior valor da lista.\n",
    "\n",
    "Para calcular o menor número, o código é muito semelhante com uma pequena\n",
    "alteração:"
   ]
  },
  {
   "cell_type": "code",
   "execution_count": 20,
   "id": "550b8718",
   "metadata": {},
   "outputs": [
    {
     "name": "stdout",
     "output_type": "stream",
     "text": [
      "Antes: None\n",
      "Mínimo: 03 - 03\n",
      "Mínimo: 41 - 03\n",
      "Mínimo: 12 - 03\n",
      "Mínimo: 09 - 03\n",
      "Mínimo: 74 - 03\n",
      "Mínimo: 15 - 03\n",
      "Minimo: 03\n"
     ]
    }
   ],
   "source": [
    "minimo = None\n",
    "print(f\"Antes: {minimo}\")\n",
    "for itervar in [3,41,12,9,74,15]:\n",
    "    if minimo is None or itervar < minimo:\n",
    "        minimo = itervar\n",
    "    print(f\"Mínimo: {itervar:02d} - {minimo:02d}\")\n",
    "print(f\"Minimo: {minimo:02d}\")"
   ]
  },
  {
   "cell_type": "markdown",
   "id": "78497fd2",
   "metadata": {},
   "source": [
    "Novamente, __mínimo__ é o “menor até agora” antes, durante e depois que o laço é\n",
    "executado. Quando o laço concluir, mínimo contém o menor valor da lista.\n",
    "\n",
    "Novamente, como na contagem e na soma, as funções incorporadas  `max()` e `min()`\n",
    "fazem esses laços desnecessários.\n",
    "\n",
    "A seguir, uma versão simples da função embutida `min()` do Python:\n"
   ]
  },
  {
   "cell_type": "code",
   "execution_count": 21,
   "id": "28171857",
   "metadata": {},
   "outputs": [],
   "source": [
    "def min(valores):\n",
    "    minimo= None\n",
    "    for valor in valores:\n",
    "        if minimo is None or valor < minimo:\n",
    "            minimo= valor\n",
    "    return(minimo)"
   ]
  },
  {
   "cell_type": "markdown",
   "id": "fa70025b",
   "metadata": {},
   "source": [
    "Na versão da função para encontrar o menor valor, nós removemos todas os comandos print, de modo a ser equivalente à função min que já está embutida no Python."
   ]
  },
  {
   "cell_type": "markdown",
   "id": "d4d8c051",
   "metadata": {},
   "source": [
    "# Capítulo 06 - Strings"
   ]
  },
  {
   "cell_type": "markdown",
   "id": "e060a9b0",
   "metadata": {},
   "source": [
    "## 6.1 String é uma sequência\n",
    "String é uma sequência de caracteres. Você pode acessar os caracteres um de cada\n",
    "vez com o operador colchetes:"
   ]
  },
  {
   "cell_type": "code",
   "execution_count": 1,
   "metadata": {},
   "outputs": [],
   "source": [
    "fruta = 'banana'\n",
    "letra = fruta[1]"
   ]
  },
  {
   "cell_type": "code",
   "execution_count": 3,
   "id": "a04e31c9",
   "metadata": {},
   "outputs": [
    {
     "name": "stdout",
     "output_type": "stream",
     "text": [
      "a\n"
     ]
    }
   ],
   "source": [
    "#como indice começa em zero a inidce 1 é a e não b\n",
    "print(letra)"
   ]
  },
  {
   "cell_type": "code",
   "execution_count": 4,
   "metadata": {},
   "outputs": [
    {
     "name": "stdout",
     "output_type": "stream",
     "text": [
      "b\n"
     ]
    }
   ],
   "source": [
    "letra = fruta[0]\n",
    "print(letra)"
   ]
  },
  {
   "cell_type": "markdown",
   "id": "4301c8fa",
   "metadata": {},
   "source": [
    "## 6.2 Obtendo o comprimento de uma string utilizando *len*"
   ]
  },
  {
   "cell_type": "code",
   "execution_count": 5,
   "id": "5eac06c7",
   "metadata": {},
   "outputs": [
    {
     "data": {
      "text/plain": [
       "6"
      ]
     },
     "execution_count": 5,
     "metadata": {},
     "output_type": "execute_result"
    }
   ],
   "source": [
    "fruta = 'banana'\n",
    "len(fruta)"
   ]
  },
  {
   "cell_type": "code",
   "execution_count": 7,
   "metadata": {},
   "outputs": [],
   "source": [
    "# obtendo a última letra da string\n",
    "comprimento = len(fruta)\n",
    "ultima  = fruta[comprimento-1]"
   ]
  },
  {
   "cell_type": "markdown",
   "id": "dd54cd34",
   "metadata": {},
   "source": [
    "## 6.3 Travessia de strings usando laço"
   ]
  },
  {
   "cell_type": "code",
   "execution_count": 8,
   "metadata": {},
   "outputs": [
    {
     "name": "stdout",
     "output_type": "stream",
     "text": [
      "b\n",
      "a\n",
      "n\n",
      "a\n",
      "n\n",
      "a\n"
     ]
    }
   ],
   "source": [
    "indice = 0\n",
    "while indice < len(fruta):\n",
    "    letra = fruta[indice]\n",
    "    print(letra)\n",
    "    indice = indice + 1"
   ]
  },
  {
   "cell_type": "markdown",
   "id": "084d5ea8",
   "metadata": {},
   "source": [
    "## 6.4 Segmentos de strings\n",
    "\n",
    "Um segmento de uma string é chamado `slice`."
   ]
  },
  {
   "cell_type": "code",
   "execution_count": 9,
   "id": "1c8810c1",
   "metadata": {},
   "outputs": [
    {
     "name": "stdout",
     "output_type": "stream",
     "text": [
      "Monty\n"
     ]
    }
   ],
   "source": [
    "s = 'Monty Python'\n",
    "print(s[0:5])"
   ]
  },
  {
   "cell_type": "code",
   "execution_count": 10,
   "metadata": {},
   "outputs": [
    {
     "name": "stdout",
     "output_type": "stream",
     "text": [
      "Python\n"
     ]
    }
   ],
   "source": [
    "print(s[6:12])"
   ]
  },
  {
   "cell_type": "code",
   "execution_count": 11,
   "metadata": {},
   "outputs": [
    {
     "data": {
      "text/plain": [
       "'ban'"
      ]
     },
     "execution_count": 11,
     "metadata": {},
     "output_type": "execute_result"
    }
   ],
   "source": [
    "fruta = 'banana'\n",
    "fruta[:3]"
   ]
  },
  {
   "cell_type": "code",
   "execution_count": 12,
   "metadata": {},
   "outputs": [
    {
     "data": {
      "text/plain": [
       "'ana'"
      ]
     },
     "execution_count": 12,
     "metadata": {},
     "output_type": "execute_result"
    }
   ],
   "source": [
    "fruta[3:]"
   ]
  },
  {
   "cell_type": "code",
   "execution_count": 14,
   "metadata": {},
   "outputs": [
    {
     "name": "stdout",
     "output_type": "stream",
     "text": [
      "\n"
     ]
    }
   ],
   "source": [
    "print(fruta[3:3])"
   ]
  },
  {
   "cell_type": "markdown",
   "id": "032d3210",
   "metadata": {},
   "source": [
    "## 6.5 Strings são imutáveis"
   ]
  },
  {
   "cell_type": "code",
   "execution_count": 16,
   "metadata": {},
   "outputs": [
    {
     "ename": "TypeError",
     "evalue": "'str' object does not support item assignment",
     "output_type": "error",
     "traceback": [
      "\u001b[0;31m---------------------------------------------------------------------------\u001b[0m",
      "\u001b[0;31mTypeError\u001b[0m                                 Traceback (most recent call last)",
      "\u001b[1;32m/home/anselmo/Documentos/cursos/freecodecamp/py4e_learn/src/book.ipynb Cell 50\u001b[0m in \u001b[0;36m<cell line: 2>\u001b[0;34m()\u001b[0m\n\u001b[1;32m      <a href='vscode-notebook-cell:/home/anselmo/Documentos/cursos/freecodecamp/py4e_learn/src/book.ipynb#Y252sZmlsZQ%3D%3D?line=0'>1</a>\u001b[0m saudacao \u001b[39m=\u001b[39m \u001b[39m\"\u001b[39m\u001b[39mAlô Mundo!\u001b[39m\u001b[39m\"\u001b[39m\n\u001b[0;32m----> <a href='vscode-notebook-cell:/home/anselmo/Documentos/cursos/freecodecamp/py4e_learn/src/book.ipynb#Y252sZmlsZQ%3D%3D?line=1'>2</a>\u001b[0m saudacao[\u001b[39m0\u001b[39m] \u001b[39m=\u001b[39m\u001b[39m'\u001b[39m\u001b[39mO\u001b[39m\u001b[39m'\u001b[39m\n",
      "\u001b[0;31mTypeError\u001b[0m: 'str' object does not support item assignment"
     ]
    }
   ],
   "source": [
    "saudacao = \"Alô Mundo!\"\n",
    "saudacao[0] ='O'"
   ]
  },
  {
   "cell_type": "code",
   "execution_count": 18,
   "id": "03cb5344",
   "metadata": {},
   "outputs": [
    {
     "name": "stdout",
     "output_type": "stream",
     "text": [
      "Olô Mundo\n"
     ]
    }
   ],
   "source": [
    "saudacao = \"Alô Mundo\"\n",
    "nova_saudacao = 'O' + saudacao[1:]\n",
    "print(nova_saudacao)"
   ]
  },
  {
   "cell_type": "markdown",
   "id": "80fc7e15",
   "metadata": {},
   "source": [
    "## 6.6 Laços e contagem"
   ]
  },
  {
   "cell_type": "code",
   "execution_count": 1,
   "id": "d6ccd4ab",
   "metadata": {},
   "outputs": [
    {
     "name": "stdout",
     "output_type": "stream",
     "text": [
      "3\n"
     ]
    }
   ],
   "source": [
    "palavra = 'banana'\n",
    "contagem = 0\n",
    "for letra in palavra:\n",
    "    if letra == 'a':\n",
    "        contagem = contagem + 1\n",
    "print(contagem)"
   ]
  },
  {
   "cell_type": "markdown",
   "id": "78fe8749",
   "metadata": {},
   "source": [
    "## 6.7 O operador *in*"
   ]
  },
  {
   "cell_type": "code",
   "execution_count": 2,
   "metadata": {},
   "outputs": [
    {
     "data": {
      "text/plain": [
       "True"
      ]
     },
     "execution_count": 2,
     "metadata": {},
     "output_type": "execute_result"
    }
   ],
   "source": [
    "'a' in 'banana'"
   ]
  },
  {
   "cell_type": "code",
   "execution_count": 3,
   "id": "bb61a43d",
   "metadata": {},
   "outputs": [
    {
     "data": {
      "text/plain": [
       "False"
      ]
     },
     "execution_count": 3,
     "metadata": {},
     "output_type": "execute_result"
    }
   ],
   "source": [
    "'semente' in 'banana'"
   ]
  },
  {
   "cell_type": "markdown",
   "id": "bea70077",
   "metadata": {},
   "source": [
    "## 6.8 Comparação de strings"
   ]
  },
  {
   "cell_type": "markdown",
   "id": "cbc61963",
   "metadata": {},
   "source": [
    "## 6.9 Métodos da String"
   ]
  },
  {
   "cell_type": "code",
   "execution_count": 2,
   "id": "95c1be18",
   "metadata": {},
   "outputs": [
    {
     "data": {
      "text/plain": [
       "str"
      ]
     },
     "execution_count": 2,
     "metadata": {},
     "output_type": "execute_result"
    }
   ],
   "source": [
    "# Dir -> lista os métodos disponiveis para um objeto\n",
    "# type -> Mostra o tipo de objeto\n",
    "coisa = \"Olá Mundo\"\n",
    "type(coisa)"
   ]
  },
  {
   "cell_type": "code",
   "execution_count": 3,
   "id": "056da2f3",
   "metadata": {},
   "outputs": [
    {
     "data": {
      "text/plain": [
       "['__add__',\n",
       " '__class__',\n",
       " '__contains__',\n",
       " '__delattr__',\n",
       " '__dir__',\n",
       " '__doc__',\n",
       " '__eq__',\n",
       " '__format__',\n",
       " '__ge__',\n",
       " '__getattribute__',\n",
       " '__getitem__',\n",
       " '__getnewargs__',\n",
       " '__gt__',\n",
       " '__hash__',\n",
       " '__init__',\n",
       " '__init_subclass__',\n",
       " '__iter__',\n",
       " '__le__',\n",
       " '__len__',\n",
       " '__lt__',\n",
       " '__mod__',\n",
       " '__mul__',\n",
       " '__ne__',\n",
       " '__new__',\n",
       " '__reduce__',\n",
       " '__reduce_ex__',\n",
       " '__repr__',\n",
       " '__rmod__',\n",
       " '__rmul__',\n",
       " '__setattr__',\n",
       " '__sizeof__',\n",
       " '__str__',\n",
       " '__subclasshook__',\n",
       " 'capitalize',\n",
       " 'casefold',\n",
       " 'center',\n",
       " 'count',\n",
       " 'encode',\n",
       " 'endswith',\n",
       " 'expandtabs',\n",
       " 'find',\n",
       " 'format',\n",
       " 'format_map',\n",
       " 'index',\n",
       " 'isalnum',\n",
       " 'isalpha',\n",
       " 'isascii',\n",
       " 'isdecimal',\n",
       " 'isdigit',\n",
       " 'isidentifier',\n",
       " 'islower',\n",
       " 'isnumeric',\n",
       " 'isprintable',\n",
       " 'isspace',\n",
       " 'istitle',\n",
       " 'isupper',\n",
       " 'join',\n",
       " 'ljust',\n",
       " 'lower',\n",
       " 'lstrip',\n",
       " 'maketrans',\n",
       " 'partition',\n",
       " 'removeprefix',\n",
       " 'removesuffix',\n",
       " 'replace',\n",
       " 'rfind',\n",
       " 'rindex',\n",
       " 'rjust',\n",
       " 'rpartition',\n",
       " 'rsplit',\n",
       " 'rstrip',\n",
       " 'split',\n",
       " 'splitlines',\n",
       " 'startswith',\n",
       " 'strip',\n",
       " 'swapcase',\n",
       " 'title',\n",
       " 'translate',\n",
       " 'upper',\n",
       " 'zfill']"
      ]
     },
     "execution_count": 3,
     "metadata": {},
     "output_type": "execute_result"
    }
   ],
   "source": [
    "dir(coisa)"
   ]
  },
  {
   "cell_type": "code",
   "execution_count": 4,
   "id": "43210d21",
   "metadata": {},
   "outputs": [
    {
     "name": "stdout",
     "output_type": "stream",
     "text": [
      "Help on method_descriptor:\n",
      "\n",
      "capitalize(self, /)\n",
      "    Return a capitalized version of the string.\n",
      "    \n",
      "    More specifically, make the first character have upper case and the rest lower\n",
      "    case.\n",
      "\n"
     ]
    }
   ],
   "source": [
    "help(str.capitalize)"
   ]
  },
  {
   "cell_type": "code",
   "execution_count": 7,
   "id": "7229751f",
   "metadata": {},
   "outputs": [
    {
     "name": "stdout",
     "output_type": "stream",
     "text": [
      "BANANA\n"
     ]
    }
   ],
   "source": [
    "# upper - converte todas as letras para maiusculas\n",
    "palavra = \"banana\"\n",
    "nova_palavra = palavra.upper()\n",
    "print(nova_palavra)\n"
   ]
  },
  {
   "cell_type": "code",
   "execution_count": 8,
   "id": "47a20f72",
   "metadata": {},
   "outputs": [
    {
     "name": "stdout",
     "output_type": "stream",
     "text": [
      "1\n"
     ]
    }
   ],
   "source": [
    "#find -> procura um posição de uma string dentro da outra\n",
    "palavra = 'banana' \n",
    "indice = palavra.find('a')\n",
    "print(indice)"
   ]
  },
  {
   "cell_type": "code",
   "execution_count": 9,
   "id": "9ca3ddf8",
   "metadata": {},
   "outputs": [
    {
     "data": {
      "text/plain": [
       "2"
      ]
     },
     "execution_count": 9,
     "metadata": {},
     "output_type": "execute_result"
    }
   ],
   "source": [
    "#porcurando substring com find\n",
    "palavra.find(\"na\")"
   ]
  },
  {
   "cell_type": "code",
   "execution_count": 11,
   "id": "e03c1eff",
   "metadata": {},
   "outputs": [
    {
     "name": "stdout",
     "output_type": "stream",
     "text": [
      "4\n"
     ]
    }
   ],
   "source": [
    "# procurando a partir de um indice\n",
    "print(palavra.find('na',3))"
   ]
  },
  {
   "cell_type": "code",
   "execution_count": 13,
   "id": "c3991cb8",
   "metadata": {},
   "outputs": [
    {
     "name": "stdout",
     "output_type": "stream",
     "text": [
      "Aqui vamos nós\n"
     ]
    }
   ],
   "source": [
    "# strip -> remove espaços em branco do começo e do final da string \n",
    "linha = '  Aqui vamos nós  '\n",
    "print(linha.strip())\n"
   ]
  },
  {
   "cell_type": "code",
   "execution_count": 14,
   "id": "f1393cc8",
   "metadata": {},
   "outputs": [
    {
     "data": {
      "text/plain": [
       "True"
      ]
     },
     "execution_count": 14,
     "metadata": {},
     "output_type": "execute_result"
    }
   ],
   "source": [
    "# startswith retorna um booelano se a sbtring começar com o paramentro informado\n",
    "linha = 'Tenha um bom dia'\n",
    "linha.startswith('Tenha')"
   ]
  },
  {
   "cell_type": "code",
   "execution_count": 15,
   "id": "07a45af3",
   "metadata": {},
   "outputs": [
    {
     "data": {
      "text/plain": [
       "False"
      ]
     },
     "execution_count": 15,
     "metadata": {},
     "output_type": "execute_result"
    }
   ],
   "source": [
    "linha.startswith('t')"
   ]
  },
  {
   "cell_type": "code",
   "execution_count": 16,
   "id": "017264e3",
   "metadata": {},
   "outputs": [
    {
     "data": {
      "text/plain": [
       "False"
      ]
     },
     "execution_count": 16,
     "metadata": {},
     "output_type": "execute_result"
    }
   ],
   "source": [
    "# Lower -> converte todos os caracteres para minúsculos\n",
    "linha = 'Tenha um bom dia'\n",
    "linha.startswith('t')"
   ]
  },
  {
   "cell_type": "code",
   "execution_count": 17,
   "id": "6259178b",
   "metadata": {},
   "outputs": [
    {
     "name": "stdout",
     "output_type": "stream",
     "text": [
      "tenha um bom dia\n",
      "\n",
      "True\n"
     ]
    }
   ],
   "source": [
    "print(linha.lower())\n",
    "print(f\"\\n{linha.lower().startswith('t')}\")"
   ]
  },
  {
   "cell_type": "markdown",
   "id": "5e97b5db",
   "metadata": {},
   "source": [
    "## 6.10 Particionando strings"
   ]
  },
  {
   "cell_type": "markdown",
   "id": "3fc59dc6",
   "metadata": {},
   "source": [
    "Frequentemente, nós precisamos analisar o que há dentro de uma string e encontrar uma substring. Por exemplo, se nos for apresentada uma sequência de linhas formatadas da seguinte forma:\n",
    "\n",
    "From stephen.marquard@uct.ac.za Sat Jan 5 09:14:16 2008\n",
    "\n",
    "e nós quisermos particionar somente a segunda metade do endereço (i.e.,uct.ac.za)\n",
    "de cada linha, podemos fazer isso utilizando o método find e o fatiamento de\n",
    "strings.\n",
    "\n",
    "Primeiramente, acharemos a posição do sinal arroba (@) na string. Depois, achare-\n",
    "mos a posição do primeiro espaço após o arroba. Só então utilizaremos o fatiamento\n",
    "para extrair a parte da string que estamos buscando."
   ]
  },
  {
   "cell_type": "code",
   "execution_count": 24,
   "id": "3ea65267",
   "metadata": {},
   "outputs": [
    {
     "name": "stdout",
     "output_type": "stream",
     "text": [
      "21\n"
     ]
    }
   ],
   "source": [
    "data = 'From stephen.marquard@uct.ac.za Sat Jan 5 09:14:16 2008'\n",
    "antes_pos = data.find('@')\n",
    "print(atpos)"
   ]
  },
  {
   "cell_type": "code",
   "execution_count": 21,
   "id": "43197deb",
   "metadata": {},
   "outputs": [
    {
     "name": "stdout",
     "output_type": "stream",
     "text": [
      "31\n"
     ]
    }
   ],
   "source": [
    "depois_pos = data.find(' ', atpos)\n",
    "print(sppos)"
   ]
  },
  {
   "cell_type": "code",
   "execution_count": 25,
   "id": "211369c6",
   "metadata": {},
   "outputs": [
    {
     "name": "stdout",
     "output_type": "stream",
     "text": [
      "uct.ac.za\n"
     ]
    }
   ],
   "source": [
    "host = data[antes_pos+1:depois_pos]\n",
    "print(host)"
   ]
  },
  {
   "cell_type": "markdown",
   "id": "2c7d5f7d",
   "metadata": {},
   "source": [
    "## 6.11 Operador de Formatação\n",
    "O *operador de formatação %* nos permite construir strings, substituindo partes\n",
    "destas strings pela informação contida em variáveis. Quando aplicamos à inteiros,"
   ]
  },
  {
   "cell_type": "code",
   "execution_count": 2,
   "id": "045e8b97",
   "metadata": {},
   "outputs": [
    {
     "name": "stdout",
     "output_type": "stream",
     "text": [
      "42\n"
     ]
    }
   ],
   "source": [
    "camelos = 42\n",
    "print('%d' % camelos)"
   ]
  },
  {
   "cell_type": "code",
   "execution_count": 5,
   "id": "e67be12c",
   "metadata": {},
   "outputs": [
    {
     "name": "stdout",
     "output_type": "stream",
     "text": [
      "Eu vi 42 camelos\n"
     ]
    }
   ],
   "source": [
    "camelos = 42\n",
    "print('Eu vi %d camelos' % camelos)"
   ]
  },
  {
   "cell_type": "code",
   "execution_count": 23,
   "id": "ab99ddd0",
   "metadata": {},
   "outputs": [
    {
     "name": "stdout",
     "output_type": "stream",
     "text": [
      ".ma\n"
     ]
    }
   ],
   "source": [
    "data = 'From stephen.marquard@uct.ac.za Sat Jan  5 09:14:16 2008'\n",
    "pos = data.find('.')\n",
    "print(data[pos:pos+3])"
   ]
  },
  {
   "cell_type": "code",
   "execution_count": 7,
   "id": "4dc5fa2f",
   "metadata": {},
   "outputs": [
    {
     "data": {
      "text/plain": [
       "'Em 3 anos eu vi 0.1 camelos.'"
      ]
     },
     "execution_count": 7,
     "metadata": {},
     "output_type": "execute_result"
    }
   ],
   "source": [
    "# usando %d para formatar inteiros e g% para formatar ponto flutuante\n",
    "'Em %d anos eu vi %g %s.' %(3,0.1,'camelos')"
   ]
  },
  {
   "cell_type": "markdown",
   "id": "0c90a189",
   "metadata": {},
   "source": [
    "## Capítulo 7 Arquivos\n",
    "\n",
    "Até agora, aprendemos como escrever programas e comunicar nossas intenções para a ***Unidade Central de Processamento*** usando a execução condicional, funções e iterações. Aprendemos como criar e usar estruturas de dados na Memória Principal. A CPU e a memória são onde o nosso software funciona e é executado, é onde todoo “pensamento” acontece.\n",
    "\n",
    "Mas se você se lembrar de nossas discussões de arquitetura de hardware, uma vez que a energia é desligada, qualquer coisa armazenada na CPU ou memória principal é apagada. Então, até agora, nossos programas foram apenas exercícios divertidos para aprender Python.\n",
    "\n",
    "![SecundaryMemory](figura_7.1.png)\n",
    "\n",
    "Neste capítulo, começamos a trabalhar com ***Memória Secundária*** (ou arquivos). Esta não é apagada quando a energia é desligada. Ou, no caso de uma unidade flash USB, os dados que escrevemos de nossos programas podem ser removidos do sistema e transportados para outro sistema.\n"
   ]
  },
  {
   "cell_type": "markdown",
   "id": "49f17cff",
   "metadata": {},
   "source": [
    "## 7.2 Abrindo um arquivo"
   ]
  },
  {
   "cell_type": "code",
   "execution_count": 2,
   "id": "4c72ccad",
   "metadata": {},
   "outputs": [
    {
     "name": "stdout",
     "output_type": "stream",
     "text": [
      "<_io.TextIOWrapper name='mbox.txt' mode='r' encoding='UTF-8'>\n"
     ]
    }
   ],
   "source": [
    "#para ler um arquivo devemos abri-lo com o comando \"open\"\n",
    "#Se openfor bem-sucedido, o sistema operacional retornará um identificador de arquivo.\n",
    "arquivo = open('mbox.txt')\n",
    "print(arquivo)"
   ]
  },
  {
   "cell_type": "markdown",
   "id": "7d292fdd",
   "metadata": {},
   "source": [
    "Se openfor bem-sucedido, o sistema operacional retornará um __identificador__ de arquivo.\n",
    "\n",
    "![File Jandle](figura_7.2.png)\n",
    "\n",
    "\n",
    "Se o arquivo não existir, open falhará com um Traceback e você não receberá um\n",
    "identificador para acessar o conteúdo dele:\n"
   ]
  },
  {
   "cell_type": "code",
   "execution_count": 3,
   "id": "d33ea9e9",
   "metadata": {},
   "outputs": [
    {
     "ename": "FileNotFoundError",
     "evalue": "[Errno 2] No such file or directory: 'stuff.txt'",
     "output_type": "error",
     "traceback": [
      "\u001b[0;31m---------------------------------------------------------------------------\u001b[0m",
      "\u001b[0;31mFileNotFoundError\u001b[0m                         Traceback (most recent call last)",
      "\u001b[1;32m/home/anselmo/Documentos/cursos/freecodecamp/py4e_learn/src/book.ipynb Cell 85\u001b[0m in \u001b[0;36m<cell line: 1>\u001b[0;34m()\u001b[0m\n\u001b[0;32m----> <a href='vscode-notebook-cell:/home/anselmo/Documentos/cursos/freecodecamp/py4e_learn/src/book.ipynb#Y400sZmlsZQ%3D%3D?line=0'>1</a>\u001b[0m fhand \u001b[39m=\u001b[39m \u001b[39mopen\u001b[39;49m(\u001b[39m'\u001b[39;49m\u001b[39mstuff.txt\u001b[39;49m\u001b[39m'\u001b[39;49m)\n",
      "\u001b[0;31mFileNotFoundError\u001b[0m: [Errno 2] No such file or directory: 'stuff.txt'"
     ]
    }
   ],
   "source": [
    "fhand = open('stuff.txt')"
   ]
  },
  {
   "cell_type": "markdown",
   "id": "cc22ce7e",
   "metadata": {},
   "source": [
    "## 7.3 Arquivos de texto e linhas"
   ]
  },
  {
   "cell_type": "code",
   "execution_count": 4,
   "id": "567cdcd4",
   "metadata": {},
   "outputs": [
    {
     "data": {
      "text/plain": [
       "'Olá\\nmundo!'"
      ]
     },
     "execution_count": 4,
     "metadata": {},
     "output_type": "execute_result"
    }
   ],
   "source": [
    "'''\n",
    "Em Python, representamos o caractere * newLine * como \\n em strings constantes.\n",
    "Mesmo que pareça ser dois caracteres, é na verdade um só. Quando olhamos para\n",
    "a variável inserindo “algo” no intérprete, ele nos mostra o \\n na string, mas quando\n",
    "usamos ‘print’ para mostrá-la, nós vemos a string quebrada em duas linhas pelo\n",
    "newline.\n",
    "'''\n",
    "\n",
    "algo = 'Olá\\nmundo!'\n",
    "algo"
   ]
  },
  {
   "cell_type": "code",
   "execution_count": 5,
   "id": "78e039ae",
   "metadata": {},
   "outputs": [
    {
     "name": "stdout",
     "output_type": "stream",
     "text": [
      "Olá\n",
      "mundo!\n"
     ]
    }
   ],
   "source": [
    "print(algo)"
   ]
  },
  {
   "cell_type": "code",
   "execution_count": 8,
   "id": "3ac0b1af",
   "metadata": {},
   "outputs": [
    {
     "name": "stdout",
     "output_type": "stream",
     "text": [
      "Z\n",
      "Y\n"
     ]
    }
   ],
   "source": [
    "algo = 'Z\\nY'\n",
    "print(algo)"
   ]
  },
  {
   "cell_type": "code",
   "execution_count": 10,
   "id": "5f4982d1",
   "metadata": {},
   "outputs": [
    {
     "data": {
      "text/plain": [
       "3"
      ]
     },
     "execution_count": 10,
     "metadata": {},
     "output_type": "execute_result"
    }
   ],
   "source": [
    "#Você também pode ver que o comprimento da string X\\nY é * três * porque o\n",
    "#newline é um único caractere.\n",
    "\n",
    "len(algo)"
   ]
  },
  {
   "cell_type": "markdown",
   "id": "ff5b4475",
   "metadata": {},
   "source": [
    "## 7.4 Lendo arquivos"
   ]
  },
  {
   "cell_type": "code",
   "execution_count": 11,
   "id": "35c70c77",
   "metadata": {},
   "outputs": [
    {
     "name": "stdout",
     "output_type": "stream",
     "text": [
      "Line Count: 1910\n"
     ]
    }
   ],
   "source": [
    "# Contando o númemro de linhas do arquivo\n",
    "fhand = open('mbox-short.txt')\n",
    "count = 0\n",
    "for line in fhand:\n",
    "    count = count + 1\n",
    "    \n",
    "print('Line Count:', count)\n"
   ]
  },
  {
   "cell_type": "markdown",
   "id": "050a4f89",
   "metadata": {},
   "source": [
    "Se você sabe que o tamanho do arquivo é relativamente pequeno comparado ao da sua memória principal, então pode ler o arquivo todo em uma string usando o método read do identificador de arquivo."
   ]
  },
  {
   "cell_type": "code",
   "execution_count": 17,
   "id": "d18c9715",
   "metadata": {},
   "outputs": [
    {
     "name": "stdout",
     "output_type": "stream",
     "text": [
      "From stephen.marquard@uct.ac.za Sat Jan  5 09:14:16 2008\n",
      "Return-Path: <postmaster@collab.sakaiproject.org>\n",
      "Received: from murder (mail.umich.edu [141.211.14.90])\n",
      "\t by frankenstein.mail.umich.edu (Cyrus v2.3.8) with LMTPA;\n",
      "\t Sat, 05 Jan 2008 09:14:16 -0500\n",
      "X-Sieve: CMU Sieve 2.3\n",
      "Received: from murder ([unix socket])\n",
      "\t by mail.umich.edu (Cyrus v2.2.12) with LMTPA;\n",
      "\t Sat, 05 Jan 2008 09:14:16 -0500\n",
      "Received: from holes.mr.itd.umich.edu (holes.mr.itd.umich.edu [141.211.14.79])\n",
      "\tby flawless.mail.umich.edu () with ESMTP id m05EEFR1013674;\n",
      "\tSat, 5 Jan 2008 09:14:15 -0500\n",
      "Received: FROM paploo.uhi.ac.uk (app1.prod.collab.uhi.ac.uk [194.35.219.184])\n",
      "\tBY holes.mr.itd.umich.edu ID 477F90B0.2DB2F.12494 ; \n",
      "\t 5 Jan 2008 09:14:10 -0500\n",
      "Received: from paploo.uhi.ac.uk (localhost [127.0.0.1])\n",
      "\tby paploo.uhi.ac.uk (Postfix) with ESMTP id 5F919BC2F2;\n",
      "\tSat,  5 Jan 2008 14:10:05 +0000 (GMT)\n",
      "Message-ID: <200801051412.m05ECIaH010327@nakamura.uits.iupui.edu>\n",
      "Mime-Version: 1.0\n",
      "Content-Transfer-Encoding: 7bit\n",
      "Received: from prod.collab.uhi.ac.uk ([194.35.219.182])\n",
      "          by paploo.uhi.ac.uk (JAMES SMTP Server 2.1.3) with SMTP ID 899\n",
      "          for <source@collab.sakaiproject.org>;\n",
      "          Sat, 5 Jan 2008 14:09:50 +0000 (GMT)\n",
      "Received: from nakamura.uits.iupui.edu (nakamura.uits.iupui.edu [134.68.220.122])\n",
      "\tby shmi.uhi.ac.uk (Postfix) with ESMTP id A215243002\n",
      "\tfor <source@collab.sakaiproject.org>; Sat,  5 Jan 2008 14:13:33 +0000 (GMT)\n",
      "Received: from nakamura.uits.iupui.edu (localhost [127.0.0.1])\n",
      "\tby nakamura.uits.iupui.edu (8.12.11.20060308/8.12.11) with ESMTP id m05ECJVp010329\n",
      "\tfor <source@collab.sakaiproject.org>; Sat, 5 Jan 2008 09:12:19 -0500\n",
      "Received: (from apache@localhost)\n",
      "\tby nakamura.uits.iupui.edu (8.12.11.20060308/8.12.11/Submit) id m05ECIaH010327\n",
      "\tfor source@collab.sakaiproject.org; Sat, 5 Jan 2008 09:12:18 -0500\n",
      "Date: Sat, 5 Jan 2008 09:12:18 -0500\n",
      "X-Authentication-Warning: nakamura.uits.iupui.edu: apache set sender to stephen.marquard@uct.ac.za using -f\n",
      "To: source@collab.sakaiproject.org\n",
      "From: stephen.marquard@uct.ac.za\n",
      "Subject: [sakai] svn commit: r39772 - content/branches/sakai_2-5-x/content-impl/impl/src/java/org/sakaiproject/content/impl\n",
      "X-Content-Type-Outer-Envelope: text/plain; charset=UTF-8\n",
      "X-Content-Type-Message-Body: text/plain; charset=UTF-8\n",
      "Content-Type: text/plain; charset=UTF-8\n",
      "X-DSPAM-Result: Innocent\n",
      "X-DSPAM-Processed: Sat Jan  5 09:14:16 2008\n",
      "X-DSPAM-Confidence: 0.8475\n",
      "X-DSPAM-Probability: 0.0000\n",
      "\n",
      "Details: http://source.sakaiproject.org/viewsvn/?view=rev&rev=39772\n",
      "\n",
      "Author: stephen.marquard@uct.ac.za\n",
      "Date: 2008-01-05 09:12:07 -0500 (Sat, 05 Jan 2008)\n",
      "New Revision: 39772\n",
      "\n",
      "Modified:\n",
      "content/branches/sakai_2-5-x/content-impl/impl/src/java/org/sakaiproject/content/impl/ContentServiceSqlOracle.java\n",
      "content/branches/sakai_2-5-x/content-impl/impl/src/java/org/sakaiproject/content/impl/DbContentService.java\n",
      "Log:\n",
      "SAK-12501 merge to 2-5-x: r39622, r39624:5, r39632:3 (resolve conflict from differing linebreaks for r39622)\n",
      "\n",
      "----------------------\n",
      "This automatic notification message was sent by Sakai Collab (https://collab.sakaiproject.org/portal) from the Source site.\n",
      "You can modify how you receive notifications at My Workspace > Preferences.\n",
      "\n",
      "\n",
      "\n",
      "From louis@media.berkeley.edu Fri Jan  4 18:10:48 2008\n",
      "Return-Path: <postmaster@collab.sakaiproject.org>\n",
      "Received: from murder (mail.umich.edu [141.211.14.97])\n",
      "\t by frankenstein.mail.umich.edu (Cyrus v2.3.8) with LMTPA;\n",
      "\t Fri, 04 Jan 2008 18:10:48 -0500\n",
      "X-Sieve: CMU Sieve 2.3\n",
      "Received: from murder ([unix socket])\n",
      "\t by mail.umich.edu (Cyrus v2.2.12) with LMTPA;\n",
      "\t Fri, 04 Jan 2008 18:10:48 -0500\n",
      "Received: from icestorm.mr.itd.umich.edu (icestorm.mr.itd.umich.edu [141.211.93.149])\n",
      "\tby sleepers.mail.umich.edu () with ESMTP id m04NAbGa029441;\n",
      "\tFri, 4 Jan 2008 18:10:37 -0500\n",
      "Received: FROM paploo.uhi.ac.uk (app1.prod.collab.uhi.ac.uk [194.35.219.184])\n",
      "\tBY icestorm.mr.itd.umich.edu ID 477EBCE3.161BB.4320 ; \n",
      "\t 4 Jan 2008 18:10:31 -0500\n",
      "Received: from paploo.uhi.ac.uk (localhost [127.0.0.1])\n",
      "\tby paploo.uhi.ac.uk (Postfix) with ESMTP id 07969BB706;\n",
      "\tFri,  4 Jan 2008 23:10:33 +0000 (GMT)\n",
      "Message-ID: <200801042308.m04N8v6O008125@nakamura.uits.iupui.edu>\n",
      "Mime-Version: 1.0\n",
      "Content-Transfer-Encoding: 7bit\n",
      "Received: from prod.collab.uhi.ac.uk ([194.35.219.182])\n",
      "          by paploo.uhi.ac.uk (JAMES SMTP Server 2.1.3) with SMTP ID 710\n",
      "          for <source@collab.sakaiproject.org>;\n",
      "          Fri, 4 Jan 2008 23:10:10 +0000 (GMT)\n",
      "Received: from nakamura.uits.iupui.edu (nakamura.uits.iupui.edu [134.68.220.122])\n",
      "\tby shmi.uhi.ac.uk (Postfix) with ESMTP id 4BA2F42F57\n",
      "\tfor <source@collab.sakaiproject.org>; Fri,  4 Jan 2008 23:10:10 +0000 (GMT)\n",
      "Received: from nakamura.uits.iupui.edu (localhost [127.0.0.1])\n",
      "\tby nakamura.uits.iupui.edu (8.12.11.20060308/8.12.11) with ESMTP id m04N8vHG008127\n",
      "\tfor <source@collab.sakaiproject.org>; Fri, 4 Jan 2008 18:08:57 -0500\n",
      "Received: (from apache@localhost)\n",
      "\tby nakamura.uits.iupui.edu (8.12.11.20060308/8.12.11/Submit) id m04N8v6O008125\n",
      "\tfor source@collab.sakaiproject.org; Fri, 4 Jan 2008 18:08:57 -0500\n",
      "Date: Fri, 4 Jan 2008 18:08:57 -0500\n",
      "X-Authentication-Warning: nakamura.uits.iupui.edu: apache set sender to louis@media.berkeley.edu using -f\n",
      "To: source@collab.sakaiproject.org\n",
      "From: louis@media.berkeley.edu\n",
      "Subject: [sakai] svn commit: r39771 - in bspace/site-manage/sakai_2-4-x/site-manage-tool/tool/src: bundle java/org/sakaiproject/site/tool\n",
      "X-Content-Type-Outer-Envelope: text/plain; charset=UTF-8\n",
      "X-Content-Type-Message-Body: text/plain; charset=UTF-8\n",
      "Content-Type: text/plain; charset=UTF-8\n",
      "X-DSPAM-Result: Innocent\n",
      "X-DSPAM-Processed: Fri Jan  4 18:10:48 2008\n",
      "X-DSPAM-Confidence: 0.6178\n",
      "X-DSPAM-Probability: 0.0000\n",
      "\n",
      "Details: http://source.sakaiproject.org/viewsvn/?view=rev&rev=39771\n",
      "\n",
      "Author: louis@media.berkeley.edu\n",
      "Date: 2008-01-04 18:08:50 -0500 (Fri, 04 Jan 2008)\n",
      "New Revision: 39771\n",
      "\n",
      "Modified:\n",
      "bspace/site-manage/sakai_2-4-x/site-manage-tool/tool/src/bundle/sitesetupgeneric.properties\n",
      "bspace/site-manage/sakai_2-4-x/site-manage-tool/tool/src/java/org/sakaiproject/site/tool/SiteAction.java\n",
      "Log:\n",
      "BSP-1415 New (Guest) user Notification\n",
      "\n",
      "----------------------\n",
      "This automatic notification message was sent by Sakai Collab (https://collab.sakaiproject.org/portal) from the Source site.\n",
      "You can modify how you receive notifications at My Workspace > Preferences.\n",
      "\n",
      "\n",
      "\n",
      "From zqian@umich.edu Fri Jan  4 16:10:39 2008\n",
      "Return-Path: <postmaster@collab.sakaiproject.org>\n",
      "Received: from murder (mail.umich.edu [141.211.14.25])\n",
      "\t by frankenstein.mail.umich.edu (Cyrus v2.3.8) with LMTPA;\n",
      "\t Fri, 04 Jan 2008 16:10:39 -0500\n",
      "X-Sieve: CMU Sieve 2.3\n",
      "Received: from murder ([unix socket])\n",
      "\t by mail.umich.edu (Cyrus v2.2.12) with LMTPA;\n",
      "\t Fri, 04 Jan 2008 16:10:39 -0500\n",
      "Received: from ghostbusters.mr.itd.umich.edu (ghostbusters.mr.itd.umich.edu [141.211.93.144])\n",
      "\tby panther.mail.umich.edu () with ESMTP id m04LAcZw014275;\n",
      "\tFri, 4 Jan 2008 16:10:38 -0500\n",
      "Received: FROM paploo.uhi.ac.uk (app1.prod.collab.uhi.ac.uk [194.35.219.184])\n",
      "\tBY ghostbusters.mr.itd.umich.edu ID 477EA0C6.A0214.25480 ; \n",
      "\t 4 Jan 2008 16:10:33 -0500\n",
      "Received: from paploo.uhi.ac.uk (localhost [127.0.0.1])\n",
      "\tby paploo.uhi.ac.uk (Postfix) with ESMTP id C48CDBB490;\n",
      "\tFri,  4 Jan 2008 21:10:31 +0000 (GMT)\n",
      "Message-ID: <200801042109.m04L92hb007923@nakamura.uits.iupui.edu>\n",
      "Mime-Version: 1.0\n",
      "Content-Transfer-Encoding: 7bit\n",
      "Received: from prod.collab.uhi.ac.uk ([194.35.219.182])\n",
      "          by paploo.uhi.ac.uk (JAMES SMTP Server 2.1.3) with SMTP ID 906\n",
      "          for <source@collab.sakaiproject.org>;\n",
      "          Fri, 4 Jan 2008 21:10:18 +0000 (GMT)\n",
      "Received: from nakamura.uits.iupui.edu (nakamura.uits.iupui.edu [134.68.220.122])\n",
      "\tby shmi.uhi.ac.uk (Postfix) with ESMTP id 7D13042F71\n",
      "\tfor <source@collab.sakaiproject.org>; Fri,  4 Jan 2008 21:10:14 +0000 (GMT)\n",
      "Received: from nakamura.uits.iupui.edu (localhost [127.0.0.1])\n",
      "\tby nakamura.uits.iupui.edu (8.12.11.20060308/8.12.11) with ESMTP id m04L927E007925\n",
      "\tfor <source@collab.sakaiproject.org>; Fri, 4 Jan 2008 16:09:02 -0500\n",
      "Received: (from apache@localhost)\n",
      "\tby nakamura.uits.iupui.edu (8.12.11.20060308/8.12.11/Submit) id m04L92hb007923\n",
      "\tfor source@collab.sakaiproject.org; Fri, 4 Jan 2008 16:09:02 -0500\n",
      "Date: Fri, 4 Jan 2008 16:09:02 -0500\n",
      "X-Authentication-Warning: nakamura.uits.iupui.edu: apache set sender to zqian@umich.edu using -f\n",
      "To: source@collab.sakaiproject.org\n",
      "From: zqian@umich.edu\n",
      "Subject: [sakai] svn commit: r39770 - site-manage/branches/sakai_2-5-x/site-manage-tool/tool/src/webapp/vm/sitesetup\n",
      "X-Content-Type-Outer-Envelope: text/plain; charset=UTF-8\n",
      "X-Content-Type-Message-Body: text/plain; charset=UTF-8\n",
      "Content-Type: text/plain; charset=UTF-8\n",
      "X-DSPAM-Result: Innocent\n",
      "X-DSPAM-Processed: Fri Jan  4 16:10:39 2008\n",
      "X-DSPAM-Confidence: 0.6961\n",
      "X-DSPAM-Probability: 0.0000\n",
      "\n",
      "Details: http://source.sakaiproject.org/viewsvn/?view=rev&rev=39770\n",
      "\n",
      "Author: zqian@umich.edu\n",
      "Date: 2008-01-04 16:09:01 -0500 (Fri, 04 Jan 2008)\n",
      "New Revision: 39770\n",
      "\n",
      "Modified:\n",
      "site-manage/branches/sakai_2-5-x/site-manage-tool/tool/src/webapp/vm/sitesetup/chef_site-siteInfo-list.vm\n",
      "Log:\n",
      "merge fix to SAK-9996 into 2-5-x branch: svn merge -r 39687:39688 https://source.sakaiproject.org/svn/site-manage/trunk/\n",
      "\n",
      "----------------------\n",
      "This automatic notification message was sent by Sakai Collab (https://collab.sakaiproject.org/portal) from the Source site.\n",
      "You can modify how you receive notifications at My Workspace > Preferences.\n",
      "\n",
      "\n",
      "\n",
      "From rjlowe@iupui.edu Fri Jan  4 15:46:24 2008\n",
      "Return-Path: <postmaster@collab.sakaiproject.org>\n",
      "Received: from murder (mail.umich.edu [141.211.14.25])\n",
      "\t by frankenstein.mail.umich.edu (Cyrus v2.3.8) with LMTPA;\n",
      "\t Fri, 04 Jan 2008 15:46:24 -0500\n",
      "X-Sieve: CMU Sieve 2.3\n",
      "Received: from murder ([unix socket])\n",
      "\t by mail.umich.edu (Cyrus v2.2.12) with LMTPA;\n",
      "\t Fri, 04 Jan 2008 15:46:24 -0500\n",
      "Received: from dreamcatcher.mr.itd.umich.edu (dreamcatcher.mr.itd.umich.edu [141.211.14.43])\n",
      "\tby panther.mail.umich.edu () with ESMTP id m04KkNbx032077;\n",
      "\tFri, 4 Jan 2008 15:46:23 -0500\n",
      "Received: FROM paploo.uhi.ac.uk (app1.prod.collab.uhi.ac.uk [194.35.219.184])\n",
      "\tBY dreamcatcher.mr.itd.umich.edu ID 477E9B13.2F3BC.22965 ; \n",
      "\t 4 Jan 2008 15:46:13 -0500\n",
      "Received: from paploo.uhi.ac.uk (localhost [127.0.0.1])\n",
      "\tby paploo.uhi.ac.uk (Postfix) with ESMTP id 4AE03BB552;\n",
      "\tFri,  4 Jan 2008 20:46:13 +0000 (GMT)\n",
      "Message-ID: <200801042044.m04Kiem3007881@nakamura.uits.iupui.edu>\n",
      "Mime-Version: 1.0\n",
      "Content-Transfer-Encoding: 7bit\n",
      "Received: from prod.collab.uhi.ac.uk ([194.35.219.182])\n",
      "          by paploo.uhi.ac.uk (JAMES SMTP Server 2.1.3) with SMTP ID 38\n",
      "          for <source@collab.sakaiproject.org>;\n",
      "          Fri, 4 Jan 2008 20:45:56 +0000 (GMT)\n",
      "Received: from nakamura.uits.iupui.edu (nakamura.uits.iupui.edu [134.68.220.122])\n",
      "\tby shmi.uhi.ac.uk (Postfix) with ESMTP id A55D242F57\n",
      "\tfor <source@collab.sakaiproject.org>; Fri,  4 Jan 2008 20:45:52 +0000 (GMT)\n",
      "Received: from nakamura.uits.iupui.edu (localhost [127.0.0.1])\n",
      "\tby nakamura.uits.iupui.edu (8.12.11.20060308/8.12.11) with ESMTP id m04KieqE007883\n",
      "\tfor <source@collab.sakaiproject.org>; Fri, 4 Jan 2008 15:44:40 -0500\n",
      "Received: (from apache@localhost)\n",
      "\tby nakamura.uits.iupui.edu (8.12.11.20060308/8.12.11/Submit) id m04Kiem3007881\n",
      "\tfor source@collab.sakaiproject.org; Fri, 4 Jan 2008 15:44:40 -0500\n",
      "Date: Fri, 4 Jan 2008 15:44:40 -0500\n",
      "X-Authentication-Warning: nakamura.uits.iupui.edu: apache set sender to rjlowe@iupui.edu using -f\n",
      "To: source@collab.sakaiproject.org\n",
      "From: rjlowe@iupui.edu\n",
      "Subject: [sakai] svn commit: r39769 - in gradebook/trunk/app/ui/src: java/org/sakaiproject/tool/gradebook/ui/helpers/beans java/org/sakaiproject/tool/gradebook/ui/helpers/producers webapp/WEB-INF webapp/WEB-INF/bundle\n",
      "X-Content-Type-Outer-Envelope: text/plain; charset=UTF-8\n",
      "X-Content-Type-Message-Body: text/plain; charset=UTF-8\n",
      "Content-Type: text/plain; charset=UTF-8\n",
      "X-DSPAM-Result: Innocent\n",
      "X-DSPAM-Processed: Fri Jan  4 15:46:24 2008\n",
      "X-DSPAM-Confidence: 0.7565\n",
      "X-DSPAM-Probability: 0.0000\n",
      "\n",
      "Details: http://source.sakaiproject.org/viewsvn/?view=rev&rev=39769\n",
      "\n",
      "Author: rjlowe@iupui.edu\n",
      "Date: 2008-01-04 15:44:39 -0500 (Fri, 04 Jan 2008)\n",
      "New Revision: 39769\n",
      "\n",
      "Modified:\n",
      "gradebook/trunk/app/ui/src/java/org/sakaiproject/tool/gradebook/ui/helpers/beans/AssignmentGradeRecordBean.java\n",
      "gradebook/trunk/app/ui/src/java/org/sakaiproject/tool/gradebook/ui/helpers/producers/GradeGradebookItemProducer.java\n",
      "gradebook/trunk/app/ui/src/webapp/WEB-INF/applicationContext.xml\n",
      "gradebook/trunk/app/ui/src/webapp/WEB-INF/bundle/messages.properties\n",
      "gradebook/trunk/app/ui/src/webapp/WEB-INF/requestContext.xml\n",
      "Log:\n",
      "SAK-12180 - Fixed errors with grading helper\n",
      "\n",
      "----------------------\n",
      "This automatic notification message was sent by Sakai Collab (https://collab.sakaiproject.org/portal) from the Source site.\n",
      "You can modify how you receive notifications at My Workspace > Preferences.\n",
      "\n",
      "\n",
      "\n",
      "From zqian@umich.edu Fri Jan  4 15:03:18 2008\n",
      "Return-Path: <postmaster@collab.sakaiproject.org>\n",
      "Received: from murder (mail.umich.edu [141.211.14.46])\n",
      "\t by frankenstein.mail.umich.edu (Cyrus v2.3.8) with LMTPA;\n",
      "\t Fri, 04 Jan 2008 15:03:18 -0500\n",
      "X-Sieve: CMU Sieve 2.3\n",
      "Received: from murder ([unix socket])\n",
      "\t by mail.umich.edu (Cyrus v2.2.12) with LMTPA;\n",
      "\t Fri, 04 Jan 2008 15:03:18 -0500\n",
      "Received: from firestarter.mr.itd.umich.edu (firestarter.mr.itd.umich.edu [141.211.14.83])\n",
      "\tby fan.mail.umich.edu () with ESMTP id m04K3HGF006563;\n",
      "\tFri, 4 Jan 2008 15:03:17 -0500\n",
      "Received: FROM paploo.uhi.ac.uk (app1.prod.collab.uhi.ac.uk [194.35.219.184])\n",
      "\tBY firestarter.mr.itd.umich.edu ID 477E9100.8F7F4.1590 ; \n",
      "\t 4 Jan 2008 15:03:15 -0500\n",
      "Received: from paploo.uhi.ac.uk (localhost [127.0.0.1])\n",
      "\tby paploo.uhi.ac.uk (Postfix) with ESMTP id 57770BB477;\n",
      "\tFri,  4 Jan 2008 20:03:09 +0000 (GMT)\n",
      "Message-ID: <200801042001.m04K1cO0007738@nakamura.uits.iupui.edu>\n",
      "Mime-Version: 1.0\n",
      "Content-Transfer-Encoding: 7bit\n",
      "Received: from prod.collab.uhi.ac.uk ([194.35.219.182])\n",
      "          by paploo.uhi.ac.uk (JAMES SMTP Server 2.1.3) with SMTP ID 622\n",
      "          for <source@collab.sakaiproject.org>;\n",
      "          Fri, 4 Jan 2008 20:02:46 +0000 (GMT)\n",
      "Received: from nakamura.uits.iupui.edu (nakamura.uits.iupui.edu [134.68.220.122])\n",
      "\tby shmi.uhi.ac.uk (Postfix) with ESMTP id AB4D042F4D\n",
      "\tfor <source@collab.sakaiproject.org>; Fri,  4 Jan 2008 20:02:50 +0000 (GMT)\n",
      "Received: from nakamura.uits.iupui.edu (localhost [127.0.0.1])\n",
      "\tby nakamura.uits.iupui.edu (8.12.11.20060308/8.12.11) with ESMTP id m04K1cXv007740\n",
      "\tfor <source@collab.sakaiproject.org>; Fri, 4 Jan 2008 15:01:38 -0500\n",
      "Received: (from apache@localhost)\n",
      "\tby nakamura.uits.iupui.edu (8.12.11.20060308/8.12.11/Submit) id m04K1cO0007738\n",
      "\tfor source@collab.sakaiproject.org; Fri, 4 Jan 2008 15:01:38 -0500\n",
      "Date: Fri, 4 Jan 2008 15:01:38 -0500\n",
      "X-Authentication-Warning: nakamura.uits.iupui.edu: apache set sender to zqian@umich.edu using -f\n",
      "To: source@collab.sakaiproject.org\n",
      "From: zqian@umich.edu\n",
      "Subject: [sakai] svn commit: r39766 - site-manage/branches/sakai_2-4-x/site-manage-tool/tool/src/java/org/sakaiproject/site/tool\n",
      "X-Content-Type-Outer-Envelope: text/plain; charset=UTF-8\n",
      "X-Content-Type-Message-Body: text/plain; charset=UTF-8\n",
      "Content-Type: text/plain; charset=UTF-8\n",
      "X-DSPAM-Result: Innocent\n",
      "X-DSPAM-Processed: Fri Jan  4 15:03:18 2008\n",
      "X-DSPAM-Confidence: 0.7626\n",
      "X-DSPAM-Probability: 0.0000\n",
      "\n",
      "Details: http://source.sakaiproject.org/viewsvn/?view=rev&rev=39766\n",
      "\n",
      "Author: zqian@umich.edu\n",
      "Date: 2008-01-04 15:01:37 -0500 (Fri, 04 Jan 2008)\n",
      "New Revision: 39766\n",
      "\n",
      "Modified:\n",
      "site-manage/branches/sakai_2-4-x/site-manage-tool/tool/src/java/org/sakaiproject/site/tool/SiteAction.java\n",
      "Log:\n",
      "merge fix to SAK-10788 into site-manage 2.4.x branch:\n",
      "\n",
      "Sakai Source Repository  \t#38024  \tWed Nov 07 14:54:46 MST 2007  \tzqian@umich.edu  \t Fix to SAK-10788: If a provided id in a couse site is fake or doesn't provide any user information, Site Info appears to be like project site with empty participant list\n",
      "\n",
      "Watch for enrollments object being null and concatenate provider ids when there are more than one.\n",
      "Files Changed\n",
      "MODIFY /site-manage/trunk/site-manage-tool/tool/src/java/org/sakaiproject/site/tool/SiteAction.java \n",
      "\n",
      "\n",
      "\n",
      "\n",
      "----------------------\n",
      "This automatic notification message was sent by Sakai Collab (https://collab.sakaiproject.org/portal) from the Source site.\n",
      "You can modify how you receive notifications at My Workspace > Preferences.\n",
      "\n",
      "\n",
      "\n",
      "From rjlowe@iupui.edu Fri Jan  4 14:50:18 2008\n",
      "Return-Path: <postmaster@collab.sakaiproject.org>\n",
      "Received: from murder (mail.umich.edu [141.211.14.93])\n",
      "\t by frankenstein.mail.umich.edu (Cyrus v2.3.8) with LMTPA;\n",
      "\t Fri, 04 Jan 2008 14:50:18 -0500\n",
      "X-Sieve: CMU Sieve 2.3\n",
      "Received: from murder ([unix socket])\n",
      "\t by mail.umich.edu (Cyrus v2.2.12) with LMTPA;\n",
      "\t Fri, 04 Jan 2008 14:50:18 -0500\n",
      "Received: from eyewitness.mr.itd.umich.edu (eyewitness.mr.itd.umich.edu [141.211.93.142])\n",
      "\tby mission.mail.umich.edu () with ESMTP id m04JoHJi019755;\n",
      "\tFri, 4 Jan 2008 14:50:17 -0500\n",
      "Received: FROM paploo.uhi.ac.uk (app1.prod.collab.uhi.ac.uk [194.35.219.184])\n",
      "\tBY eyewitness.mr.itd.umich.edu ID 477E8DF2.67B91.5278 ; \n",
      "\t 4 Jan 2008 14:50:13 -0500\n",
      "Received: from paploo.uhi.ac.uk (localhost [127.0.0.1])\n",
      "\tby paploo.uhi.ac.uk (Postfix) with ESMTP id 2D1B9BB492;\n",
      "\tFri,  4 Jan 2008 19:47:10 +0000 (GMT)\n",
      "Message-ID: <200801041948.m04JmdwO007705@nakamura.uits.iupui.edu>\n",
      "Mime-Version: 1.0\n",
      "Content-Transfer-Encoding: 7bit\n",
      "Received: from prod.collab.uhi.ac.uk ([194.35.219.182])\n",
      "          by paploo.uhi.ac.uk (JAMES SMTP Server 2.1.3) with SMTP ID 960\n",
      "          for <source@collab.sakaiproject.org>;\n",
      "          Fri, 4 Jan 2008 19:46:50 +0000 (GMT)\n",
      "Received: from nakamura.uits.iupui.edu (nakamura.uits.iupui.edu [134.68.220.122])\n",
      "\tby shmi.uhi.ac.uk (Postfix) with ESMTP id B3E6742F4A\n",
      "\tfor <source@collab.sakaiproject.org>; Fri,  4 Jan 2008 19:49:51 +0000 (GMT)\n",
      "Received: from nakamura.uits.iupui.edu (localhost [127.0.0.1])\n",
      "\tby nakamura.uits.iupui.edu (8.12.11.20060308/8.12.11) with ESMTP id m04JmeV9007707\n",
      "\tfor <source@collab.sakaiproject.org>; Fri, 4 Jan 2008 14:48:40 -0500\n",
      "Received: (from apache@localhost)\n",
      "\tby nakamura.uits.iupui.edu (8.12.11.20060308/8.12.11/Submit) id m04JmdwO007705\n",
      "\tfor source@collab.sakaiproject.org; Fri, 4 Jan 2008 14:48:39 -0500\n",
      "Date: Fri, 4 Jan 2008 14:48:39 -0500\n",
      "X-Authentication-Warning: nakamura.uits.iupui.edu: apache set sender to rjlowe@iupui.edu using -f\n",
      "To: source@collab.sakaiproject.org\n",
      "From: rjlowe@iupui.edu\n",
      "Subject: [sakai] svn commit: r39765 - in gradebook/trunk/app: business/src/java/org/sakaiproject/tool/gradebook/business business/src/java/org/sakaiproject/tool/gradebook/business/impl ui ui/src/java/org/sakaiproject/tool/gradebook/ui/helpers/beans ui/src/java/org/sakaiproject/tool/gradebook/ui/helpers/entity ui/src/java/org/sakaiproject/tool/gradebook/ui/helpers/params ui/src/java/org/sakaiproject/tool/gradebook/ui/helpers/producers ui/src/webapp/WEB-INF ui/src/webapp/WEB-INF/bundle ui/src/webapp/content/templates\n",
      "X-Content-Type-Outer-Envelope: text/plain; charset=UTF-8\n",
      "X-Content-Type-Message-Body: text/plain; charset=UTF-8\n",
      "Content-Type: text/plain; charset=UTF-8\n",
      "X-DSPAM-Result: Innocent\n",
      "X-DSPAM-Processed: Fri Jan  4 14:50:18 2008\n",
      "X-DSPAM-Confidence: 0.7556\n",
      "X-DSPAM-Probability: 0.0000\n",
      "\n",
      "Details: http://source.sakaiproject.org/viewsvn/?view=rev&rev=39765\n",
      "\n",
      "Author: rjlowe@iupui.edu\n",
      "Date: 2008-01-04 14:48:37 -0500 (Fri, 04 Jan 2008)\n",
      "New Revision: 39765\n",
      "\n",
      "Added:\n",
      "gradebook/trunk/app/ui/src/java/org/sakaiproject/tool/gradebook/ui/helpers/beans/AssignmentGradeRecordBean.java\n",
      "gradebook/trunk/app/ui/src/java/org/sakaiproject/tool/gradebook/ui/helpers/beans/AssignmentGradeRecordCreator.java\n",
      "gradebook/trunk/app/ui/src/java/org/sakaiproject/tool/gradebook/ui/helpers/entity/GradebookEntryGradeEntityProvider.java\n",
      "gradebook/trunk/app/ui/src/java/org/sakaiproject/tool/gradebook/ui/helpers/params/GradeGradebookItemViewParams.java\n",
      "gradebook/trunk/app/ui/src/java/org/sakaiproject/tool/gradebook/ui/helpers/producers/GradeGradebookItemProducer.java\n",
      "gradebook/trunk/app/ui/src/webapp/content/templates/grade-gradebook-item.html\n",
      "Modified:\n",
      "gradebook/trunk/app/business/src/java/org/sakaiproject/tool/gradebook/business/GradebookManager.java\n",
      "gradebook/trunk/app/business/src/java/org/sakaiproject/tool/gradebook/business/impl/GradebookManagerHibernateImpl.java\n",
      "gradebook/trunk/app/ui/pom.xml\n",
      "gradebook/trunk/app/ui/src/java/org/sakaiproject/tool/gradebook/ui/helpers/beans/GradebookItemBean.java\n",
      "gradebook/trunk/app/ui/src/java/org/sakaiproject/tool/gradebook/ui/helpers/entity/GradebookEntryEntityProvider.java\n",
      "gradebook/trunk/app/ui/src/java/org/sakaiproject/tool/gradebook/ui/helpers/producers/AddGradebookItemProducer.java\n",
      "gradebook/trunk/app/ui/src/webapp/WEB-INF/applicationContext.xml\n",
      "gradebook/trunk/app/ui/src/webapp/WEB-INF/bundle/messages.properties\n",
      "gradebook/trunk/app/ui/src/webapp/WEB-INF/requestContext.xml\n",
      "Log:\n",
      "SAK-12180 - New helper tool to grade an assignment\n",
      "\n",
      "----------------------\n",
      "This automatic notification message was sent by Sakai Collab (https://collab.sakaiproject.org/portal) from the Source site.\n",
      "You can modify how you receive notifications at My Workspace > Preferences.\n",
      "\n",
      "\n",
      "\n",
      "From cwen@iupui.edu Fri Jan  4 11:37:30 2008\n",
      "Return-Path: <postmaster@collab.sakaiproject.org>\n",
      "Received: from murder (mail.umich.edu [141.211.14.46])\n",
      "\t by frankenstein.mail.umich.edu (Cyrus v2.3.8) with LMTPA;\n",
      "\t Fri, 04 Jan 2008 11:37:30 -0500\n",
      "X-Sieve: CMU Sieve 2.3\n",
      "Received: from murder ([unix socket])\n",
      "\t by mail.umich.edu (Cyrus v2.2.12) with LMTPA;\n",
      "\t Fri, 04 Jan 2008 11:37:30 -0500\n",
      "Received: from tadpole.mr.itd.umich.edu (tadpole.mr.itd.umich.edu [141.211.14.72])\n",
      "\tby fan.mail.umich.edu () with ESMTP id m04GbT9x022078;\n",
      "\tFri, 4 Jan 2008 11:37:29 -0500\n",
      "Received: FROM paploo.uhi.ac.uk (app1.prod.collab.uhi.ac.uk [194.35.219.184])\n",
      "\tBY tadpole.mr.itd.umich.edu ID 477E60B2.82756.9904 ; \n",
      "\t 4 Jan 2008 11:37:09 -0500\n",
      "Received: from paploo.uhi.ac.uk (localhost [127.0.0.1])\n",
      "\tby paploo.uhi.ac.uk (Postfix) with ESMTP id 8D13DBB001;\n",
      "\tFri,  4 Jan 2008 16:37:07 +0000 (GMT)\n",
      "Message-ID: <200801041635.m04GZQGZ007313@nakamura.uits.iupui.edu>\n",
      "Mime-Version: 1.0\n",
      "Content-Transfer-Encoding: 7bit\n",
      "Received: from prod.collab.uhi.ac.uk ([194.35.219.182])\n",
      "          by paploo.uhi.ac.uk (JAMES SMTP Server 2.1.3) with SMTP ID 120\n",
      "          for <source@collab.sakaiproject.org>;\n",
      "          Fri, 4 Jan 2008 16:36:40 +0000 (GMT)\n",
      "Received: from nakamura.uits.iupui.edu (nakamura.uits.iupui.edu [134.68.220.122])\n",
      "\tby shmi.uhi.ac.uk (Postfix) with ESMTP id D430B42E42\n",
      "\tfor <source@collab.sakaiproject.org>; Fri,  4 Jan 2008 16:36:37 +0000 (GMT)\n",
      "Received: from nakamura.uits.iupui.edu (localhost [127.0.0.1])\n",
      "\tby nakamura.uits.iupui.edu (8.12.11.20060308/8.12.11) with ESMTP id m04GZQ7W007315\n",
      "\tfor <source@collab.sakaiproject.org>; Fri, 4 Jan 2008 11:35:26 -0500\n",
      "Received: (from apache@localhost)\n",
      "\tby nakamura.uits.iupui.edu (8.12.11.20060308/8.12.11/Submit) id m04GZQGZ007313\n",
      "\tfor source@collab.sakaiproject.org; Fri, 4 Jan 2008 11:35:26 -0500\n",
      "Date: Fri, 4 Jan 2008 11:35:26 -0500\n",
      "X-Authentication-Warning: nakamura.uits.iupui.edu: apache set sender to cwen@iupui.edu using -f\n",
      "To: source@collab.sakaiproject.org\n",
      "From: cwen@iupui.edu\n",
      "Subject: [sakai] svn commit: r39764 - in msgcntr/trunk/messageforums-app/src/java/org/sakaiproject/tool/messageforums: . ui\n",
      "X-Content-Type-Outer-Envelope: text/plain; charset=UTF-8\n",
      "X-Content-Type-Message-Body: text/plain; charset=UTF-8\n",
      "Content-Type: text/plain; charset=UTF-8\n",
      "X-DSPAM-Result: Innocent\n",
      "X-DSPAM-Processed: Fri Jan  4 11:37:30 2008\n",
      "X-DSPAM-Confidence: 0.7002\n",
      "X-DSPAM-Probability: 0.0000\n",
      "\n",
      "Details: http://source.sakaiproject.org/viewsvn/?view=rev&rev=39764\n",
      "\n",
      "Author: cwen@iupui.edu\n",
      "Date: 2008-01-04 11:35:25 -0500 (Fri, 04 Jan 2008)\n",
      "New Revision: 39764\n",
      "\n",
      "Modified:\n",
      "msgcntr/trunk/messageforums-app/src/java/org/sakaiproject/tool/messageforums/PrivateMessagesTool.java\n",
      "msgcntr/trunk/messageforums-app/src/java/org/sakaiproject/tool/messageforums/ui/PrivateMessageDecoratedBean.java\n",
      "Log:\n",
      "unmerge Xingtang's checkin for SAK-12488.\n",
      "\n",
      "svn merge -r39558:39557 https://source.sakaiproject.org/svn/msgcntr/trunk\n",
      "U    messageforums-app/src/java/org/sakaiproject/tool/messageforums/PrivateMessagesTool.java\n",
      "U    messageforums-app/src/java/org/sakaiproject/tool/messageforums/ui/PrivateMessageDecoratedBean.java\n",
      "\n",
      "svn log -r 39558\n",
      "------------------------------------------------------------------------\n",
      "r39558 | hu2@iupui.edu | 2007-12-20 15:25:38 -0500 (Thu, 20 Dec 2007) | 3 lines\n",
      "\n",
      "SAK-12488\n",
      "when send a message to yourself. click reply to all, cc row should be null.\n",
      "http://jira.sakaiproject.org/jira/browse/SAK-12488\n",
      "------------------------------------------------------------------------\n",
      "\n",
      "\n",
      "----------------------\n",
      "This automatic notification message was sent by Sakai Collab (https://collab.sakaiproject.org/portal) from the Source site.\n",
      "You can modify how you receive notifications at My Workspace > Preferences.\n",
      "\n",
      "\n",
      "\n",
      "From cwen@iupui.edu Fri Jan  4 11:35:08 2008\n",
      "Return-Path: <postmaster@collab.sakaiproject.org>\n",
      "Received: from murder (mail.umich.edu [141.211.14.46])\n",
      "\t by frankenstein.mail.umich.edu (Cyrus v2.3.8) with LMTPA;\n",
      "\t Fri, 04 Jan 2008 11:35:08 -0500\n",
      "X-Sieve: CMU Sieve 2.3\n",
      "Received: from murder ([unix socket])\n",
      "\t by mail.umich.edu (Cyrus v2.2.12) with LMTPA;\n",
      "\t Fri, 04 Jan 2008 11:35:08 -0500\n",
      "Received: from it.mr.itd.umich.edu (it.mr.itd.umich.edu [141.211.93.151])\n",
      "\tby fan.mail.umich.edu () with ESMTP id m04GZ6lt020480;\n",
      "\tFri, 4 Jan 2008 11:35:06 -0500\n",
      "Received: FROM paploo.uhi.ac.uk (app1.prod.collab.uhi.ac.uk [194.35.219.184])\n",
      "\tBY it.mr.itd.umich.edu ID 477E6033.6469D.21870 ; \n",
      "\t 4 Jan 2008 11:35:02 -0500\n",
      "Received: from paploo.uhi.ac.uk (localhost [127.0.0.1])\n",
      "\tby paploo.uhi.ac.uk (Postfix) with ESMTP id E40FABAE5B;\n",
      "\tFri,  4 Jan 2008 16:34:38 +0000 (GMT)\n",
      "Message-ID: <200801041633.m04GX6eG007292@nakamura.uits.iupui.edu>\n",
      "Mime-Version: 1.0\n",
      "Content-Transfer-Encoding: 7bit\n",
      "Received: from prod.collab.uhi.ac.uk ([194.35.219.182])\n",
      "          by paploo.uhi.ac.uk (JAMES SMTP Server 2.1.3) with SMTP ID 697\n",
      "          for <source@collab.sakaiproject.org>;\n",
      "          Fri, 4 Jan 2008 16:34:01 +0000 (GMT)\n",
      "Received: from nakamura.uits.iupui.edu (nakamura.uits.iupui.edu [134.68.220.122])\n",
      "\tby shmi.uhi.ac.uk (Postfix) with ESMTP id 1CD0C42E42\n",
      "\tfor <source@collab.sakaiproject.org>; Fri,  4 Jan 2008 16:34:17 +0000 (GMT)\n",
      "Received: from nakamura.uits.iupui.edu (localhost [127.0.0.1])\n",
      "\tby nakamura.uits.iupui.edu (8.12.11.20060308/8.12.11) with ESMTP id m04GX6Y3007294\n",
      "\tfor <source@collab.sakaiproject.org>; Fri, 4 Jan 2008 11:33:06 -0500\n",
      "Received: (from apache@localhost)\n",
      "\tby nakamura.uits.iupui.edu (8.12.11.20060308/8.12.11/Submit) id m04GX6eG007292\n",
      "\tfor source@collab.sakaiproject.org; Fri, 4 Jan 2008 11:33:06 -0500\n",
      "Date: Fri, 4 Jan 2008 11:33:06 -0500\n",
      "X-Authentication-Warning: nakamura.uits.iupui.edu: apache set sender to cwen@iupui.edu using -f\n",
      "To: source@collab.sakaiproject.org\n",
      "From: cwen@iupui.edu\n",
      "Subject: [sakai] svn commit: r39763 - in msgcntr/trunk: messageforums-api/src/bundle/org/sakaiproject/api/app/messagecenter/bundle messageforums-app/src/java/org/sakaiproject/tool/messageforums\n",
      "X-Content-Type-Outer-Envelope: text/plain; charset=UTF-8\n",
      "X-Content-Type-Message-Body: text/plain; charset=UTF-8\n",
      "Content-Type: text/plain; charset=UTF-8\n",
      "X-DSPAM-Result: Innocent\n",
      "X-DSPAM-Processed: Fri Jan  4 11:35:08 2008\n",
      "X-DSPAM-Confidence: 0.7615\n",
      "X-DSPAM-Probability: 0.0000\n",
      "\n",
      "Details: http://source.sakaiproject.org/viewsvn/?view=rev&rev=39763\n",
      "\n",
      "Author: cwen@iupui.edu\n",
      "Date: 2008-01-04 11:33:05 -0500 (Fri, 04 Jan 2008)\n",
      "New Revision: 39763\n",
      "\n",
      "Modified:\n",
      "msgcntr/trunk/messageforums-api/src/bundle/org/sakaiproject/api/app/messagecenter/bundle/Messages.properties\n",
      "msgcntr/trunk/messageforums-app/src/java/org/sakaiproject/tool/messageforums/PrivateMessagesTool.java\n",
      "Log:\n",
      "unmerge Xingtang's check in for SAK-12484.\n",
      "\n",
      "svn merge -r39571:39570 https://source.sakaiproject.org/svn/msgcntr/trunk\n",
      "U    messageforums-api/src/bundle/org/sakaiproject/api/app/messagecenter/bundle/Messages.properties\n",
      "U    messageforums-app/src/java/org/sakaiproject/tool/messageforums/PrivateMessagesTool.java\n",
      "\n",
      "svn log -r 39571\n",
      "------------------------------------------------------------------------\n",
      "r39571 | hu2@iupui.edu | 2007-12-20 21:26:28 -0500 (Thu, 20 Dec 2007) | 3 lines\n",
      "\n",
      "SAK-12484\n",
      "reply all cc list should not include the current user name.\n",
      "http://jira.sakaiproject.org/jira/browse/SAK-12484\n",
      "------------------------------------------------------------------------\n",
      "\n",
      "\n",
      "----------------------\n",
      "This automatic notification message was sent by Sakai Collab (https://collab.sakaiproject.org/portal) from the Source site.\n",
      "You can modify how you receive notifications at My Workspace > Preferences.\n",
      "\n",
      "\n",
      "\n",
      "From gsilver@umich.edu Fri Jan  4 11:12:37 2008\n",
      "Return-Path: <postmaster@collab.sakaiproject.org>\n",
      "Received: from murder (mail.umich.edu [141.211.14.25])\n",
      "\t by frankenstein.mail.umich.edu (Cyrus v2.3.8) with LMTPA;\n",
      "\t Fri, 04 Jan 2008 11:12:37 -0500\n",
      "X-Sieve: CMU Sieve 2.3\n",
      "Received: from murder ([unix socket])\n",
      "\t by mail.umich.edu (Cyrus v2.2.12) with LMTPA;\n",
      "\t Fri, 04 Jan 2008 11:12:37 -0500\n",
      "Received: from holes.mr.itd.umich.edu (holes.mr.itd.umich.edu [141.211.14.79])\n",
      "\tby panther.mail.umich.edu () with ESMTP id m04GCaHB030887;\n",
      "\tFri, 4 Jan 2008 11:12:36 -0500\n",
      "Received: FROM paploo.uhi.ac.uk (app1.prod.collab.uhi.ac.uk [194.35.219.184])\n",
      "\tBY holes.mr.itd.umich.edu ID 477E5AEB.E670B.28397 ; \n",
      "\t 4 Jan 2008 11:12:30 -0500\n",
      "Received: from paploo.uhi.ac.uk (localhost [127.0.0.1])\n",
      "\tby paploo.uhi.ac.uk (Postfix) with ESMTP id 99715BAE7D;\n",
      "\tFri,  4 Jan 2008 16:12:27 +0000 (GMT)\n",
      "Message-ID: <200801041611.m04GB1Lb007221@nakamura.uits.iupui.edu>\n",
      "Mime-Version: 1.0\n",
      "Content-Transfer-Encoding: 7bit\n",
      "Received: from prod.collab.uhi.ac.uk ([194.35.219.182])\n",
      "          by paploo.uhi.ac.uk (JAMES SMTP Server 2.1.3) with SMTP ID 272\n",
      "          for <source@collab.sakaiproject.org>;\n",
      "          Fri, 4 Jan 2008 16:12:14 +0000 (GMT)\n",
      "Received: from nakamura.uits.iupui.edu (nakamura.uits.iupui.edu [134.68.220.122])\n",
      "\tby shmi.uhi.ac.uk (Postfix) with ESMTP id 0A6ED42DFC\n",
      "\tfor <source@collab.sakaiproject.org>; Fri,  4 Jan 2008 16:12:12 +0000 (GMT)\n",
      "Received: from nakamura.uits.iupui.edu (localhost [127.0.0.1])\n",
      "\tby nakamura.uits.iupui.edu (8.12.11.20060308/8.12.11) with ESMTP id m04GB1Wt007223\n",
      "\tfor <source@collab.sakaiproject.org>; Fri, 4 Jan 2008 11:11:01 -0500\n",
      "Received: (from apache@localhost)\n",
      "\tby nakamura.uits.iupui.edu (8.12.11.20060308/8.12.11/Submit) id m04GB1Lb007221\n",
      "\tfor source@collab.sakaiproject.org; Fri, 4 Jan 2008 11:11:01 -0500\n",
      "Date: Fri, 4 Jan 2008 11:11:01 -0500\n",
      "X-Authentication-Warning: nakamura.uits.iupui.edu: apache set sender to gsilver@umich.edu using -f\n",
      "To: source@collab.sakaiproject.org\n",
      "From: gsilver@umich.edu\n",
      "Subject: [sakai] svn commit: r39762 - web/trunk/web-tool/tool/src/bundle\n",
      "X-Content-Type-Outer-Envelope: text/plain; charset=UTF-8\n",
      "X-Content-Type-Message-Body: text/plain; charset=UTF-8\n",
      "Content-Type: text/plain; charset=UTF-8\n",
      "X-DSPAM-Result: Innocent\n",
      "X-DSPAM-Processed: Fri Jan  4 11:12:37 2008\n",
      "X-DSPAM-Confidence: 0.7601\n",
      "X-DSPAM-Probability: 0.0000\n",
      "\n",
      "Details: http://source.sakaiproject.org/viewsvn/?view=rev&rev=39762\n",
      "\n",
      "Author: gsilver@umich.edu\n",
      "Date: 2008-01-04 11:11:00 -0500 (Fri, 04 Jan 2008)\n",
      "New Revision: 39762\n",
      "\n",
      "Modified:\n",
      "web/trunk/web-tool/tool/src/bundle/iframe.properties\n",
      "Log:\n",
      "SAK-12596\n",
      "http://bugs.sakaiproject.org/jira/browse/SAK-12596\n",
      "- left moot (unused) entries commented for now\n",
      "\n",
      "----------------------\n",
      "This automatic notification message was sent by Sakai Collab (https://collab.sakaiproject.org/portal) from the Source site.\n",
      "You can modify how you receive notifications at My Workspace > Preferences.\n",
      "\n",
      "\n",
      "\n",
      "From gsilver@umich.edu Fri Jan  4 11:11:52 2008\n",
      "Return-Path: <postmaster@collab.sakaiproject.org>\n",
      "Received: from murder (mail.umich.edu [141.211.14.36])\n",
      "\t by frankenstein.mail.umich.edu (Cyrus v2.3.8) with LMTPA;\n",
      "\t Fri, 04 Jan 2008 11:11:52 -0500\n",
      "X-Sieve: CMU Sieve 2.3\n",
      "Received: from murder ([unix socket])\n",
      "\t by mail.umich.edu (Cyrus v2.2.12) with LMTPA;\n",
      "\t Fri, 04 Jan 2008 11:11:52 -0500\n",
      "Received: from creepshow.mr.itd.umich.edu (creepshow.mr.itd.umich.edu [141.211.14.84])\n",
      "\tby godsend.mail.umich.edu () with ESMTP id m04GBqqv025330;\n",
      "\tFri, 4 Jan 2008 11:11:52 -0500\n",
      "Received: FROM paploo.uhi.ac.uk (app1.prod.collab.uhi.ac.uk [194.35.219.184])\n",
      "\tBY creepshow.mr.itd.umich.edu ID 477E5AB3.5CC32.30840 ; \n",
      "\t 4 Jan 2008 11:11:34 -0500\n",
      "Received: from paploo.uhi.ac.uk (localhost [127.0.0.1])\n",
      "\tby paploo.uhi.ac.uk (Postfix) with ESMTP id 62AA4BAE46;\n",
      "\tFri,  4 Jan 2008 16:11:31 +0000 (GMT)\n",
      "Message-ID: <200801041610.m04GA5KP007209@nakamura.uits.iupui.edu>\n",
      "Mime-Version: 1.0\n",
      "Content-Transfer-Encoding: 7bit\n",
      "Received: from prod.collab.uhi.ac.uk ([194.35.219.182])\n",
      "          by paploo.uhi.ac.uk (JAMES SMTP Server 2.1.3) with SMTP ID 1006\n",
      "          for <source@collab.sakaiproject.org>;\n",
      "          Fri, 4 Jan 2008 16:11:18 +0000 (GMT)\n",
      "Received: from nakamura.uits.iupui.edu (nakamura.uits.iupui.edu [134.68.220.122])\n",
      "\tby shmi.uhi.ac.uk (Postfix) with ESMTP id C596A3DFA2\n",
      "\tfor <source@collab.sakaiproject.org>; Fri,  4 Jan 2008 16:11:16 +0000 (GMT)\n",
      "Received: from nakamura.uits.iupui.edu (localhost [127.0.0.1])\n",
      "\tby nakamura.uits.iupui.edu (8.12.11.20060308/8.12.11) with ESMTP id m04GA5LR007211\n",
      "\tfor <source@collab.sakaiproject.org>; Fri, 4 Jan 2008 11:10:05 -0500\n",
      "Received: (from apache@localhost)\n",
      "\tby nakamura.uits.iupui.edu (8.12.11.20060308/8.12.11/Submit) id m04GA5KP007209\n",
      "\tfor source@collab.sakaiproject.org; Fri, 4 Jan 2008 11:10:05 -0500\n",
      "Date: Fri, 4 Jan 2008 11:10:05 -0500\n",
      "X-Authentication-Warning: nakamura.uits.iupui.edu: apache set sender to gsilver@umich.edu using -f\n",
      "To: source@collab.sakaiproject.org\n",
      "From: gsilver@umich.edu\n",
      "Subject: [sakai] svn commit: r39761 - site/trunk/site-tool/tool/src/bundle\n",
      "X-Content-Type-Outer-Envelope: text/plain; charset=UTF-8\n",
      "X-Content-Type-Message-Body: text/plain; charset=UTF-8\n",
      "Content-Type: text/plain; charset=UTF-8\n",
      "X-DSPAM-Result: Innocent\n",
      "X-DSPAM-Processed: Fri Jan  4 11:11:52 2008\n",
      "X-DSPAM-Confidence: 0.7605\n",
      "X-DSPAM-Probability: 0.0000\n",
      "\n",
      "Details: http://source.sakaiproject.org/viewsvn/?view=rev&rev=39761\n",
      "\n",
      "Author: gsilver@umich.edu\n",
      "Date: 2008-01-04 11:10:04 -0500 (Fri, 04 Jan 2008)\n",
      "New Revision: 39761\n",
      "\n",
      "Modified:\n",
      "site/trunk/site-tool/tool/src/bundle/admin.properties\n",
      "Log:\n",
      "SAK-12595\n",
      "http://bugs.sakaiproject.org/jira/browse/SAK-12595\n",
      "- left moot (unused) entries commented for now\n",
      "\n",
      "----------------------\n",
      "This automatic notification message was sent by Sakai Collab (https://collab.sakaiproject.org/portal) from the Source site.\n",
      "You can modify how you receive notifications at My Workspace > Preferences.\n",
      "\n",
      "\n",
      "\n",
      "From zqian@umich.edu Fri Jan  4 11:11:03 2008\n",
      "Return-Path: <postmaster@collab.sakaiproject.org>\n",
      "Received: from murder (mail.umich.edu [141.211.14.97])\n",
      "\t by frankenstein.mail.umich.edu (Cyrus v2.3.8) with LMTPA;\n",
      "\t Fri, 04 Jan 2008 11:11:03 -0500\n",
      "X-Sieve: CMU Sieve 2.3\n",
      "Received: from murder ([unix socket])\n",
      "\t by mail.umich.edu (Cyrus v2.2.12) with LMTPA;\n",
      "\t Fri, 04 Jan 2008 11:11:03 -0500\n",
      "Received: from carrie.mr.itd.umich.edu (carrie.mr.itd.umich.edu [141.211.93.152])\n",
      "\tby sleepers.mail.umich.edu () with ESMTP id m04GB3Vg011502;\n",
      "\tFri, 4 Jan 2008 11:11:03 -0500\n",
      "Received: FROM paploo.uhi.ac.uk (app1.prod.collab.uhi.ac.uk [194.35.219.184])\n",
      "\tBY carrie.mr.itd.umich.edu ID 477E5A8D.B378F.24200 ; \n",
      "\t 4 Jan 2008 11:10:56 -0500\n",
      "Received: from paploo.uhi.ac.uk (localhost [127.0.0.1])\n",
      "\tby paploo.uhi.ac.uk (Postfix) with ESMTP id C7251BAD44;\n",
      "\tFri,  4 Jan 2008 16:10:53 +0000 (GMT)\n",
      "Message-ID: <200801041609.m04G9EuX007197@nakamura.uits.iupui.edu>\n",
      "Mime-Version: 1.0\n",
      "Content-Transfer-Encoding: 7bit\n",
      "Received: from prod.collab.uhi.ac.uk ([194.35.219.182])\n",
      "          by paploo.uhi.ac.uk (JAMES SMTP Server 2.1.3) with SMTP ID 483\n",
      "          for <source@collab.sakaiproject.org>;\n",
      "          Fri, 4 Jan 2008 16:10:27 +0000 (GMT)\n",
      "Received: from nakamura.uits.iupui.edu (nakamura.uits.iupui.edu [134.68.220.122])\n",
      "\tby shmi.uhi.ac.uk (Postfix) with ESMTP id 2E7043DFA2\n",
      "\tfor <source@collab.sakaiproject.org>; Fri,  4 Jan 2008 16:10:26 +0000 (GMT)\n",
      "Received: from nakamura.uits.iupui.edu (localhost [127.0.0.1])\n",
      "\tby nakamura.uits.iupui.edu (8.12.11.20060308/8.12.11) with ESMTP id m04G9Eqg007199\n",
      "\tfor <source@collab.sakaiproject.org>; Fri, 4 Jan 2008 11:09:15 -0500\n",
      "Received: (from apache@localhost)\n",
      "\tby nakamura.uits.iupui.edu (8.12.11.20060308/8.12.11/Submit) id m04G9EuX007197\n",
      "\tfor source@collab.sakaiproject.org; Fri, 4 Jan 2008 11:09:14 -0500\n",
      "Date: Fri, 4 Jan 2008 11:09:14 -0500\n",
      "X-Authentication-Warning: nakamura.uits.iupui.edu: apache set sender to zqian@umich.edu using -f\n",
      "To: source@collab.sakaiproject.org\n",
      "From: zqian@umich.edu\n",
      "Subject: [sakai] svn commit: r39760 - in site-manage/trunk/site-manage-tool/tool/src: java/org/sakaiproject/site/tool webapp/vm/sitesetup\n",
      "X-Content-Type-Outer-Envelope: text/plain; charset=UTF-8\n",
      "X-Content-Type-Message-Body: text/plain; charset=UTF-8\n",
      "Content-Type: text/plain; charset=UTF-8\n",
      "X-DSPAM-Result: Innocent\n",
      "X-DSPAM-Processed: Fri Jan  4 11:11:03 2008\n",
      "X-DSPAM-Confidence: 0.6959\n",
      "X-DSPAM-Probability: 0.0000\n",
      "\n",
      "Details: http://source.sakaiproject.org/viewsvn/?view=rev&rev=39760\n",
      "\n",
      "Author: zqian@umich.edu\n",
      "Date: 2008-01-04 11:09:12 -0500 (Fri, 04 Jan 2008)\n",
      "New Revision: 39760\n",
      "\n",
      "Modified:\n",
      "site-manage/trunk/site-manage-tool/tool/src/java/org/sakaiproject/site/tool/SiteAction.java\n",
      "site-manage/trunk/site-manage-tool/tool/src/webapp/vm/sitesetup/chef_site-siteInfo-list.vm\n",
      "Log:\n",
      "fix to SAK-10911: Refactor use of site.upd, site.upd.site.mbrship and site.upd.grp.mbrship permissions\n",
      "\n",
      "----------------------\n",
      "This automatic notification message was sent by Sakai Collab (https://collab.sakaiproject.org/portal) from the Source site.\n",
      "You can modify how you receive notifications at My Workspace > Preferences.\n",
      "\n",
      "\n",
      "\n",
      "From gsilver@umich.edu Fri Jan  4 11:10:22 2008\n",
      "Return-Path: <postmaster@collab.sakaiproject.org>\n",
      "Received: from murder (mail.umich.edu [141.211.14.39])\n",
      "\t by frankenstein.mail.umich.edu (Cyrus v2.3.8) with LMTPA;\n",
      "\t Fri, 04 Jan 2008 11:10:22 -0500\n",
      "X-Sieve: CMU Sieve 2.3\n",
      "Received: from murder ([unix socket])\n",
      "\t by mail.umich.edu (Cyrus v2.2.12) with LMTPA;\n",
      "\t Fri, 04 Jan 2008 11:10:22 -0500\n",
      "Received: from holes.mr.itd.umich.edu (holes.mr.itd.umich.edu [141.211.14.79])\n",
      "\tby faithful.mail.umich.edu () with ESMTP id m04GAL9k010604;\n",
      "\tFri, 4 Jan 2008 11:10:21 -0500\n",
      "Received: FROM paploo.uhi.ac.uk (app1.prod.collab.uhi.ac.uk [194.35.219.184])\n",
      "\tBY holes.mr.itd.umich.edu ID 477E5A67.34350.23015 ; \n",
      "\t 4 Jan 2008 11:10:18 -0500\n",
      "Received: from paploo.uhi.ac.uk (localhost [127.0.0.1])\n",
      "\tby paploo.uhi.ac.uk (Postfix) with ESMTP id 98D04BAD43;\n",
      "\tFri,  4 Jan 2008 16:10:11 +0000 (GMT)\n",
      "Message-ID: <200801041608.m04G8d7w007184@nakamura.uits.iupui.edu>\n",
      "Mime-Version: 1.0\n",
      "Content-Transfer-Encoding: 7bit\n",
      "Received: from prod.collab.uhi.ac.uk ([194.35.219.182])\n",
      "          by paploo.uhi.ac.uk (JAMES SMTP Server 2.1.3) with SMTP ID 966\n",
      "          for <source@collab.sakaiproject.org>;\n",
      "          Fri, 4 Jan 2008 16:09:51 +0000 (GMT)\n",
      "Received: from nakamura.uits.iupui.edu (nakamura.uits.iupui.edu [134.68.220.122])\n",
      "\tby shmi.uhi.ac.uk (Postfix) with ESMTP id 9F89542DD0\n",
      "\tfor <source@collab.sakaiproject.org>; Fri,  4 Jan 2008 16:09:50 +0000 (GMT)\n",
      "Received: from nakamura.uits.iupui.edu (localhost [127.0.0.1])\n",
      "\tby nakamura.uits.iupui.edu (8.12.11.20060308/8.12.11) with ESMTP id m04G8dXN007186\n",
      "\tfor <source@collab.sakaiproject.org>; Fri, 4 Jan 2008 11:08:39 -0500\n",
      "Received: (from apache@localhost)\n",
      "\tby nakamura.uits.iupui.edu (8.12.11.20060308/8.12.11/Submit) id m04G8d7w007184\n",
      "\tfor source@collab.sakaiproject.org; Fri, 4 Jan 2008 11:08:39 -0500\n",
      "Date: Fri, 4 Jan 2008 11:08:39 -0500\n",
      "X-Authentication-Warning: nakamura.uits.iupui.edu: apache set sender to gsilver@umich.edu using -f\n",
      "To: source@collab.sakaiproject.org\n",
      "From: gsilver@umich.edu\n",
      "Subject: [sakai] svn commit: r39759 - mailarchive/trunk/mailarchive-tool/tool/src/bundle\n",
      "X-Content-Type-Outer-Envelope: text/plain; charset=UTF-8\n",
      "X-Content-Type-Message-Body: text/plain; charset=UTF-8\n",
      "Content-Type: text/plain; charset=UTF-8\n",
      "X-DSPAM-Result: Innocent\n",
      "X-DSPAM-Processed: Fri Jan  4 11:10:22 2008\n",
      "X-DSPAM-Confidence: 0.7606\n",
      "X-DSPAM-Probability: 0.0000\n",
      "\n",
      "Details: http://source.sakaiproject.org/viewsvn/?view=rev&rev=39759\n",
      "\n",
      "Author: gsilver@umich.edu\n",
      "Date: 2008-01-04 11:08:38 -0500 (Fri, 04 Jan 2008)\n",
      "New Revision: 39759\n",
      "\n",
      "Modified:\n",
      "mailarchive/trunk/mailarchive-tool/tool/src/bundle/email.properties\n",
      "Log:\n",
      "SAK-12592\n",
      "http://bugs.sakaiproject.org/jira/browse/SAK-12592\n",
      "- left moot (unused) entries commented for now\n",
      "\n",
      "----------------------\n",
      "This automatic notification message was sent by Sakai Collab (https://collab.sakaiproject.org/portal) from the Source site.\n",
      "You can modify how you receive notifications at My Workspace > Preferences.\n",
      "\n",
      "\n",
      "\n",
      "From wagnermr@iupui.edu Fri Jan  4 10:38:42 2008\n",
      "Return-Path: <postmaster@collab.sakaiproject.org>\n",
      "Received: from murder (mail.umich.edu [141.211.14.90])\n",
      "\t by frankenstein.mail.umich.edu (Cyrus v2.3.8) with LMTPA;\n",
      "\t Fri, 04 Jan 2008 10:38:42 -0500\n",
      "X-Sieve: CMU Sieve 2.3\n",
      "Received: from murder ([unix socket])\n",
      "\t by mail.umich.edu (Cyrus v2.2.12) with LMTPA;\n",
      "\t Fri, 04 Jan 2008 10:38:42 -0500\n",
      "Received: from shining.mr.itd.umich.edu (shining.mr.itd.umich.edu [141.211.93.153])\n",
      "\tby flawless.mail.umich.edu () with ESMTP id m04Fcfjm012313;\n",
      "\tFri, 4 Jan 2008 10:38:41 -0500\n",
      "Received: FROM paploo.uhi.ac.uk (app1.prod.collab.uhi.ac.uk [194.35.219.184])\n",
      "\tBY shining.mr.itd.umich.edu ID 477E52FA.E6C6E.24093 ; \n",
      "\t 4 Jan 2008 10:38:37 -0500\n",
      "Received: from paploo.uhi.ac.uk (localhost [127.0.0.1])\n",
      "\tby paploo.uhi.ac.uk (Postfix) with ESMTP id 6A39594CD2;\n",
      "\tFri,  4 Jan 2008 15:37:36 +0000 (GMT)\n",
      "Message-ID: <200801041537.m04Fb6Ci007092@nakamura.uits.iupui.edu>\n",
      "Mime-Version: 1.0\n",
      "Content-Transfer-Encoding: 7bit\n",
      "Received: from prod.collab.uhi.ac.uk ([194.35.219.182])\n",
      "          by paploo.uhi.ac.uk (JAMES SMTP Server 2.1.3) with SMTP ID 690\n",
      "          for <source@collab.sakaiproject.org>;\n",
      "          Fri, 4 Jan 2008 15:37:21 +0000 (GMT)\n",
      "Received: from nakamura.uits.iupui.edu (nakamura.uits.iupui.edu [134.68.220.122])\n",
      "\tby shmi.uhi.ac.uk (Postfix) with ESMTP id CEFA037ACE\n",
      "\tfor <source@collab.sakaiproject.org>; Fri,  4 Jan 2008 15:38:17 +0000 (GMT)\n",
      "Received: from nakamura.uits.iupui.edu (localhost [127.0.0.1])\n",
      "\tby nakamura.uits.iupui.edu (8.12.11.20060308/8.12.11) with ESMTP id m04Fb6nh007094\n",
      "\tfor <source@collab.sakaiproject.org>; Fri, 4 Jan 2008 10:37:06 -0500\n",
      "Received: (from apache@localhost)\n",
      "\tby nakamura.uits.iupui.edu (8.12.11.20060308/8.12.11/Submit) id m04Fb6Ci007092\n",
      "\tfor source@collab.sakaiproject.org; Fri, 4 Jan 2008 10:37:06 -0500\n",
      "Date: Fri, 4 Jan 2008 10:37:06 -0500\n",
      "X-Authentication-Warning: nakamura.uits.iupui.edu: apache set sender to wagnermr@iupui.edu using -f\n",
      "To: source@collab.sakaiproject.org\n",
      "From: wagnermr@iupui.edu\n",
      "Subject: [sakai] svn commit: r39758 - in gradebook/trunk: app/business/src/java/org/sakaiproject/tool/gradebook/business/impl service/api/src/java/org/sakaiproject/service/gradebook/shared service/impl/src/java/org/sakaiproject/component/gradebook\n",
      "X-Content-Type-Outer-Envelope: text/plain; charset=UTF-8\n",
      "X-Content-Type-Message-Body: text/plain; charset=UTF-8\n",
      "Content-Type: text/plain; charset=UTF-8\n",
      "X-DSPAM-Result: Innocent\n",
      "X-DSPAM-Processed: Fri Jan  4 10:38:42 2008\n",
      "X-DSPAM-Confidence: 0.7559\n",
      "X-DSPAM-Probability: 0.0000\n",
      "\n",
      "Details: http://source.sakaiproject.org/viewsvn/?view=rev&rev=39758\n",
      "\n",
      "Author: wagnermr@iupui.edu\n",
      "Date: 2008-01-04 10:37:04 -0500 (Fri, 04 Jan 2008)\n",
      "New Revision: 39758\n",
      "\n",
      "Modified:\n",
      "gradebook/trunk/app/business/src/java/org/sakaiproject/tool/gradebook/business/impl/GradebookManagerHibernateImpl.java\n",
      "gradebook/trunk/service/api/src/java/org/sakaiproject/service/gradebook/shared/GradebookService.java\n",
      "gradebook/trunk/service/impl/src/java/org/sakaiproject/component/gradebook/GradebookServiceHibernateImpl.java\n",
      "Log:\n",
      "SAK-12175\n",
      "http://bugs.sakaiproject.org/jira/browse/SAK-12175\n",
      "Create methods required for gb integration with the Assignment2 tool\n",
      "getGradeDefinitionForStudentForItem\n",
      "\n",
      "----------------------\n",
      "This automatic notification message was sent by Sakai Collab (https://collab.sakaiproject.org/portal) from the Source site.\n",
      "You can modify how you receive notifications at My Workspace > Preferences.\n",
      "\n",
      "\n",
      "\n",
      "From zqian@umich.edu Fri Jan  4 10:17:43 2008\n",
      "Return-Path: <postmaster@collab.sakaiproject.org>\n",
      "Received: from murder (mail.umich.edu [141.211.14.97])\n",
      "\t by frankenstein.mail.umich.edu (Cyrus v2.3.8) with LMTPA;\n",
      "\t Fri, 04 Jan 2008 10:17:43 -0500\n",
      "X-Sieve: CMU Sieve 2.3\n",
      "Received: from murder ([unix socket])\n",
      "\t by mail.umich.edu (Cyrus v2.2.12) with LMTPA;\n",
      "\t Fri, 04 Jan 2008 10:17:42 -0500\n",
      "Received: from creepshow.mr.itd.umich.edu (creepshow.mr.itd.umich.edu [141.211.14.84])\n",
      "\tby sleepers.mail.umich.edu () with ESMTP id m04FHgfs011536;\n",
      "\tFri, 4 Jan 2008 10:17:42 -0500\n",
      "Received: FROM paploo.uhi.ac.uk (app1.prod.collab.uhi.ac.uk [194.35.219.184])\n",
      "\tBY creepshow.mr.itd.umich.edu ID 477E4E0F.CCA4B.926 ; \n",
      "\t 4 Jan 2008 10:17:38 -0500\n",
      "Received: from paploo.uhi.ac.uk (localhost [127.0.0.1])\n",
      "\tby paploo.uhi.ac.uk (Postfix) with ESMTP id BD02DBAC64;\n",
      "\tFri,  4 Jan 2008 15:17:34 +0000 (GMT)\n",
      "Message-ID: <200801041515.m04FFv42007050@nakamura.uits.iupui.edu>\n",
      "Mime-Version: 1.0\n",
      "Content-Transfer-Encoding: 7bit\n",
      "Received: from prod.collab.uhi.ac.uk ([194.35.219.182])\n",
      "          by paploo.uhi.ac.uk (JAMES SMTP Server 2.1.3) with SMTP ID 25\n",
      "          for <source@collab.sakaiproject.org>;\n",
      "          Fri, 4 Jan 2008 15:17:11 +0000 (GMT)\n",
      "Received: from nakamura.uits.iupui.edu (nakamura.uits.iupui.edu [134.68.220.122])\n",
      "\tby shmi.uhi.ac.uk (Postfix) with ESMTP id 5B396236B9\n",
      "\tfor <source@collab.sakaiproject.org>; Fri,  4 Jan 2008 15:17:08 +0000 (GMT)\n",
      "Received: from nakamura.uits.iupui.edu (localhost [127.0.0.1])\n",
      "\tby nakamura.uits.iupui.edu (8.12.11.20060308/8.12.11) with ESMTP id m04FFv85007052\n",
      "\tfor <source@collab.sakaiproject.org>; Fri, 4 Jan 2008 10:15:57 -0500\n",
      "Received: (from apache@localhost)\n",
      "\tby nakamura.uits.iupui.edu (8.12.11.20060308/8.12.11/Submit) id m04FFv42007050\n",
      "\tfor source@collab.sakaiproject.org; Fri, 4 Jan 2008 10:15:57 -0500\n",
      "Date: Fri, 4 Jan 2008 10:15:57 -0500\n",
      "X-Authentication-Warning: nakamura.uits.iupui.edu: apache set sender to zqian@umich.edu using -f\n",
      "To: source@collab.sakaiproject.org\n",
      "From: zqian@umich.edu\n",
      "Subject: [sakai] svn commit: r39757 - in assignment/trunk: assignment-impl/impl/src/java/org/sakaiproject/assignment/impl assignment-tool/tool/src/webapp/vm/assignment\n",
      "X-Content-Type-Outer-Envelope: text/plain; charset=UTF-8\n",
      "X-Content-Type-Message-Body: text/plain; charset=UTF-8\n",
      "Content-Type: text/plain; charset=UTF-8\n",
      "X-DSPAM-Result: Innocent\n",
      "X-DSPAM-Processed: Fri Jan  4 10:17:42 2008\n",
      "X-DSPAM-Confidence: 0.7605\n",
      "X-DSPAM-Probability: 0.0000\n",
      "\n",
      "Details: http://source.sakaiproject.org/viewsvn/?view=rev&rev=39757\n",
      "\n",
      "Author: zqian@umich.edu\n",
      "Date: 2008-01-04 10:15:54 -0500 (Fri, 04 Jan 2008)\n",
      "New Revision: 39757\n",
      "\n",
      "Modified:\n",
      "assignment/trunk/assignment-impl/impl/src/java/org/sakaiproject/assignment/impl/BaseAssignmentService.java\n",
      "assignment/trunk/assignment-tool/tool/src/webapp/vm/assignment/chef_assignments_instructor_list_submissions.vm\n",
      "Log:\n",
      "fix to SAK-12604:Don't show groups/sections filter if the site doesn't have any\n",
      "\n",
      "----------------------\n",
      "This automatic notification message was sent by Sakai Collab (https://collab.sakaiproject.org/portal) from the Source site.\n",
      "You can modify how you receive notifications at My Workspace > Preferences.\n",
      "\n",
      "\n",
      "\n",
      "From antranig@caret.cam.ac.uk Fri Jan  4 10:04:14 2008\n",
      "Return-Path: <postmaster@collab.sakaiproject.org>\n",
      "Received: from murder (mail.umich.edu [141.211.14.25])\n",
      "\t by frankenstein.mail.umich.edu (Cyrus v2.3.8) with LMTPA;\n",
      "\t Fri, 04 Jan 2008 10:04:14 -0500\n",
      "X-Sieve: CMU Sieve 2.3\n",
      "Received: from murder ([unix socket])\n",
      "\t by mail.umich.edu (Cyrus v2.2.12) with LMTPA;\n",
      "\t Fri, 04 Jan 2008 10:04:14 -0500\n",
      "Received: from holes.mr.itd.umich.edu (holes.mr.itd.umich.edu [141.211.14.79])\n",
      "\tby panther.mail.umich.edu () with ESMTP id m04F4Dci015108;\n",
      "\tFri, 4 Jan 2008 10:04:13 -0500\n",
      "Received: FROM paploo.uhi.ac.uk (app1.prod.collab.uhi.ac.uk [194.35.219.184])\n",
      "\tBY holes.mr.itd.umich.edu ID 477E4AE3.D7AF.31669 ; \n",
      "\t 4 Jan 2008 10:04:05 -0500\n",
      "Received: from paploo.uhi.ac.uk (localhost [127.0.0.1])\n",
      "\tby paploo.uhi.ac.uk (Postfix) with ESMTP id 933E3BAC17;\n",
      "\tFri,  4 Jan 2008 15:04:00 +0000 (GMT)\n",
      "Message-ID: <200801041502.m04F21Jo007031@nakamura.uits.iupui.edu>\n",
      "Mime-Version: 1.0\n",
      "Content-Transfer-Encoding: 7bit\n",
      "Received: from prod.collab.uhi.ac.uk ([194.35.219.182])\n",
      "          by paploo.uhi.ac.uk (JAMES SMTP Server 2.1.3) with SMTP ID 32\n",
      "          for <source@collab.sakaiproject.org>;\n",
      "          Fri, 4 Jan 2008 15:03:15 +0000 (GMT)\n",
      "Received: from nakamura.uits.iupui.edu (nakamura.uits.iupui.edu [134.68.220.122])\n",
      "\tby shmi.uhi.ac.uk (Postfix) with ESMTP id AC2F6236B9\n",
      "\tfor <source@collab.sakaiproject.org>; Fri,  4 Jan 2008 15:03:12 +0000 (GMT)\n",
      "Received: from nakamura.uits.iupui.edu (localhost [127.0.0.1])\n",
      "\tby nakamura.uits.iupui.edu (8.12.11.20060308/8.12.11) with ESMTP id m04F21hn007033\n",
      "\tfor <source@collab.sakaiproject.org>; Fri, 4 Jan 2008 10:02:01 -0500\n",
      "Received: (from apache@localhost)\n",
      "\tby nakamura.uits.iupui.edu (8.12.11.20060308/8.12.11/Submit) id m04F21Jo007031\n",
      "\tfor source@collab.sakaiproject.org; Fri, 4 Jan 2008 10:02:01 -0500\n",
      "Date: Fri, 4 Jan 2008 10:02:01 -0500\n",
      "X-Authentication-Warning: nakamura.uits.iupui.edu: apache set sender to antranig@caret.cam.ac.uk using -f\n",
      "To: source@collab.sakaiproject.org\n",
      "From: antranig@caret.cam.ac.uk\n",
      "Subject: [sakai] svn commit: r39756 - in component/branches/SAK-12166/component-api/component/src/java/org/sakaiproject/component: impl impl/spring/support impl/spring/support/dynamic impl/support util\n",
      "X-Content-Type-Outer-Envelope: text/plain; charset=UTF-8\n",
      "X-Content-Type-Message-Body: text/plain; charset=UTF-8\n",
      "Content-Type: text/plain; charset=UTF-8\n",
      "X-DSPAM-Result: Innocent\n",
      "X-DSPAM-Processed: Fri Jan  4 10:04:14 2008\n",
      "X-DSPAM-Confidence: 0.6932\n",
      "X-DSPAM-Probability: 0.0000\n",
      "\n",
      "Details: http://source.sakaiproject.org/viewsvn/?view=rev&rev=39756\n",
      "\n",
      "Author: antranig@caret.cam.ac.uk\n",
      "Date: 2008-01-04 10:01:40 -0500 (Fri, 04 Jan 2008)\n",
      "New Revision: 39756\n",
      "\n",
      "Added:\n",
      "component/branches/SAK-12166/component-api/component/src/java/org/sakaiproject/component/impl/spring/support/dynamic/\n",
      "component/branches/SAK-12166/component-api/component/src/java/org/sakaiproject/component/impl/spring/support/dynamic/DynamicComponentManager.java\n",
      "component/branches/SAK-12166/component-api/component/src/java/org/sakaiproject/component/impl/support/\n",
      "component/branches/SAK-12166/component-api/component/src/java/org/sakaiproject/component/impl/support/DynamicComponentRecord.java\n",
      "component/branches/SAK-12166/component-api/component/src/java/org/sakaiproject/component/impl/support/DynamicJARManager.java\n",
      "component/branches/SAK-12166/component-api/component/src/java/org/sakaiproject/component/impl/support/JARRecord.java\n",
      "component/branches/SAK-12166/component-api/component/src/java/org/sakaiproject/component/util/ByteToCharBase64.java\n",
      "component/branches/SAK-12166/component-api/component/src/java/org/sakaiproject/component/util/FileUtil.java\n",
      "component/branches/SAK-12166/component-api/component/src/java/org/sakaiproject/component/util/RecordFileIO.java\n",
      "component/branches/SAK-12166/component-api/component/src/java/org/sakaiproject/component/util/RecordReader.java\n",
      "component/branches/SAK-12166/component-api/component/src/java/org/sakaiproject/component/util/RecordWriter.java\n",
      "component/branches/SAK-12166/component-api/component/src/java/org/sakaiproject/component/util/StreamDigestor.java\n",
      "Modified:\n",
      "component/branches/SAK-12166/component-api/component/src/java/org/sakaiproject/component/impl/spring/support/ComponentsLoaderImpl.java\n",
      "Log:\n",
      "Temporary commit of incomplete work on JAR caching\n",
      "\n",
      "----------------------\n",
      "This automatic notification message was sent by Sakai Collab (https://collab.sakaiproject.org/portal) from the Source site.\n",
      "You can modify how you receive notifications at My Workspace > Preferences.\n",
      "\n",
      "\n",
      "\n",
      "From gopal.ramasammycook@gmail.com Fri Jan  4 09:05:31 2008\n",
      "Return-Path: <postmaster@collab.sakaiproject.org>\n",
      "Received: from murder (mail.umich.edu [141.211.14.90])\n",
      "\t by frankenstein.mail.umich.edu (Cyrus v2.3.8) with LMTPA;\n",
      "\t Fri, 04 Jan 2008 09:05:31 -0500\n",
      "X-Sieve: CMU Sieve 2.3\n",
      "Received: from murder ([unix socket])\n",
      "\t by mail.umich.edu (Cyrus v2.2.12) with LMTPA;\n",
      "\t Fri, 04 Jan 2008 09:05:31 -0500\n",
      "Received: from guys.mr.itd.umich.edu (guys.mr.itd.umich.edu [141.211.14.76])\n",
      "\tby flawless.mail.umich.edu () with ESMTP id m04E5U3C029277;\n",
      "\tFri, 4 Jan 2008 09:05:30 -0500\n",
      "Received: FROM paploo.uhi.ac.uk (app1.prod.collab.uhi.ac.uk [194.35.219.184])\n",
      "\tBY guys.mr.itd.umich.edu ID 477E3D23.EE2E7.5237 ; \n",
      "\t 4 Jan 2008 09:05:26 -0500\n",
      "Received: from paploo.uhi.ac.uk (localhost [127.0.0.1])\n",
      "\tby paploo.uhi.ac.uk (Postfix) with ESMTP id 33C7856DC0;\n",
      "\tFri,  4 Jan 2008 14:05:26 +0000 (GMT)\n",
      "Message-ID: <200801041403.m04E3psW006926@nakamura.uits.iupui.edu>\n",
      "Mime-Version: 1.0\n",
      "Content-Transfer-Encoding: 7bit\n",
      "Received: from prod.collab.uhi.ac.uk ([194.35.219.182])\n",
      "          by paploo.uhi.ac.uk (JAMES SMTP Server 2.1.3) with SMTP ID 575\n",
      "          for <source@collab.sakaiproject.org>;\n",
      "          Fri, 4 Jan 2008 14:05:04 +0000 (GMT)\n",
      "Received: from nakamura.uits.iupui.edu (nakamura.uits.iupui.edu [134.68.220.122])\n",
      "\tby shmi.uhi.ac.uk (Postfix) with ESMTP id 3C0261D617\n",
      "\tfor <source@collab.sakaiproject.org>; Fri,  4 Jan 2008 14:05:03 +0000 (GMT)\n",
      "Received: from nakamura.uits.iupui.edu (localhost [127.0.0.1])\n",
      "\tby nakamura.uits.iupui.edu (8.12.11.20060308/8.12.11) with ESMTP id m04E3pQS006928\n",
      "\tfor <source@collab.sakaiproject.org>; Fri, 4 Jan 2008 09:03:52 -0500\n",
      "Received: (from apache@localhost)\n",
      "\tby nakamura.uits.iupui.edu (8.12.11.20060308/8.12.11/Submit) id m04E3psW006926\n",
      "\tfor source@collab.sakaiproject.org; Fri, 4 Jan 2008 09:03:51 -0500\n",
      "Date: Fri, 4 Jan 2008 09:03:51 -0500\n",
      "X-Authentication-Warning: nakamura.uits.iupui.edu: apache set sender to gopal.ramasammycook@gmail.com using -f\n",
      "To: source@collab.sakaiproject.org\n",
      "From: gopal.ramasammycook@gmail.com\n",
      "Subject: [sakai] svn commit: r39755 - in sam/branches/SAK-12065: samigo-api/src/java/org/sakaiproject/tool/assessment/shared/api/grading samigo-app/src/java/org/sakaiproject/tool/assessment/ui/bean/evaluation samigo-app/src/java/org/sakaiproject/tool/assessment/ui/listener/evaluation samigo-services/src/java/org/sakaiproject/tool/assessment/facade samigo-services/src/java/org/sakaiproject/tool/assessment/integration/helper/ifc samigo-services/src/java/org/sakaiproject/tool/assessment/integration/helper/integrated samigo-services/src/java/org/sakaiproject/tool/assessment/integration/helper/standalone samigo-services/src/java/org/sakaiproject/tool/assessment/shared/impl/grading\n",
      "X-Content-Type-Outer-Envelope: text/plain; charset=UTF-8\n",
      "X-Content-Type-Message-Body: text/plain; charset=UTF-8\n",
      "Content-Type: text/plain; charset=UTF-8\n",
      "X-DSPAM-Result: Innocent\n",
      "X-DSPAM-Processed: Fri Jan  4 09:05:31 2008\n",
      "X-DSPAM-Confidence: 0.7558\n",
      "X-DSPAM-Probability: 0.0000\n",
      "\n",
      "Details: http://source.sakaiproject.org/viewsvn/?view=rev&rev=39755\n",
      "\n",
      "Author: gopal.ramasammycook@gmail.com\n",
      "Date: 2008-01-04 09:02:54 -0500 (Fri, 04 Jan 2008)\n",
      "New Revision: 39755\n",
      "\n",
      "Modified:\n",
      "sam/branches/SAK-12065/samigo-api/src/java/org/sakaiproject/tool/assessment/shared/api/grading/GradingSectionAwareServiceAPI.java\n",
      "sam/branches/SAK-12065/samigo-app/src/java/org/sakaiproject/tool/assessment/ui/bean/evaluation/QuestionScoresBean.java\n",
      "sam/branches/SAK-12065/samigo-app/src/java/org/sakaiproject/tool/assessment/ui/bean/evaluation/SubmissionStatusBean.java\n",
      "sam/branches/SAK-12065/samigo-app/src/java/org/sakaiproject/tool/assessment/ui/bean/evaluation/TotalScoresBean.java\n",
      "sam/branches/SAK-12065/samigo-app/src/java/org/sakaiproject/tool/assessment/ui/listener/evaluation/SubmissionStatusListener.java\n",
      "sam/branches/SAK-12065/samigo-services/src/java/org/sakaiproject/tool/assessment/facade/PublishedAssessmentFacadeQueries.java\n",
      "sam/branches/SAK-12065/samigo-services/src/java/org/sakaiproject/tool/assessment/facade/PublishedAssessmentFacadeQueriesAPI.java\n",
      "sam/branches/SAK-12065/samigo-services/src/java/org/sakaiproject/tool/assessment/integration/helper/ifc/SectionAwareServiceHelper.java\n",
      "sam/branches/SAK-12065/samigo-services/src/java/org/sakaiproject/tool/assessment/integration/helper/integrated/SectionAwareServiceHelperImpl.java\n",
      "sam/branches/SAK-12065/samigo-services/src/java/org/sakaiproject/tool/assessment/integration/helper/standalone/SectionAwareServiceHelperImpl.java\n",
      "sam/branches/SAK-12065/samigo-services/src/java/org/sakaiproject/tool/assessment/shared/impl/grading/GradingSectionAwareServiceImpl.java\n",
      "Log:\n",
      "SAK-12065 Gopal - Samigo Group Release. SubmissionStatus/TotalScores/Questions View filter.\n",
      "\n",
      "----------------------\n",
      "This automatic notification message was sent by Sakai Collab (https://collab.sakaiproject.org/portal) from the Source site.\n",
      "You can modify how you receive notifications at My Workspace > Preferences.\n",
      "\n",
      "\n",
      "\n",
      "From david.horwitz@uct.ac.za Fri Jan  4 07:02:32 2008\n",
      "Return-Path: <postmaster@collab.sakaiproject.org>\n",
      "Received: from murder (mail.umich.edu [141.211.14.39])\n",
      "\t by frankenstein.mail.umich.edu (Cyrus v2.3.8) with LMTPA;\n",
      "\t Fri, 04 Jan 2008 07:02:32 -0500\n",
      "X-Sieve: CMU Sieve 2.3\n",
      "Received: from murder ([unix socket])\n",
      "\t by mail.umich.edu (Cyrus v2.2.12) with LMTPA;\n",
      "\t Fri, 04 Jan 2008 07:02:32 -0500\n",
      "Received: from guys.mr.itd.umich.edu (guys.mr.itd.umich.edu [141.211.14.76])\n",
      "\tby faithful.mail.umich.edu () with ESMTP id m04C2VN7026678;\n",
      "\tFri, 4 Jan 2008 07:02:31 -0500\n",
      "Received: FROM paploo.uhi.ac.uk (app1.prod.collab.uhi.ac.uk [194.35.219.184])\n",
      "\tBY guys.mr.itd.umich.edu ID 477E2050.C2599.3263 ; \n",
      "\t 4 Jan 2008 07:02:27 -0500\n",
      "Received: from paploo.uhi.ac.uk (localhost [127.0.0.1])\n",
      "\tby paploo.uhi.ac.uk (Postfix) with ESMTP id 6497FBA906;\n",
      "\tFri,  4 Jan 2008 12:02:11 +0000 (GMT)\n",
      "Message-ID: <200801041200.m04C0gfK006793@nakamura.uits.iupui.edu>\n",
      "Mime-Version: 1.0\n",
      "Content-Transfer-Encoding: 7bit\n",
      "Received: from prod.collab.uhi.ac.uk ([194.35.219.182])\n",
      "          by paploo.uhi.ac.uk (JAMES SMTP Server 2.1.3) with SMTP ID 611\n",
      "          for <source@collab.sakaiproject.org>;\n",
      "          Fri, 4 Jan 2008 12:01:53 +0000 (GMT)\n",
      "Received: from nakamura.uits.iupui.edu (nakamura.uits.iupui.edu [134.68.220.122])\n",
      "\tby shmi.uhi.ac.uk (Postfix) with ESMTP id 5296342D3C\n",
      "\tfor <source@collab.sakaiproject.org>; Fri,  4 Jan 2008 12:01:53 +0000 (GMT)\n",
      "Received: from nakamura.uits.iupui.edu (localhost [127.0.0.1])\n",
      "\tby nakamura.uits.iupui.edu (8.12.11.20060308/8.12.11) with ESMTP id m04C0gnm006795\n",
      "\tfor <source@collab.sakaiproject.org>; Fri, 4 Jan 2008 07:00:42 -0500\n",
      "Received: (from apache@localhost)\n",
      "\tby nakamura.uits.iupui.edu (8.12.11.20060308/8.12.11/Submit) id m04C0gfK006793\n",
      "\tfor source@collab.sakaiproject.org; Fri, 4 Jan 2008 07:00:42 -0500\n",
      "Date: Fri, 4 Jan 2008 07:00:42 -0500\n",
      "X-Authentication-Warning: nakamura.uits.iupui.edu: apache set sender to david.horwitz@uct.ac.za using -f\n",
      "To: source@collab.sakaiproject.org\n",
      "From: david.horwitz@uct.ac.za\n",
      "Subject: [sakai] svn commit: r39754 - in polls/branches/sakai_2-5-x: . tool tool/src/java/org/sakaiproject/poll/tool tool/src/java/org/sakaiproject/poll/tool/evolvers tool/src/webapp/WEB-INF\n",
      "X-Content-Type-Outer-Envelope: text/plain; charset=UTF-8\n",
      "X-Content-Type-Message-Body: text/plain; charset=UTF-8\n",
      "Content-Type: text/plain; charset=UTF-8\n",
      "X-DSPAM-Result: Innocent\n",
      "X-DSPAM-Processed: Fri Jan  4 07:02:32 2008\n",
      "X-DSPAM-Confidence: 0.6526\n",
      "X-DSPAM-Probability: 0.0000\n",
      "\n",
      "Details: http://source.sakaiproject.org/viewsvn/?view=rev&rev=39754\n",
      "\n",
      "Author: david.horwitz@uct.ac.za\n",
      "Date: 2008-01-04 07:00:10 -0500 (Fri, 04 Jan 2008)\n",
      "New Revision: 39754\n",
      "\n",
      "Added:\n",
      "polls/branches/sakai_2-5-x/tool/src/java/org/sakaiproject/poll/tool/evolvers/\n",
      "polls/branches/sakai_2-5-x/tool/src/java/org/sakaiproject/poll/tool/evolvers/SakaiFCKTextEvolver.java\n",
      "Removed:\n",
      "polls/branches/sakai_2-5-x/tool/src/java/org/sakaiproject/poll/tool/evolvers/SakaiFCKTextEvolver.java\n",
      "Modified:\n",
      "polls/branches/sakai_2-5-x/.classpath\n",
      "polls/branches/sakai_2-5-x/tool/pom.xml\n",
      "polls/branches/sakai_2-5-x/tool/src/webapp/WEB-INF/requestContext.xml\n",
      "Log:\n",
      "svn log -r39753 https://source.sakaiproject.org/svn/polls/trunk\n",
      "------------------------------------------------------------------------\n",
      "r39753 | david.horwitz@uct.ac.za | 2008-01-04 13:05:51 +0200 (Fri, 04 Jan 2008) | 1 line\n",
      "\n",
      "SAK-12228 implmented workaround sugested by AB - needs to be tested against a trunk build\n",
      "------------------------------------------------------------------------\n",
      "dhorwitz@david-horwitz-6:~/branchManagemnt/sakai_2-5-x> svn merge -c39753 https://source.sakaiproject.org/svn/polls/trunk polls/\n",
      "U    polls/.classpath\n",
      "A    polls/tool/src/java/org/sakaiproject/poll/tool/evolvers\n",
      "A    polls/tool/src/java/org/sakaiproject/poll/tool/evolvers/SakaiFCKTextEvolver.java\n",
      "C    polls/tool/src/webapp/WEB-INF/requestContext.xml\n",
      "U    polls/tool/pom.xml\n",
      "\n",
      "dhorwitz@david-horwitz-6:~/branchManagemnt/sakai_2-5-x> svn resolved polls/tool/src/webapp/WEB-INF/requestContext.xml\n",
      "Resolved conflicted state of 'polls/tool/src/webapp/WEB-INF/requestContext.xml\n",
      "\n",
      "\n",
      "----------------------\n",
      "This automatic notification message was sent by Sakai Collab (https://collab.sakaiproject.org/portal) from the Source site.\n",
      "You can modify how you receive notifications at My Workspace > Preferences.\n",
      "\n",
      "\n",
      "\n",
      "From david.horwitz@uct.ac.za Fri Jan  4 06:08:27 2008\n",
      "Return-Path: <postmaster@collab.sakaiproject.org>\n",
      "Received: from murder (mail.umich.edu [141.211.14.98])\n",
      "\t by frankenstein.mail.umich.edu (Cyrus v2.3.8) with LMTPA;\n",
      "\t Fri, 04 Jan 2008 06:08:27 -0500\n",
      "X-Sieve: CMU Sieve 2.3\n",
      "Received: from murder ([unix socket])\n",
      "\t by mail.umich.edu (Cyrus v2.2.12) with LMTPA;\n",
      "\t Fri, 04 Jan 2008 06:08:27 -0500\n",
      "Received: from firestarter.mr.itd.umich.edu (firestarter.mr.itd.umich.edu [141.211.14.83])\n",
      "\tby casino.mail.umich.edu () with ESMTP id m04B8Qw9001368;\n",
      "\tFri, 4 Jan 2008 06:08:26 -0500\n",
      "Received: FROM paploo.uhi.ac.uk (app1.prod.collab.uhi.ac.uk [194.35.219.184])\n",
      "\tBY firestarter.mr.itd.umich.edu ID 477E13A5.30FC0.24054 ; \n",
      "\t 4 Jan 2008 06:08:23 -0500\n",
      "Received: from paploo.uhi.ac.uk (localhost [127.0.0.1])\n",
      "\tby paploo.uhi.ac.uk (Postfix) with ESMTP id 784A476D7B;\n",
      "\tFri,  4 Jan 2008 11:08:12 +0000 (GMT)\n",
      "Message-ID: <200801041106.m04B6lK3006677@nakamura.uits.iupui.edu>\n",
      "Mime-Version: 1.0\n",
      "Content-Transfer-Encoding: 7bit\n",
      "Received: from prod.collab.uhi.ac.uk ([194.35.219.182])\n",
      "          by paploo.uhi.ac.uk (JAMES SMTP Server 2.1.3) with SMTP ID 585\n",
      "          for <source@collab.sakaiproject.org>;\n",
      "          Fri, 4 Jan 2008 11:07:56 +0000 (GMT)\n",
      "Received: from nakamura.uits.iupui.edu (nakamura.uits.iupui.edu [134.68.220.122])\n",
      "\tby shmi.uhi.ac.uk (Postfix) with ESMTP id 1CACC42D0C\n",
      "\tfor <source@collab.sakaiproject.org>; Fri,  4 Jan 2008 11:07:58 +0000 (GMT)\n",
      "Received: from nakamura.uits.iupui.edu (localhost [127.0.0.1])\n",
      "\tby nakamura.uits.iupui.edu (8.12.11.20060308/8.12.11) with ESMTP id m04B6lWM006679\n",
      "\tfor <source@collab.sakaiproject.org>; Fri, 4 Jan 2008 06:06:47 -0500\n",
      "Received: (from apache@localhost)\n",
      "\tby nakamura.uits.iupui.edu (8.12.11.20060308/8.12.11/Submit) id m04B6lK3006677\n",
      "\tfor source@collab.sakaiproject.org; Fri, 4 Jan 2008 06:06:47 -0500\n",
      "Date: Fri, 4 Jan 2008 06:06:47 -0500\n",
      "X-Authentication-Warning: nakamura.uits.iupui.edu: apache set sender to david.horwitz@uct.ac.za using -f\n",
      "To: source@collab.sakaiproject.org\n",
      "From: david.horwitz@uct.ac.za\n",
      "Subject: [sakai] svn commit: r39753 - in polls/trunk: . tool tool/src/java/org/sakaiproject/poll/tool tool/src/java/org/sakaiproject/poll/tool/evolvers tool/src/webapp/WEB-INF\n",
      "X-Content-Type-Outer-Envelope: text/plain; charset=UTF-8\n",
      "X-Content-Type-Message-Body: text/plain; charset=UTF-8\n",
      "Content-Type: text/plain; charset=UTF-8\n",
      "X-DSPAM-Result: Innocent\n",
      "X-DSPAM-Processed: Fri Jan  4 06:08:27 2008\n",
      "X-DSPAM-Confidence: 0.6948\n",
      "X-DSPAM-Probability: 0.0000\n",
      "\n",
      "Details: http://source.sakaiproject.org/viewsvn/?view=rev&rev=39753\n",
      "\n",
      "Author: david.horwitz@uct.ac.za\n",
      "Date: 2008-01-04 06:05:51 -0500 (Fri, 04 Jan 2008)\n",
      "New Revision: 39753\n",
      "\n",
      "Added:\n",
      "polls/trunk/tool/src/java/org/sakaiproject/poll/tool/evolvers/\n",
      "polls/trunk/tool/src/java/org/sakaiproject/poll/tool/evolvers/SakaiFCKTextEvolver.java\n",
      "Modified:\n",
      "polls/trunk/.classpath\n",
      "polls/trunk/tool/pom.xml\n",
      "polls/trunk/tool/src/webapp/WEB-INF/requestContext.xml\n",
      "Log:\n",
      "SAK-12228 implmented workaround sugested by AB - needs to be tested against a trunk build\n",
      "\n",
      "----------------------\n",
      "This automatic notification message was sent by Sakai Collab (https://collab.sakaiproject.org/portal) from the Source site.\n",
      "You can modify how you receive notifications at My Workspace > Preferences.\n",
      "\n",
      "\n",
      "\n",
      "From david.horwitz@uct.ac.za Fri Jan  4 04:49:08 2008\n",
      "Return-Path: <postmaster@collab.sakaiproject.org>\n",
      "Received: from murder (mail.umich.edu [141.211.14.92])\n",
      "\t by frankenstein.mail.umich.edu (Cyrus v2.3.8) with LMTPA;\n",
      "\t Fri, 04 Jan 2008 04:49:08 -0500\n",
      "X-Sieve: CMU Sieve 2.3\n",
      "Received: from murder ([unix socket])\n",
      "\t by mail.umich.edu (Cyrus v2.2.12) with LMTPA;\n",
      "\t Fri, 04 Jan 2008 04:49:08 -0500\n",
      "Received: from galaxyquest.mr.itd.umich.edu (galaxyquest.mr.itd.umich.edu [141.211.93.145])\n",
      "\tby score.mail.umich.edu () with ESMTP id m049n60G017588;\n",
      "\tFri, 4 Jan 2008 04:49:06 -0500\n",
      "Received: FROM paploo.uhi.ac.uk (app1.prod.collab.uhi.ac.uk [194.35.219.184])\n",
      "\tBY galaxyquest.mr.itd.umich.edu ID 477E010C.48C2.10259 ; \n",
      "\t 4 Jan 2008 04:49:03 -0500\n",
      "Received: from paploo.uhi.ac.uk (localhost [127.0.0.1])\n",
      "\tby paploo.uhi.ac.uk (Postfix) with ESMTP id 254CC8CDEE;\n",
      "\tFri,  4 Jan 2008 09:48:55 +0000 (GMT)\n",
      "Message-ID: <200801040947.m049lUxo006517@nakamura.uits.iupui.edu>\n",
      "Mime-Version: 1.0\n",
      "Content-Transfer-Encoding: 7bit\n",
      "Received: from prod.collab.uhi.ac.uk ([194.35.219.182])\n",
      "          by paploo.uhi.ac.uk (JAMES SMTP Server 2.1.3) with SMTP ID 246\n",
      "          for <source@collab.sakaiproject.org>;\n",
      "          Fri, 4 Jan 2008 09:48:36 +0000 (GMT)\n",
      "Received: from nakamura.uits.iupui.edu (nakamura.uits.iupui.edu [134.68.220.122])\n",
      "\tby shmi.uhi.ac.uk (Postfix) with ESMTP id 8C13342C92\n",
      "\tfor <source@collab.sakaiproject.org>; Fri,  4 Jan 2008 09:48:40 +0000 (GMT)\n",
      "Received: from nakamura.uits.iupui.edu (localhost [127.0.0.1])\n",
      "\tby nakamura.uits.iupui.edu (8.12.11.20060308/8.12.11) with ESMTP id m049lU3P006519\n",
      "\tfor <source@collab.sakaiproject.org>; Fri, 4 Jan 2008 04:47:30 -0500\n",
      "Received: (from apache@localhost)\n",
      "\tby nakamura.uits.iupui.edu (8.12.11.20060308/8.12.11/Submit) id m049lUxo006517\n",
      "\tfor source@collab.sakaiproject.org; Fri, 4 Jan 2008 04:47:30 -0500\n",
      "Date: Fri, 4 Jan 2008 04:47:30 -0500\n",
      "X-Authentication-Warning: nakamura.uits.iupui.edu: apache set sender to david.horwitz@uct.ac.za using -f\n",
      "To: source@collab.sakaiproject.org\n",
      "From: david.horwitz@uct.ac.za\n",
      "Subject: [sakai] svn commit: r39752 - in podcasts/branches/sakai_2-5-x/podcasts-app/src/webapp: css podcasts\n",
      "X-Content-Type-Outer-Envelope: text/plain; charset=UTF-8\n",
      "X-Content-Type-Message-Body: text/plain; charset=UTF-8\n",
      "Content-Type: text/plain; charset=UTF-8\n",
      "X-DSPAM-Result: Innocent\n",
      "X-DSPAM-Processed: Fri Jan  4 04:49:08 2008\n",
      "X-DSPAM-Confidence: 0.6528\n",
      "X-DSPAM-Probability: 0.0000\n",
      "\n",
      "Details: http://source.sakaiproject.org/viewsvn/?view=rev&rev=39752\n",
      "\n",
      "Author: david.horwitz@uct.ac.za\n",
      "Date: 2008-01-04 04:47:16 -0500 (Fri, 04 Jan 2008)\n",
      "New Revision: 39752\n",
      "\n",
      "Modified:\n",
      "podcasts/branches/sakai_2-5-x/podcasts-app/src/webapp/css/podcaster.css\n",
      "podcasts/branches/sakai_2-5-x/podcasts-app/src/webapp/podcasts/podMain.jsp\n",
      "Log:\n",
      "svn log -r39641 https://source.sakaiproject.org/svn/podcasts/trunk\n",
      "------------------------------------------------------------------------\n",
      "r39641 | josrodri@iupui.edu | 2007-12-28 23:44:24 +0200 (Fri, 28 Dec 2007) | 1 line\n",
      "\n",
      "SAK-9882: refactored podMain.jsp the right way (at least much closer to)\n",
      "------------------------------------------------------------------------\n",
      "\n",
      "dhorwitz@david-horwitz-6:~/branchManagemnt/sakai_2-5-x> svn merge  -c39641 https://source.sakaiproject.org/svn/podcasts/trunk podcasts/\n",
      "C    podcasts/podcasts-app/src/webapp/podcasts/podMain.jsp\n",
      "U    podcasts/podcasts-app/src/webapp/css/podcaster.css\n",
      "\n",
      "conflict merged manualy\n",
      "\n",
      "\n",
      "\n",
      "----------------------\n",
      "This automatic notification message was sent by Sakai Collab (https://collab.sakaiproject.org/portal) from the Source site.\n",
      "You can modify how you receive notifications at My Workspace > Preferences.\n",
      "\n",
      "\n",
      "\n",
      "From david.horwitz@uct.ac.za Fri Jan  4 04:33:44 2008\n",
      "Return-Path: <postmaster@collab.sakaiproject.org>\n",
      "Received: from murder (mail.umich.edu [141.211.14.46])\n",
      "\t by frankenstein.mail.umich.edu (Cyrus v2.3.8) with LMTPA;\n",
      "\t Fri, 04 Jan 2008 04:33:44 -0500\n",
      "X-Sieve: CMU Sieve 2.3\n",
      "Received: from murder ([unix socket])\n",
      "\t by mail.umich.edu (Cyrus v2.2.12) with LMTPA;\n",
      "\t Fri, 04 Jan 2008 04:33:44 -0500\n",
      "Received: from workinggirl.mr.itd.umich.edu (workinggirl.mr.itd.umich.edu [141.211.93.143])\n",
      "\tby fan.mail.umich.edu () with ESMTP id m049Xge3031803;\n",
      "\tFri, 4 Jan 2008 04:33:42 -0500\n",
      "Received: FROM paploo.uhi.ac.uk (app1.prod.collab.uhi.ac.uk [194.35.219.184])\n",
      "\tBY workinggirl.mr.itd.umich.edu ID 477DFD6C.75DBE.26054 ; \n",
      "\t 4 Jan 2008 04:33:35 -0500\n",
      "Received: from paploo.uhi.ac.uk (localhost [127.0.0.1])\n",
      "\tby paploo.uhi.ac.uk (Postfix) with ESMTP id 6C929BA656;\n",
      "\tFri,  4 Jan 2008 09:33:27 +0000 (GMT)\n",
      "Message-ID: <200801040932.m049W2i5006493@nakamura.uits.iupui.edu>\n",
      "Mime-Version: 1.0\n",
      "Content-Transfer-Encoding: 7bit\n",
      "Received: from prod.collab.uhi.ac.uk ([194.35.219.182])\n",
      "          by paploo.uhi.ac.uk (JAMES SMTP Server 2.1.3) with SMTP ID 153\n",
      "          for <source@collab.sakaiproject.org>;\n",
      "          Fri, 4 Jan 2008 09:33:10 +0000 (GMT)\n",
      "Received: from nakamura.uits.iupui.edu (nakamura.uits.iupui.edu [134.68.220.122])\n",
      "\tby shmi.uhi.ac.uk (Postfix) with ESMTP id 6C69423767\n",
      "\tfor <source@collab.sakaiproject.org>; Fri,  4 Jan 2008 09:33:13 +0000 (GMT)\n",
      "Received: from nakamura.uits.iupui.edu (localhost [127.0.0.1])\n",
      "\tby nakamura.uits.iupui.edu (8.12.11.20060308/8.12.11) with ESMTP id m049W3fl006495\n",
      "\tfor <source@collab.sakaiproject.org>; Fri, 4 Jan 2008 04:32:03 -0500\n",
      "Received: (from apache@localhost)\n",
      "\tby nakamura.uits.iupui.edu (8.12.11.20060308/8.12.11/Submit) id m049W2i5006493\n",
      "\tfor source@collab.sakaiproject.org; Fri, 4 Jan 2008 04:32:02 -0500\n",
      "Date: Fri, 4 Jan 2008 04:32:02 -0500\n",
      "X-Authentication-Warning: nakamura.uits.iupui.edu: apache set sender to david.horwitz@uct.ac.za using -f\n",
      "To: source@collab.sakaiproject.org\n",
      "From: david.horwitz@uct.ac.za\n",
      "Subject: [sakai] svn commit: r39751 - in podcasts/branches/sakai_2-5-x/podcasts-app/src/webapp: css images podcasts\n",
      "X-Content-Type-Outer-Envelope: text/plain; charset=UTF-8\n",
      "X-Content-Type-Message-Body: text/plain; charset=UTF-8\n",
      "Content-Type: text/plain; charset=UTF-8\n",
      "X-DSPAM-Result: Innocent\n",
      "X-DSPAM-Processed: Fri Jan  4 04:33:44 2008\n",
      "X-DSPAM-Confidence: 0.7002\n",
      "X-DSPAM-Probability: 0.0000\n",
      "\n",
      "Details: http://source.sakaiproject.org/viewsvn/?view=rev&rev=39751\n",
      "\n",
      "Author: david.horwitz@uct.ac.za\n",
      "Date: 2008-01-04 04:31:35 -0500 (Fri, 04 Jan 2008)\n",
      "New Revision: 39751\n",
      "\n",
      "Removed:\n",
      "podcasts/branches/sakai_2-5-x/podcasts-app/src/webapp/images/rss-feed-icon.png\n",
      "podcasts/branches/sakai_2-5-x/podcasts-app/src/webapp/podcasts/podPermissions.jsp\n",
      "Modified:\n",
      "podcasts/branches/sakai_2-5-x/podcasts-app/src/webapp/css/podcaster.css\n",
      "podcasts/branches/sakai_2-5-x/podcasts-app/src/webapp/podcasts/podDelete.jsp\n",
      "podcasts/branches/sakai_2-5-x/podcasts-app/src/webapp/podcasts/podMain.jsp\n",
      "podcasts/branches/sakai_2-5-x/podcasts-app/src/webapp/podcasts/podNoResource.jsp\n",
      "podcasts/branches/sakai_2-5-x/podcasts-app/src/webapp/podcasts/podOptions.jsp\n",
      "Log:\n",
      "svn log -r39146 https://source.sakaiproject.org/svn/podcasts/trunk\n",
      "------------------------------------------------------------------------\n",
      "r39146 | josrodri@iupui.edu | 2007-12-12 21:40:33 +0200 (Wed, 12 Dec 2007) | 1 line\n",
      "\n",
      "SAK-9882: refactored the other pages as well to take advantage of proper jsp components as well as validation cleanup.\n",
      "------------------------------------------------------------------------\n",
      "dhorwitz@david-horwitz-6:~/branchManagemnt/sakai_2-5-x> svn merge -c39146 https://source.sakaiproject.org/svn/podcasts/trunk podcasts/\n",
      "D    podcasts/podcasts-app/src/webapp/podcasts/podPermissions.jsp\n",
      "U    podcasts/podcasts-app/src/webapp/podcasts/podDelete.jsp\n",
      "U    podcasts/podcasts-app/src/webapp/podcasts/podMain.jsp\n",
      "U    podcasts/podcasts-app/src/webapp/podcasts/podNoResource.jsp\n",
      "U    podcasts/podcasts-app/src/webapp/podcasts/podOptions.jsp\n",
      "D    podcasts/podcasts-app/src/webapp/images/rss-feed-icon.png\n",
      "U    podcasts/podcasts-app/src/webapp/css/podcaster.css\n",
      "\n",
      "\n",
      "\n",
      "----------------------\n",
      "This automatic notification message was sent by Sakai Collab (https://collab.sakaiproject.org/portal) from the Source site.\n",
      "You can modify how you receive notifications at My Workspace > Preferences.\n",
      "\n",
      "\n",
      "\n",
      "From stephen.marquard@uct.ac.za Fri Jan  4 04:07:34 2008\n",
      "Return-Path: <postmaster@collab.sakaiproject.org>\n",
      "Received: from murder (mail.umich.edu [141.211.14.25])\n",
      "\t by frankenstein.mail.umich.edu (Cyrus v2.3.8) with LMTPA;\n",
      "\t Fri, 04 Jan 2008 04:07:34 -0500\n",
      "X-Sieve: CMU Sieve 2.3\n",
      "Received: from murder ([unix socket])\n",
      "\t by mail.umich.edu (Cyrus v2.2.12) with LMTPA;\n",
      "\t Fri, 04 Jan 2008 04:07:34 -0500\n",
      "Received: from salemslot.mr.itd.umich.edu (salemslot.mr.itd.umich.edu [141.211.14.58])\n",
      "\tby panther.mail.umich.edu () with ESMTP id m0497WAN027902;\n",
      "\tFri, 4 Jan 2008 04:07:32 -0500\n",
      "Received: FROM paploo.uhi.ac.uk (app1.prod.collab.uhi.ac.uk [194.35.219.184])\n",
      "\tBY salemslot.mr.itd.umich.edu ID 477DF74E.49493.30415 ; \n",
      "\t 4 Jan 2008 04:07:29 -0500\n",
      "Received: from paploo.uhi.ac.uk (localhost [127.0.0.1])\n",
      "\tby paploo.uhi.ac.uk (Postfix) with ESMTP id 88598BA5B6;\n",
      "\tFri,  4 Jan 2008 09:07:19 +0000 (GMT)\n",
      "Message-ID: <200801040905.m0495rWB006420@nakamura.uits.iupui.edu>\n",
      "Mime-Version: 1.0\n",
      "Content-Transfer-Encoding: 7bit\n",
      "Received: from prod.collab.uhi.ac.uk ([194.35.219.182])\n",
      "          by paploo.uhi.ac.uk (JAMES SMTP Server 2.1.3) with SMTP ID 385\n",
      "          for <source@collab.sakaiproject.org>;\n",
      "          Fri, 4 Jan 2008 09:07:04 +0000 (GMT)\n",
      "Received: from nakamura.uits.iupui.edu (nakamura.uits.iupui.edu [134.68.220.122])\n",
      "\tby shmi.uhi.ac.uk (Postfix) with ESMTP id 90636418A8\n",
      "\tfor <source@collab.sakaiproject.org>; Fri,  4 Jan 2008 09:07:04 +0000 (GMT)\n",
      "Received: from nakamura.uits.iupui.edu (localhost [127.0.0.1])\n",
      "\tby nakamura.uits.iupui.edu (8.12.11.20060308/8.12.11) with ESMTP id m0495sZs006422\n",
      "\tfor <source@collab.sakaiproject.org>; Fri, 4 Jan 2008 04:05:54 -0500\n",
      "Received: (from apache@localhost)\n",
      "\tby nakamura.uits.iupui.edu (8.12.11.20060308/8.12.11/Submit) id m0495rWB006420\n",
      "\tfor source@collab.sakaiproject.org; Fri, 4 Jan 2008 04:05:53 -0500\n",
      "Date: Fri, 4 Jan 2008 04:05:53 -0500\n",
      "X-Authentication-Warning: nakamura.uits.iupui.edu: apache set sender to stephen.marquard@uct.ac.za using -f\n",
      "To: source@collab.sakaiproject.org\n",
      "From: stephen.marquard@uct.ac.za\n",
      "Subject: [sakai] svn commit: r39750 - event/branches/SAK-6216/event-util/util/src/java/org/sakaiproject/util\n",
      "X-Content-Type-Outer-Envelope: text/plain; charset=UTF-8\n",
      "X-Content-Type-Message-Body: text/plain; charset=UTF-8\n",
      "Content-Type: text/plain; charset=UTF-8\n",
      "X-DSPAM-Result: Innocent\n",
      "X-DSPAM-Processed: Fri Jan  4 04:07:34 2008\n",
      "X-DSPAM-Confidence: 0.7554\n",
      "X-DSPAM-Probability: 0.0000\n",
      "\n",
      "Details: http://source.sakaiproject.org/viewsvn/?view=rev&rev=39750\n",
      "\n",
      "Author: stephen.marquard@uct.ac.za\n",
      "Date: 2008-01-04 04:05:43 -0500 (Fri, 04 Jan 2008)\n",
      "New Revision: 39750\n",
      "\n",
      "Modified:\n",
      "event/branches/SAK-6216/event-util/util/src/java/org/sakaiproject/util/EmailNotification.java\n",
      "Log:\n",
      "SAK-6216 merge event change from SAK-11169 (r39033) to synchronize branch with 2-5-x (for convenience for UCT local build)\n",
      "\n",
      "----------------------\n",
      "This automatic notification message was sent by Sakai Collab (https://collab.sakaiproject.org/portal) from the Source site.\n",
      "You can modify how you receive notifications at My Workspace > Preferences.\n",
      "\n",
      "\n",
      "\n",
      "From louis@media.berkeley.edu Thu Jan  3 19:51:21 2008\n",
      "Return-Path: <postmaster@collab.sakaiproject.org>\n",
      "Received: from murder (mail.umich.edu [141.211.14.91])\n",
      "\t by frankenstein.mail.umich.edu (Cyrus v2.3.8) with LMTPA;\n",
      "\t Thu, 03 Jan 2008 19:51:21 -0500\n",
      "X-Sieve: CMU Sieve 2.3\n",
      "Received: from murder ([unix socket])\n",
      "\t by mail.umich.edu (Cyrus v2.2.12) with LMTPA;\n",
      "\t Thu, 03 Jan 2008 19:51:21 -0500\n",
      "Received: from eyewitness.mr.itd.umich.edu (eyewitness.mr.itd.umich.edu [141.211.93.142])\n",
      "\tby jacknife.mail.umich.edu () with ESMTP id m040pJHB027171;\n",
      "\tThu, 3 Jan 2008 19:51:19 -0500\n",
      "Received: FROM paploo.uhi.ac.uk (app1.prod.collab.uhi.ac.uk [194.35.219.184])\n",
      "\tBY eyewitness.mr.itd.umich.edu ID 477D8300.AC098.32562 ; \n",
      "\t 3 Jan 2008 19:51:15 -0500\n",
      "Received: from paploo.uhi.ac.uk (localhost [127.0.0.1])\n",
      "\tby paploo.uhi.ac.uk (Postfix) with ESMTP id E6CC4B9F8A;\n",
      "\tFri,  4 Jan 2008 00:36:06 +0000 (GMT)\n",
      "Message-ID: <200801040023.m040NpCc005473@nakamura.uits.iupui.edu>\n",
      "Mime-Version: 1.0\n",
      "Content-Transfer-Encoding: 7bit\n",
      "Received: from prod.collab.uhi.ac.uk ([194.35.219.182])\n",
      "          by paploo.uhi.ac.uk (JAMES SMTP Server 2.1.3) with SMTP ID 754\n",
      "          for <source@collab.sakaiproject.org>;\n",
      "          Fri, 4 Jan 2008 00:35:43 +0000 (GMT)\n",
      "Received: from nakamura.uits.iupui.edu (nakamura.uits.iupui.edu [134.68.220.122])\n",
      "\tby shmi.uhi.ac.uk (Postfix) with ESMTP id 8889842C49\n",
      "\tfor <source@collab.sakaiproject.org>; Fri,  4 Jan 2008 00:25:00 +0000 (GMT)\n",
      "Received: from nakamura.uits.iupui.edu (localhost [127.0.0.1])\n",
      "\tby nakamura.uits.iupui.edu (8.12.11.20060308/8.12.11) with ESMTP id m040NpgM005475\n",
      "\tfor <source@collab.sakaiproject.org>; Thu, 3 Jan 2008 19:23:51 -0500\n",
      "Received: (from apache@localhost)\n",
      "\tby nakamura.uits.iupui.edu (8.12.11.20060308/8.12.11/Submit) id m040NpCc005473\n",
      "\tfor source@collab.sakaiproject.org; Thu, 3 Jan 2008 19:23:51 -0500\n",
      "Date: Thu, 3 Jan 2008 19:23:51 -0500\n",
      "X-Authentication-Warning: nakamura.uits.iupui.edu: apache set sender to louis@media.berkeley.edu using -f\n",
      "To: source@collab.sakaiproject.org\n",
      "From: louis@media.berkeley.edu\n",
      "Subject: [sakai] svn commit: r39749 - in bspace/site-manage/sakai_2-4-x/site-manage-tool/tool/src: bundle webapp/vm/sitesetup\n",
      "X-Content-Type-Outer-Envelope: text/plain; charset=UTF-8\n",
      "X-Content-Type-Message-Body: text/plain; charset=UTF-8\n",
      "Content-Type: text/plain; charset=UTF-8\n",
      "X-DSPAM-Result: Innocent\n",
      "X-DSPAM-Processed: Thu Jan  3 19:51:20 2008\n",
      "X-DSPAM-Confidence: 0.6956\n",
      "X-DSPAM-Probability: 0.0000\n",
      "\n",
      "Details: http://source.sakaiproject.org/viewsvn/?view=rev&rev=39749\n",
      "\n",
      "Author: louis@media.berkeley.edu\n",
      "Date: 2008-01-03 19:23:46 -0500 (Thu, 03 Jan 2008)\n",
      "New Revision: 39749\n",
      "\n",
      "Modified:\n",
      "bspace/site-manage/sakai_2-4-x/site-manage-tool/tool/src/bundle/sitesetupgeneric.properties\n",
      "bspace/site-manage/sakai_2-4-x/site-manage-tool/tool/src/webapp/vm/sitesetup/chef_site-importSites.vm\n",
      "Log:\n",
      "BSP-1420 Update text to clarify \"Re-Use Materials...\" option in WS Setup\n",
      "\n",
      "----------------------\n",
      "This automatic notification message was sent by Sakai Collab (https://collab.sakaiproject.org/portal) from the Source site.\n",
      "You can modify how you receive notifications at My Workspace > Preferences.\n",
      "\n",
      "\n",
      "\n",
      "From louis@media.berkeley.edu Thu Jan  3 17:18:23 2008\n",
      "Return-Path: <postmaster@collab.sakaiproject.org>\n",
      "Received: from murder (mail.umich.edu [141.211.14.91])\n",
      "\t by frankenstein.mail.umich.edu (Cyrus v2.3.8) with LMTPA;\n",
      "\t Thu, 03 Jan 2008 17:18:23 -0500\n",
      "X-Sieve: CMU Sieve 2.3\n",
      "Received: from murder ([unix socket])\n",
      "\t by mail.umich.edu (Cyrus v2.2.12) with LMTPA;\n",
      "\t Thu, 03 Jan 2008 17:18:23 -0500\n",
      "Received: from salemslot.mr.itd.umich.edu (salemslot.mr.itd.umich.edu [141.211.14.58])\n",
      "\tby jacknife.mail.umich.edu () with ESMTP id m03MIMXY027729;\n",
      "\tThu, 3 Jan 2008 17:18:22 -0500\n",
      "Received: FROM paploo.uhi.ac.uk (app1.prod.collab.uhi.ac.uk [194.35.219.184])\n",
      "\tBY salemslot.mr.itd.umich.edu ID 477D5F23.797F6.16348 ; \n",
      "\t 3 Jan 2008 17:18:14 -0500\n",
      "Received: from paploo.uhi.ac.uk (localhost [127.0.0.1])\n",
      "\tby paploo.uhi.ac.uk (Postfix) with ESMTP id EF439B98CE;\n",
      "\tThu,  3 Jan 2008 22:18:19 +0000 (GMT)\n",
      "Message-ID: <200801032216.m03MGhDa005292@nakamura.uits.iupui.edu>\n",
      "Mime-Version: 1.0\n",
      "Content-Transfer-Encoding: 7bit\n",
      "Received: from prod.collab.uhi.ac.uk ([194.35.219.182])\n",
      "          by paploo.uhi.ac.uk (JAMES SMTP Server 2.1.3) with SMTP ID 236\n",
      "          for <source@collab.sakaiproject.org>;\n",
      "          Thu, 3 Jan 2008 22:18:04 +0000 (GMT)\n",
      "Received: from nakamura.uits.iupui.edu (nakamura.uits.iupui.edu [134.68.220.122])\n",
      "\tby shmi.uhi.ac.uk (Postfix) with ESMTP id 905D53C2FD\n",
      "\tfor <source@collab.sakaiproject.org>; Thu,  3 Jan 2008 22:17:52 +0000 (GMT)\n",
      "Received: from nakamura.uits.iupui.edu (localhost [127.0.0.1])\n",
      "\tby nakamura.uits.iupui.edu (8.12.11.20060308/8.12.11) with ESMTP id m03MGhrs005294\n",
      "\tfor <source@collab.sakaiproject.org>; Thu, 3 Jan 2008 17:16:43 -0500\n",
      "Received: (from apache@localhost)\n",
      "\tby nakamura.uits.iupui.edu (8.12.11.20060308/8.12.11/Submit) id m03MGhDa005292\n",
      "\tfor source@collab.sakaiproject.org; Thu, 3 Jan 2008 17:16:43 -0500\n",
      "Date: Thu, 3 Jan 2008 17:16:43 -0500\n",
      "X-Authentication-Warning: nakamura.uits.iupui.edu: apache set sender to louis@media.berkeley.edu using -f\n",
      "To: source@collab.sakaiproject.org\n",
      "From: louis@media.berkeley.edu\n",
      "Subject: [sakai] svn commit: r39746 - in bspace/site-manage/sakai_2-4-x/site-manage-tool/tool/src: bundle webapp/vm/sitesetup\n",
      "X-Content-Type-Outer-Envelope: text/plain; charset=UTF-8\n",
      "X-Content-Type-Message-Body: text/plain; charset=UTF-8\n",
      "Content-Type: text/plain; charset=UTF-8\n",
      "X-DSPAM-Result: Innocent\n",
      "X-DSPAM-Processed: Thu Jan  3 17:18:23 2008\n",
      "X-DSPAM-Confidence: 0.6959\n",
      "X-DSPAM-Probability: 0.0000\n",
      "\n",
      "Details: http://source.sakaiproject.org/viewsvn/?view=rev&rev=39746\n",
      "\n",
      "Author: louis@media.berkeley.edu\n",
      "Date: 2008-01-03 17:16:39 -0500 (Thu, 03 Jan 2008)\n",
      "New Revision: 39746\n",
      "\n",
      "Modified:\n",
      "bspace/site-manage/sakai_2-4-x/site-manage-tool/tool/src/bundle/sitesetupgeneric.properties\n",
      "bspace/site-manage/sakai_2-4-x/site-manage-tool/tool/src/webapp/vm/sitesetup/chef_site-siteInfo-duplicate.vm\n",
      "Log:\n",
      "BSP-1421 Add text to clarify \"Duplicate Site\" option in Site Info\n",
      "\n",
      "----------------------\n",
      "This automatic notification message was sent by Sakai Collab (https://collab.sakaiproject.org/portal) from the Source site.\n",
      "You can modify how you receive notifications at My Workspace > Preferences.\n",
      "\n",
      "\n",
      "\n",
      "From ray@media.berkeley.edu Thu Jan  3 17:07:00 2008\n",
      "Return-Path: <postmaster@collab.sakaiproject.org>\n",
      "Received: from murder (mail.umich.edu [141.211.14.39])\n",
      "\t by frankenstein.mail.umich.edu (Cyrus v2.3.8) with LMTPA;\n",
      "\t Thu, 03 Jan 2008 17:07:00 -0500\n",
      "X-Sieve: CMU Sieve 2.3\n",
      "Received: from murder ([unix socket])\n",
      "\t by mail.umich.edu (Cyrus v2.2.12) with LMTPA;\n",
      "\t Thu, 03 Jan 2008 17:07:00 -0500\n",
      "Received: from anniehall.mr.itd.umich.edu (anniehall.mr.itd.umich.edu [141.211.93.141])\n",
      "\tby faithful.mail.umich.edu () with ESMTP id m03M6xaq014868;\n",
      "\tThu, 3 Jan 2008 17:06:59 -0500\n",
      "Received: FROM paploo.uhi.ac.uk (app1.prod.collab.uhi.ac.uk [194.35.219.184])\n",
      "\tBY anniehall.mr.itd.umich.edu ID 477D5C7A.4FE1F.22211 ; \n",
      "\t 3 Jan 2008 17:06:53 -0500\n",
      "Received: from paploo.uhi.ac.uk (localhost [127.0.0.1])\n",
      "\tby paploo.uhi.ac.uk (Postfix) with ESMTP id 0BC8D7225E;\n",
      "\tThu,  3 Jan 2008 22:06:57 +0000 (GMT)\n",
      "Message-ID: <200801032205.m03M5Ea7005273@nakamura.uits.iupui.edu>\n",
      "Mime-Version: 1.0\n",
      "Content-Transfer-Encoding: 7bit\n",
      "Received: from prod.collab.uhi.ac.uk ([194.35.219.182])\n",
      "          by paploo.uhi.ac.uk (JAMES SMTP Server 2.1.3) with SMTP ID 554\n",
      "          for <source@collab.sakaiproject.org>;\n",
      "          Thu, 3 Jan 2008 22:06:34 +0000 (GMT)\n",
      "Received: from nakamura.uits.iupui.edu (nakamura.uits.iupui.edu [134.68.220.122])\n",
      "\tby shmi.uhi.ac.uk (Postfix) with ESMTP id 2AB513C2FD\n",
      "\tfor <source@collab.sakaiproject.org>; Thu,  3 Jan 2008 22:06:23 +0000 (GMT)\n",
      "Received: from nakamura.uits.iupui.edu (localhost [127.0.0.1])\n",
      "\tby nakamura.uits.iupui.edu (8.12.11.20060308/8.12.11) with ESMTP id m03M5EQa005275\n",
      "\tfor <source@collab.sakaiproject.org>; Thu, 3 Jan 2008 17:05:14 -0500\n",
      "Received: (from apache@localhost)\n",
      "\tby nakamura.uits.iupui.edu (8.12.11.20060308/8.12.11/Submit) id m03M5Ea7005273\n",
      "\tfor source@collab.sakaiproject.org; Thu, 3 Jan 2008 17:05:14 -0500\n",
      "Date: Thu, 3 Jan 2008 17:05:14 -0500\n",
      "X-Authentication-Warning: nakamura.uits.iupui.edu: apache set sender to ray@media.berkeley.edu using -f\n",
      "To: source@collab.sakaiproject.org\n",
      "From: ray@media.berkeley.edu\n",
      "Subject: [sakai] svn commit: r39745 - providers/trunk/cm/cm-authz-provider/src/java/org/sakaiproject/coursemanagement/impl/provider\n",
      "X-Content-Type-Outer-Envelope: text/plain; charset=UTF-8\n",
      "X-Content-Type-Message-Body: text/plain; charset=UTF-8\n",
      "Content-Type: text/plain; charset=UTF-8\n",
      "X-DSPAM-Result: Innocent\n",
      "X-DSPAM-Processed: Thu Jan  3 17:07:00 2008\n",
      "X-DSPAM-Confidence: 0.7556\n",
      "X-DSPAM-Probability: 0.0000\n",
      "\n",
      "Details: http://source.sakaiproject.org/viewsvn/?view=rev&rev=39745\n",
      "\n",
      "Author: ray@media.berkeley.edu\n",
      "Date: 2008-01-03 17:05:11 -0500 (Thu, 03 Jan 2008)\n",
      "New Revision: 39745\n",
      "\n",
      "Modified:\n",
      "providers/trunk/cm/cm-authz-provider/src/java/org/sakaiproject/coursemanagement/impl/provider/CourseManagementGroupProvider.java\n",
      "Log:\n",
      "SAK-12602 Fix logic when a user has multiple roles in a section\n",
      "\n",
      "----------------------\n",
      "This automatic notification message was sent by Sakai Collab (https://collab.sakaiproject.org/portal) from the Source site.\n",
      "You can modify how you receive notifications at My Workspace > Preferences.\n",
      "\n",
      "\n",
      "\n",
      "From cwen@iupui.edu Thu Jan  3 16:34:40 2008\n",
      "Return-Path: <postmaster@collab.sakaiproject.org>\n",
      "Received: from murder (mail.umich.edu [141.211.14.34])\n",
      "\t by frankenstein.mail.umich.edu (Cyrus v2.3.8) with LMTPA;\n",
      "\t Thu, 03 Jan 2008 16:34:40 -0500\n",
      "X-Sieve: CMU Sieve 2.3\n",
      "Received: from murder ([unix socket])\n",
      "\t by mail.umich.edu (Cyrus v2.2.12) with LMTPA;\n",
      "\t Thu, 03 Jan 2008 16:34:40 -0500\n",
      "Received: from icestorm.mr.itd.umich.edu (icestorm.mr.itd.umich.edu [141.211.93.149])\n",
      "\tby chaos.mail.umich.edu () with ESMTP id m03LYdY1029538;\n",
      "\tThu, 3 Jan 2008 16:34:39 -0500\n",
      "Received: FROM paploo.uhi.ac.uk (app1.prod.collab.uhi.ac.uk [194.35.219.184])\n",
      "\tBY icestorm.mr.itd.umich.edu ID 477D54EA.13F34.26602 ; \n",
      "\t 3 Jan 2008 16:34:36 -0500\n",
      "Received: from paploo.uhi.ac.uk (localhost [127.0.0.1])\n",
      "\tby paploo.uhi.ac.uk (Postfix) with ESMTP id CC710ADC79;\n",
      "\tThu,  3 Jan 2008 21:34:29 +0000 (GMT)\n",
      "Message-ID: <200801032133.m03LX3gG005191@nakamura.uits.iupui.edu>\n",
      "Mime-Version: 1.0\n",
      "Content-Transfer-Encoding: 7bit\n",
      "Received: from prod.collab.uhi.ac.uk ([194.35.219.182])\n",
      "          by paploo.uhi.ac.uk (JAMES SMTP Server 2.1.3) with SMTP ID 611\n",
      "          for <source@collab.sakaiproject.org>;\n",
      "          Thu, 3 Jan 2008 21:34:08 +0000 (GMT)\n",
      "Received: from nakamura.uits.iupui.edu (nakamura.uits.iupui.edu [134.68.220.122])\n",
      "\tby shmi.uhi.ac.uk (Postfix) with ESMTP id 43C4242B55\n",
      "\tfor <source@collab.sakaiproject.org>; Thu,  3 Jan 2008 21:34:12 +0000 (GMT)\n",
      "Received: from nakamura.uits.iupui.edu (localhost [127.0.0.1])\n",
      "\tby nakamura.uits.iupui.edu (8.12.11.20060308/8.12.11) with ESMTP id m03LX3Vb005193\n",
      "\tfor <source@collab.sakaiproject.org>; Thu, 3 Jan 2008 16:33:03 -0500\n",
      "Received: (from apache@localhost)\n",
      "\tby nakamura.uits.iupui.edu (8.12.11.20060308/8.12.11/Submit) id m03LX3gG005191\n",
      "\tfor source@collab.sakaiproject.org; Thu, 3 Jan 2008 16:33:03 -0500\n",
      "Date: Thu, 3 Jan 2008 16:33:03 -0500\n",
      "X-Authentication-Warning: nakamura.uits.iupui.edu: apache set sender to cwen@iupui.edu using -f\n",
      "To: source@collab.sakaiproject.org\n",
      "From: cwen@iupui.edu\n",
      "Subject: [sakai] svn commit: r39744 - oncourse/branches/oncourse_OPC_122007\n",
      "X-Content-Type-Outer-Envelope: text/plain; charset=UTF-8\n",
      "X-Content-Type-Message-Body: text/plain; charset=UTF-8\n",
      "Content-Type: text/plain; charset=UTF-8\n",
      "X-DSPAM-Result: Innocent\n",
      "X-DSPAM-Processed: Thu Jan  3 16:34:40 2008\n",
      "X-DSPAM-Confidence: 0.9846\n",
      "X-DSPAM-Probability: 0.0000\n",
      "\n",
      "Details: http://source.sakaiproject.org/viewsvn/?view=rev&rev=39744\n",
      "\n",
      "Author: cwen@iupui.edu\n",
      "Date: 2008-01-03 16:33:02 -0500 (Thu, 03 Jan 2008)\n",
      "New Revision: 39744\n",
      "\n",
      "Modified:\n",
      "oncourse/branches/oncourse_OPC_122007/\n",
      "oncourse/branches/oncourse_OPC_122007/.externals\n",
      "Log:\n",
      "update external for GB.\n",
      "\n",
      "----------------------\n",
      "This automatic notification message was sent by Sakai Collab (https://collab.sakaiproject.org/portal) from the Source site.\n",
      "You can modify how you receive notifications at My Workspace > Preferences.\n",
      "\n",
      "\n",
      "\n",
      "From cwen@iupui.edu Thu Jan  3 16:29:07 2008\n",
      "Return-Path: <postmaster@collab.sakaiproject.org>\n",
      "Received: from murder (mail.umich.edu [141.211.14.46])\n",
      "\t by frankenstein.mail.umich.edu (Cyrus v2.3.8) with LMTPA;\n",
      "\t Thu, 03 Jan 2008 16:29:07 -0500\n",
      "X-Sieve: CMU Sieve 2.3\n",
      "Received: from murder ([unix socket])\n",
      "\t by mail.umich.edu (Cyrus v2.2.12) with LMTPA;\n",
      "\t Thu, 03 Jan 2008 16:29:07 -0500\n",
      "Received: from galaxyquest.mr.itd.umich.edu (galaxyquest.mr.itd.umich.edu [141.211.93.145])\n",
      "\tby fan.mail.umich.edu () with ESMTP id m03LT6uw027749;\n",
      "\tThu, 3 Jan 2008 16:29:06 -0500\n",
      "Received: FROM paploo.uhi.ac.uk (app1.prod.collab.uhi.ac.uk [194.35.219.184])\n",
      "\tBY galaxyquest.mr.itd.umich.edu ID 477D5397.E161D.20326 ; \n",
      "\t 3 Jan 2008 16:28:58 -0500\n",
      "Received: from paploo.uhi.ac.uk (localhost [127.0.0.1])\n",
      "\tby paploo.uhi.ac.uk (Postfix) with ESMTP id DEC65ADC79;\n",
      "\tThu,  3 Jan 2008 21:28:52 +0000 (GMT)\n",
      "Message-ID: <200801032127.m03LRUqH005177@nakamura.uits.iupui.edu>\n",
      "Mime-Version: 1.0\n",
      "Content-Transfer-Encoding: 7bit\n",
      "Received: from prod.collab.uhi.ac.uk ([194.35.219.182])\n",
      "          by paploo.uhi.ac.uk (JAMES SMTP Server 2.1.3) with SMTP ID 917\n",
      "          for <source@collab.sakaiproject.org>;\n",
      "          Thu, 3 Jan 2008 21:28:39 +0000 (GMT)\n",
      "Received: from nakamura.uits.iupui.edu (nakamura.uits.iupui.edu [134.68.220.122])\n",
      "\tby shmi.uhi.ac.uk (Postfix) with ESMTP id 1FBB042B30\n",
      "\tfor <source@collab.sakaiproject.org>; Thu,  3 Jan 2008 21:28:38 +0000 (GMT)\n",
      "Received: from nakamura.uits.iupui.edu (localhost [127.0.0.1])\n",
      "\tby nakamura.uits.iupui.edu (8.12.11.20060308/8.12.11) with ESMTP id m03LRUk4005179\n",
      "\tfor <source@collab.sakaiproject.org>; Thu, 3 Jan 2008 16:27:30 -0500\n",
      "Received: (from apache@localhost)\n",
      "\tby nakamura.uits.iupui.edu (8.12.11.20060308/8.12.11/Submit) id m03LRUqH005177\n",
      "\tfor source@collab.sakaiproject.org; Thu, 3 Jan 2008 16:27:30 -0500\n",
      "Date: Thu, 3 Jan 2008 16:27:30 -0500\n",
      "X-Authentication-Warning: nakamura.uits.iupui.edu: apache set sender to cwen@iupui.edu using -f\n",
      "To: source@collab.sakaiproject.org\n",
      "From: cwen@iupui.edu\n",
      "Subject: [sakai] svn commit: r39743 - gradebook/branches/oncourse_2-4-2/app/ui/src/java/org/sakaiproject/tool/gradebook/ui\n",
      "X-Content-Type-Outer-Envelope: text/plain; charset=UTF-8\n",
      "X-Content-Type-Message-Body: text/plain; charset=UTF-8\n",
      "Content-Type: text/plain; charset=UTF-8\n",
      "X-DSPAM-Result: Innocent\n",
      "X-DSPAM-Processed: Thu Jan  3 16:29:07 2008\n",
      "X-DSPAM-Confidence: 0.8509\n",
      "X-DSPAM-Probability: 0.0000\n",
      "\n",
      "Details: http://source.sakaiproject.org/viewsvn/?view=rev&rev=39743\n",
      "\n",
      "Author: cwen@iupui.edu\n",
      "Date: 2008-01-03 16:27:29 -0500 (Thu, 03 Jan 2008)\n",
      "New Revision: 39743\n",
      "\n",
      "Modified:\n",
      "gradebook/branches/oncourse_2-4-2/app/ui/src/java/org/sakaiproject/tool/gradebook/ui/RosterBean.java\n",
      "Log:\n",
      "svn merge -c 39403 https://source.sakaiproject.org/svn/gradebook/trunk\n",
      "U    app/ui/src/java/org/sakaiproject/tool/gradebook/ui/RosterBean.java\n",
      "\n",
      "svn log -r 39403 https://source.sakaiproject.org/svn/gradebook/trunk\n",
      "------------------------------------------------------------------------\n",
      "r39403 | wagnermr@iupui.edu | 2007-12-17 17:11:08 -0500 (Mon, 17 Dec 2007) | 3 lines\n",
      "\n",
      "SAK-12504\n",
      "http://jira.sakaiproject.org/jira/browse/SAK-12504\n",
      "Viewing \"All Grades\" page as a TA with grader permissions causes stack trace\n",
      "------------------------------------------------------------------------\n",
      "\n",
      "\n",
      "----------------------\n",
      "This automatic notification message was sent by Sakai Collab (https://collab.sakaiproject.org/portal) from the Source site.\n",
      "You can modify how you receive notifications at My Workspace > Preferences.\n",
      "\n",
      "\n",
      "\n",
      "From cwen@iupui.edu Thu Jan  3 16:23:48 2008\n",
      "Return-Path: <postmaster@collab.sakaiproject.org>\n",
      "Received: from murder (mail.umich.edu [141.211.14.91])\n",
      "\t by frankenstein.mail.umich.edu (Cyrus v2.3.8) with LMTPA;\n",
      "\t Thu, 03 Jan 2008 16:23:48 -0500\n",
      "X-Sieve: CMU Sieve 2.3\n",
      "Received: from murder ([unix socket])\n",
      "\t by mail.umich.edu (Cyrus v2.2.12) with LMTPA;\n",
      "\t Thu, 03 Jan 2008 16:23:48 -0500\n",
      "Received: from salemslot.mr.itd.umich.edu (salemslot.mr.itd.umich.edu [141.211.14.58])\n",
      "\tby jacknife.mail.umich.edu () with ESMTP id m03LNlf0002115;\n",
      "\tThu, 3 Jan 2008 16:23:47 -0500\n",
      "Received: FROM paploo.uhi.ac.uk (app1.prod.collab.uhi.ac.uk [194.35.219.184])\n",
      "\tBY salemslot.mr.itd.umich.edu ID 477D525E.1448.30389 ; \n",
      "\t 3 Jan 2008 16:23:44 -0500\n",
      "Received: from paploo.uhi.ac.uk (localhost [127.0.0.1])\n",
      "\tby paploo.uhi.ac.uk (Postfix) with ESMTP id 9D005B9D06;\n",
      "\tThu,  3 Jan 2008 21:23:38 +0000 (GMT)\n",
      "Message-ID: <200801032122.m03LMFo4005148@nakamura.uits.iupui.edu>\n",
      "Mime-Version: 1.0\n",
      "Content-Transfer-Encoding: 7bit\n",
      "Received: from prod.collab.uhi.ac.uk ([194.35.219.182])\n",
      "          by paploo.uhi.ac.uk (JAMES SMTP Server 2.1.3) with SMTP ID 6\n",
      "          for <source@collab.sakaiproject.org>;\n",
      "          Thu, 3 Jan 2008 21:23:24 +0000 (GMT)\n",
      "Received: from nakamura.uits.iupui.edu (nakamura.uits.iupui.edu [134.68.220.122])\n",
      "\tby shmi.uhi.ac.uk (Postfix) with ESMTP id 3535542B69\n",
      "\tfor <source@collab.sakaiproject.org>; Thu,  3 Jan 2008 21:23:24 +0000 (GMT)\n",
      "Received: from nakamura.uits.iupui.edu (localhost [127.0.0.1])\n",
      "\tby nakamura.uits.iupui.edu (8.12.11.20060308/8.12.11) with ESMTP id m03LMFtT005150\n",
      "\tfor <source@collab.sakaiproject.org>; Thu, 3 Jan 2008 16:22:15 -0500\n",
      "Received: (from apache@localhost)\n",
      "\tby nakamura.uits.iupui.edu (8.12.11.20060308/8.12.11/Submit) id m03LMFo4005148\n",
      "\tfor source@collab.sakaiproject.org; Thu, 3 Jan 2008 16:22:15 -0500\n",
      "Date: Thu, 3 Jan 2008 16:22:15 -0500\n",
      "X-Authentication-Warning: nakamura.uits.iupui.edu: apache set sender to cwen@iupui.edu using -f\n",
      "To: source@collab.sakaiproject.org\n",
      "From: cwen@iupui.edu\n",
      "Subject: [sakai] svn commit: r39742 - gradebook/branches/oncourse_2-4-2/app/ui/src/java/org/sakaiproject/tool/gradebook/ui\n",
      "X-Content-Type-Outer-Envelope: text/plain; charset=UTF-8\n",
      "X-Content-Type-Message-Body: text/plain; charset=UTF-8\n",
      "Content-Type: text/plain; charset=UTF-8\n",
      "X-DSPAM-Result: Innocent\n",
      "X-DSPAM-Processed: Thu Jan  3 16:23:48 2008\n",
      "X-DSPAM-Confidence: 0.9907\n",
      "X-DSPAM-Probability: 0.0000\n",
      "\n",
      "Details: http://source.sakaiproject.org/viewsvn/?view=rev&rev=39742\n",
      "\n",
      "Author: cwen@iupui.edu\n",
      "Date: 2008-01-03 16:22:14 -0500 (Thu, 03 Jan 2008)\n",
      "New Revision: 39742\n",
      "\n",
      "Modified:\n",
      "gradebook/branches/oncourse_2-4-2/app/ui/src/java/org/sakaiproject/tool/gradebook/ui/RosterBean.java\n",
      "Log:\n",
      "svn merge -c 35014 https://source.sakaiproject.org/svn/gradebook/trunk\n",
      "U    app/ui/src/java/org/sakaiproject/tool/gradebook/ui/RosterBean.java\n",
      "\n",
      "svn log -r 35014 https://source.sakaiproject.org/svn/gradebook/trunk\n",
      "------------------------------------------------------------------------\n",
      "r35014 | wagnermr@iupui.edu | 2007-09-12 16:17:59 -0400 (Wed, 12 Sep 2007) | 3 lines\n",
      "\n",
      "SAK-11458\n",
      "http://bugs.sakaiproject.org/jira/browse/SAK-11458\n",
      "Course grade does not appear on \"All Grades\" page if no categories in gb\n",
      "------------------------------------------------------------------------\n",
      "\n",
      "\n",
      "----------------------\n",
      "This automatic notification message was sent by Sakai Collab (https://collab.sakaiproject.org/portal) from the Source site.\n",
      "You can modify how you receive notifications at My Workspace > Preferences.\n",
      "\n",
      "\n"
     ]
    }
   ],
   "source": [
    "#Lendo o arquivo com read\n",
    "fhand = open('mbox-short.txt')\n",
    "inp = fhand.read()\n",
    "print(inp)"
   ]
  },
  {
   "cell_type": "code",
   "execution_count": 18,
   "id": "7ffa4b6a",
   "metadata": {},
   "outputs": [
    {
     "name": "stdout",
     "output_type": "stream",
     "text": [
      "94626\n"
     ]
    }
   ],
   "source": [
    "#Lendo o arquivo com read\n",
    "fhand = open('mbox-short.txt')\n",
    "inp = fhand.read()\n",
    "print(len(inp))"
   ]
  },
  {
   "cell_type": "code",
   "execution_count": 19,
   "id": "c682147d",
   "metadata": {},
   "outputs": [
    {
     "name": "stdout",
     "output_type": "stream",
     "text": [
      "From stephen.marquar\n"
     ]
    }
   ],
   "source": [
    "print(inp[:20])"
   ]
  },
  {
   "cell_type": "markdown",
   "id": "f2e070bf",
   "metadata": {},
   "source": [
    "## 7.5. PESQUISAR EM UM ARQUIVO"
   ]
  },
  {
   "cell_type": "markdown",
   "id": "a2b9f880",
   "metadata": {},
   "source": [
    "\n",
    "Por exemplo, se queremos ler um arquivo e apenas mostrar as linhas que começam\n",
    "com o prefixo “From:”, podemos usar o método startswith para selecionar apenas\n",
    "as linhas que possuem o prefixo desejado:\n"
   ]
  },
  {
   "cell_type": "code",
   "execution_count": 21,
   "id": "dbd17706",
   "metadata": {},
   "outputs": [
    {
     "name": "stdout",
     "output_type": "stream",
     "text": [
      "From: stephen.marquard@uct.ac.za\n",
      "\n",
      "From: louis@media.berkeley.edu\n",
      "\n",
      "From: zqian@umich.edu\n",
      "\n",
      "From: rjlowe@iupui.edu\n",
      "\n",
      "From: zqian@umich.edu\n",
      "\n",
      "From: rjlowe@iupui.edu\n",
      "\n",
      "From: cwen@iupui.edu\n",
      "\n",
      "From: cwen@iupui.edu\n",
      "\n",
      "From: gsilver@umich.edu\n",
      "\n",
      "From: gsilver@umich.edu\n",
      "\n",
      "From: zqian@umich.edu\n",
      "\n",
      "From: gsilver@umich.edu\n",
      "\n",
      "From: wagnermr@iupui.edu\n",
      "\n",
      "From: zqian@umich.edu\n",
      "\n",
      "From: antranig@caret.cam.ac.uk\n",
      "\n",
      "From: gopal.ramasammycook@gmail.com\n",
      "\n",
      "From: david.horwitz@uct.ac.za\n",
      "\n",
      "From: david.horwitz@uct.ac.za\n",
      "\n",
      "From: david.horwitz@uct.ac.za\n",
      "\n",
      "From: david.horwitz@uct.ac.za\n",
      "\n",
      "From: stephen.marquard@uct.ac.za\n",
      "\n",
      "From: louis@media.berkeley.edu\n",
      "\n",
      "From: louis@media.berkeley.edu\n",
      "\n",
      "From: ray@media.berkeley.edu\n",
      "\n",
      "From: cwen@iupui.edu\n",
      "\n",
      "From: cwen@iupui.edu\n",
      "\n",
      "From: cwen@iupui.edu\n",
      "\n"
     ]
    }
   ],
   "source": [
    "fhand = open('mbox-short.txt')\n",
    "count = 0\n",
    "for line in fhand:\n",
    "    if line.startswith('From: '):\n",
    "        print(line)\n",
    "# scr/search1.py"
   ]
  },
  {
   "cell_type": "code",
   "execution_count": 28,
   "id": "5166f34d",
   "metadata": {},
   "outputs": [
    {
     "name": "stdout",
     "output_type": "stream",
     "text": [
      "From: stephen.marquard@uct.ac.za\n",
      "From: louis@media.berkeley.edu\n",
      "From: zqian@umich.edu\n",
      "From: rjlowe@iupui.edu\n",
      "From: zqian@umich.edu\n",
      "From: rjlowe@iupui.edu\n",
      "From: cwen@iupui.edu\n",
      "From: cwen@iupui.edu\n",
      "From: gsilver@umich.edu\n",
      "From: gsilver@umich.edu\n",
      "From: zqian@umich.edu\n",
      "From: gsilver@umich.edu\n",
      "From: wagnermr@iupui.edu\n",
      "From: zqian@umich.edu\n",
      "From: antranig@caret.cam.ac.uk\n",
      "From: gopal.ramasammycook@gmail.com\n",
      "From: david.horwitz@uct.ac.za\n",
      "From: david.horwitz@uct.ac.za\n",
      "From: david.horwitz@uct.ac.za\n",
      "From: david.horwitz@uct.ac.za\n",
      "From: stephen.marquard@uct.ac.za\n",
      "From: louis@media.berkeley.edu\n",
      "From: louis@media.berkeley.edu\n",
      "From: ray@media.berkeley.edu\n",
      "From: cwen@iupui.edu\n",
      "From: cwen@iupui.edu\n",
      "From: cwen@iupui.edu\n"
     ]
    }
   ],
   "source": [
    "# rstrip method which tira os espaços em branco do lado direito da\n",
    "# stirng, como pode ser observado:\n",
    "fhand = open('mbox-short.txt')\n",
    "for line in fhand:\n",
    "    line  = line.rstrip()\n",
    "    if line.startswith('From:'):\n",
    "        print(line)\n",
    "#scr/search2.py"
   ]
  },
  {
   "cell_type": "markdown",
   "id": "71b872ec",
   "metadata": {},
   "source": [
    "Uma vez que seus programas de processamento de arquivos ficam mais complicados,você deve querer estruturar seus laços de pesquisa usando continue. A ideia básica\n",
    "dos laços de pesquisa é procurar por linhas “interessantes” e efetivamente pular as “desinteressantes”. E então, quando encontramos uma de nosso interesse, fazemos algo com aquela linha.\n",
    "Podemos estruturar o laço seguindo o padrão de pular as linhas desinteressantes seguindo o modelo:"
   ]
  },
  {
   "cell_type": "code",
   "execution_count": 30,
   "id": "33d1ee50",
   "metadata": {},
   "outputs": [
    {
     "name": "stdout",
     "output_type": "stream",
     "text": [
      "From: stephen.marquard@uct.ac.za\n",
      "From: louis@media.berkeley.edu\n",
      "From: zqian@umich.edu\n",
      "From: rjlowe@iupui.edu\n",
      "From: zqian@umich.edu\n",
      "From: rjlowe@iupui.edu\n",
      "From: cwen@iupui.edu\n",
      "From: cwen@iupui.edu\n",
      "From: gsilver@umich.edu\n",
      "From: gsilver@umich.edu\n",
      "From: zqian@umich.edu\n",
      "From: gsilver@umich.edu\n",
      "From: wagnermr@iupui.edu\n",
      "From: zqian@umich.edu\n",
      "From: antranig@caret.cam.ac.uk\n",
      "From: gopal.ramasammycook@gmail.com\n",
      "From: david.horwitz@uct.ac.za\n",
      "From: david.horwitz@uct.ac.za\n",
      "From: david.horwitz@uct.ac.za\n",
      "From: david.horwitz@uct.ac.za\n",
      "From: stephen.marquard@uct.ac.za\n",
      "From: louis@media.berkeley.edu\n",
      "From: louis@media.berkeley.edu\n",
      "From: ray@media.berkeley.edu\n",
      "From: cwen@iupui.edu\n",
      "From: cwen@iupui.edu\n",
      "From: cwen@iupui.edu\n"
     ]
    }
   ],
   "source": [
    "fhand = open('mbox-short.txt')\n",
    "for line in fhand:\n",
    "    line = line.strip()\n",
    "    if not line.startswith('From:'):\n",
    "        continue\n",
    "    print(line)\n",
    "# src;search3.py"
   ]
  },
  {
   "cell_type": "code",
   "execution_count": null,
   "id": "6b10e4e8",
   "metadata": {},
   "outputs": [],
   "source": []
  },
  {
   "cell_type": "code",
   "execution_count": null,
   "id": "3dc1f509",
   "metadata": {},
   "outputs": [],
   "source": []
  },
  {
   "cell_type": "code",
   "execution_count": null,
   "id": "0481d1bd",
   "metadata": {},
   "outputs": [],
   "source": []
  },
  {
   "cell_type": "code",
   "execution_count": null,
   "id": "1702f836",
   "metadata": {},
   "outputs": [],
   "source": []
  },
  {
   "cell_type": "code",
   "execution_count": null,
   "id": "605823a4",
   "metadata": {},
   "outputs": [],
   "source": []
  },
  {
   "cell_type": "code",
   "execution_count": null,
   "id": "d0573bf2",
   "metadata": {},
   "outputs": [],
   "source": []
  },
  {
   "cell_type": "code",
   "execution_count": null,
   "id": "c990db66",
   "metadata": {},
   "outputs": [],
   "source": []
  },
  {
   "cell_type": "code",
   "execution_count": null,
   "id": "b635443c",
   "metadata": {},
   "outputs": [],
   "source": []
  },
  {
   "cell_type": "markdown",
   "id": "6937292e-a75c-422a-8137-d0b377e86ee9",
   "metadata": {},
   "source": [
    "# Chapter 8 - Lists"
   ]
  },
  {
   "cell_type": "markdown",
   "id": "0e5095b9-c182-4ce6-9a82-efae74650700",
   "metadata": {},
   "source": [
    "## 8.1 - A list is a sequence (Uma lista é uma sequência)\n",
    "\n",
    "Como uma string, uma lista é uma sequência de valores. Em uma string, os valores são caracteres; em uma lista, eles podem ser de qualquer tipo. Os valores na lista são chamados de elementos ou, às vezes, de itens.\n",
    "\n",
    "Existem várias maneiras de criar uma nova lista; o mais simples é colocar os elementos entre colchetes ([\" __and__ “]):\n",
    "\n",
    "__Exemplo__:\n",
    "\n",
    "[10, 20, 30, 40]\n",
    "\n",
    "\n",
    "['crunchy frog', 'ram bladder', 'lark vomit']\n",
    "\n",
    "Uma lista dentro de outra lista é aninhada:\n",
    "['spam', 2.0, 5, [10, 20]]\n",
    "\n",
    "Uma lista que não contém elementos é chamada de lista vazia; você pode criar um com colchetes vazios, `[]`.\n",
    "\n",
    "Como você pode esperar, você pode atribuir valores de lista a variáveis:"
   ]
  },
  {
   "cell_type": "code",
   "execution_count": null,
   "id": "64179885-8bcb-4e5e-a8da-b2ae9b9fc13c",
   "metadata": {},
   "outputs": [],
   "source": [
    "cheeses = ['Cheddar', 'Edam', 'Gouda']\n",
    "numbers = [17,123]\n",
    "empty = []\n",
    "print(cheeses, numbers, empty)"
   ]
  },
  {
   "cell_type": "markdown",
   "id": "1022986e-f0c0-408d-8bc4-50ee2177afd9",
   "metadata": {},
   "source": [
    "## 8.2. - As listas são mutáveis\n",
    "A sintaxe para acessar os elementos de uma lista é a mesma para acessar os caracteres de uma string: o operador colchete. A expressão dentro dos colchetes especifica o índice. `Lembre-se que os índices começam em 0`:"
   ]
  },
  {
   "cell_type": "code",
   "execution_count": null,
   "id": "bb50970d",
   "metadata": {},
   "outputs": [],
   "source": [
    "print(cheeses[0])"
   ]
  },
  {
   "cell_type": "markdown",
   "id": "28e71ac5",
   "metadata": {},
   "source": [
    "Ao contrário das strings, as listas são mutáveis ​​porque você pode alterar a ordem dos itens em uma lista ou reatribuir um item em uma lista. Quando o operador de colchetes aparece no lado esquerdo de uma atribuição, ele identifica o elemento da lista que será atribuído."
   ]
  },
  {
   "cell_type": "code",
   "execution_count": null,
   "id": "fc989e05",
   "metadata": {},
   "outputs": [],
   "source": [
    "numbers = [17,123]\n",
    "numbers"
   ]
  },
  {
   "cell_type": "code",
   "execution_count": null,
   "id": "2ce44803",
   "metadata": {},
   "outputs": [],
   "source": [
    "numbers[1] = 5\n",
    "print(numbers)"
   ]
  },
  {
   "cell_type": "markdown",
   "id": "1dbcbcd9",
   "metadata": {},
   "source": [
    "O elemento um dos números, que costumava ser 123, agora é 5.\n",
    "Você pode pensar em uma lista como uma relação entre índices e elementos. Esse relacionamento é chamado de mapeamento; cada índice “mapeia” para um dos elementos.\n",
    "\n",
    "Os índices de lista funcionam da mesma maneira que os índices de string:\n",
    "- Qualquer expressão inteira pode ser usada como índice.\n",
    "- Se você tentar ler ou escrever um elemento que não existe, receberá um IndexError.\n",
    "- Se um índice tiver um valor negativo, ele conta para trás a partir do final da lista.\n",
    "\n",
    "O operador in também funciona em listas."
   ]
  },
  {
   "cell_type": "code",
   "execution_count": null,
   "id": "6c808264",
   "metadata": {},
   "outputs": [],
   "source": [
    "cheeses = ['Cheddar', 'Edam', 'Gouda']\n",
    "'Edam'in cheeses"
   ]
  },
  {
   "cell_type": "code",
   "execution_count": null,
   "id": "1a65cbfb",
   "metadata": {},
   "outputs": [],
   "source": [
    "'Brie' in cheeses"
   ]
  },
  {
   "cell_type": "markdown",
   "id": "ee79bfd6",
   "metadata": {},
   "source": [
    "## 8.3. Percorrendo uma lista\n",
    "A maneira mais comum de percorrer os elementos de uma lista é com um loop __for__. A sintaxe é a mesma das strings:"
   ]
  },
  {
   "cell_type": "code",
   "execution_count": null,
   "id": "291f1be6",
   "metadata": {},
   "outputs": [],
   "source": [
    "for cheese in cheeses:\n",
    "    print(cheese)"
   ]
  },
  {
   "cell_type": "markdown",
   "id": "b23cb78d",
   "metadata": {},
   "source": [
    "## 8.4. LISTA DE OPERAÇÕES\n",
    "\n",
    "Isso funciona bem se você precisar apenas ler os elementos da lista. Mas se você quiser escrever ou atualizar os elementos, precisará dos índices. Uma maneira comum de fazer isso é combinar as funções `range` e `len`:"
   ]
  },
  {
   "cell_type": "code",
   "execution_count": null,
   "id": "a6879d97",
   "metadata": {},
   "outputs": [],
   "source": [
    "\n",
    "for i in range(len(numbers)):\n",
    "    numbers[i]= numbers[i] * 2\n",
    "numbers"
   ]
  },
  {
   "cell_type": "markdown",
   "id": "344d6402",
   "metadata": {},
   "source": [
    "Este loop percorre a lista e atualiza cada elemento. len retorna o número de elementos na lista. range retorna uma lista de índices de 0 a n − 1, onde n é o comprimento da lista. Cada vez que passa pelo loop, __i__ obtém o índice do próximo elemento. A instrução de atribuição no corpo usa __i__ para ler o valor antigo do elemento e atribuir o novo valor.\n",
    "\n",
    "Um loop for sobre uma lista vazia nunca executa o corpo:"
   ]
  },
  {
   "cell_type": "code",
   "execution_count": null,
   "id": "4570dabb",
   "metadata": {},
   "outputs": [],
   "source": [
    "for x in empty:\n",
    "    print(\"isso nunca acontecerá\")"
   ]
  },
  {
   "cell_type": "markdown",
   "id": "8d10fe0d",
   "metadata": {},
   "source": [
    "Embora uma lista possa conter outra lista, a lista aninhada ainda conta como um único elemento. O comprimento desta lista é quatro:"
   ]
  },
  {
   "cell_type": "code",
   "execution_count": null,
   "id": "18dec70a",
   "metadata": {},
   "outputs": [],
   "source": [
    "list = ['spam', 1, ['Brie', 'Roquefort', 'Pol le Veq'], [1, 2, 3]]\n",
    "len(list)"
   ]
  },
  {
   "cell_type": "markdown",
   "id": "6934c7c7",
   "metadata": {},
   "source": [
    "List operations\n",
    "O operador + concatena listas:"
   ]
  },
  {
   "cell_type": "code",
   "execution_count": null,
   "id": "62fca2c8",
   "metadata": {},
   "outputs": [],
   "source": [
    "a = [1,2,3]\n",
    "b = [4,5,6]\n",
    "c = a + b\n",
    "print(c)"
   ]
  },
  {
   "cell_type": "markdown",
   "id": "443e97e4",
   "metadata": {},
   "source": [
    "Da mesma forma, o operador * repete uma lista um determinado número de vezes:"
   ]
  },
  {
   "cell_type": "code",
   "execution_count": null,
   "id": "7c515aa7",
   "metadata": {},
   "outputs": [],
   "source": [
    "[0] * 4"
   ]
  },
  {
   "cell_type": "code",
   "execution_count": null,
   "id": "3b4eb292",
   "metadata": {},
   "outputs": [],
   "source": [
    "[1,2,3] * 3"
   ]
  },
  {
   "cell_type": "markdown",
   "id": "998fc276",
   "metadata": {},
   "source": [
    "O primeiro exemplo se repete quatro vezes. O segundo exemplo repete a lista de três\n",
    "horas."
   ]
  },
  {
   "cell_type": "markdown",
   "id": "2fd6cc88",
   "metadata": {},
   "source": [
    "## 8.5. List slices (Listar fatias)\n",
    "O operador slice também funciona em listas:"
   ]
  },
  {
   "cell_type": "code",
   "execution_count": null,
   "id": "9df17850",
   "metadata": {},
   "outputs": [],
   "source": [
    "t = ['a','b','c','d','e','f']\n",
    "t[1:3]"
   ]
  },
  {
   "cell_type": "code",
   "execution_count": null,
   "id": "a6851124",
   "metadata": {},
   "outputs": [],
   "source": [
    "t[:4]"
   ]
  },
  {
   "cell_type": "code",
   "execution_count": null,
   "id": "66cb7e36",
   "metadata": {},
   "outputs": [],
   "source": [
    "t[3:]"
   ]
  },
  {
   "cell_type": "markdown",
   "id": "724f5842",
   "metadata": {},
   "source": [
    "Se você omitir o primeiro índice, a fatia começará no início. Se você omitir o segundo,\n",
    "a fatia vai até o fim. Portanto, se você omitir ambos, a fatia será uma cópia de toda a lista."
   ]
  },
  {
   "cell_type": "code",
   "execution_count": null,
   "id": "528ab666",
   "metadata": {},
   "outputs": [],
   "source": [
    "t[:]"
   ]
  },
  {
   "cell_type": "markdown",
   "id": "65aaf440",
   "metadata": {},
   "source": [
    "Como as listas são mutáveis, geralmente é útil fazer uma cópia antes de executar operações que dobram, giram ou mutilam listas.\n",
    "\n",
    "Um operador de fatia no lado esquerdo de uma atribuição pode atualizar vários elementos:"
   ]
  },
  {
   "cell_type": "code",
   "execution_count": null,
   "id": "569e55c2",
   "metadata": {},
   "outputs": [],
   "source": [
    "t = ['a', 'b', 'c', 'd', 'e', 'f']\n",
    "t"
   ]
  },
  {
   "cell_type": "code",
   "execution_count": null,
   "id": "654ca8e1",
   "metadata": {},
   "outputs": [],
   "source": [
    "t[1:3] = ['x','y']\n",
    "print(t)"
   ]
  },
  {
   "cell_type": "markdown",
   "id": "bd249d2e",
   "metadata": {},
   "source": [
    "## 8.6 List methods"
   ]
  },
  {
   "cell_type": "markdown",
   "id": "0c80226f",
   "metadata": {},
   "source": [
    "Python fornece métodos que operam em listas. Por exemplo, `append` adiciona um novo elemento ao final de uma lista:"
   ]
  },
  {
   "cell_type": "code",
   "execution_count": null,
   "id": "64fe1934",
   "metadata": {},
   "outputs": [],
   "source": [
    "t = ['a','b','c']\n",
    "t"
   ]
  },
  {
   "cell_type": "code",
   "execution_count": null,
   "id": "129b4a0a",
   "metadata": {},
   "outputs": [],
   "source": [
    "t.append('d')\n",
    "print(t)"
   ]
  },
  {
   "cell_type": "markdown",
   "id": "fb926170",
   "metadata": {},
   "source": [
    "`extend` recebe uma lista como argumento e anexa todos os elementos:"
   ]
  },
  {
   "cell_type": "code",
   "execution_count": null,
   "id": "23c17b46",
   "metadata": {},
   "outputs": [],
   "source": [
    "t1 = ['a', 'b', 'c']\n",
    "t2 = ['d','e']\n",
    "t1.extend(t2)\n",
    "print(t1)"
   ]
  },
  {
   "cell_type": "markdown",
   "id": "a50e7e21",
   "metadata": {},
   "source": [
    "Este exemplo deixa t2 inalterado. `sort` organiza os elementos da lista de baixo para cima:"
   ]
  },
  {
   "cell_type": "code",
   "execution_count": null,
   "id": "4c743044",
   "metadata": {},
   "outputs": [],
   "source": [
    "t = ['d','c','e','b','a']\n",
    "print(f\"lista original\\n{t}\")"
   ]
  },
  {
   "cell_type": "code",
   "execution_count": null,
   "id": "b1989ff2",
   "metadata": {},
   "outputs": [],
   "source": [
    "t.sort()\n",
    "print(f\"lista ordenada\\n{t}\")"
   ]
  },
  {
   "cell_type": "markdown",
   "id": "cf24ed8f",
   "metadata": {},
   "source": [
    "## 8.7. Deleting elements"
   ]
  },
  {
   "cell_type": "markdown",
   "id": "acb255bf",
   "metadata": {},
   "source": [
    "Existem várias maneiras de excluir elementos de uma lista. Se você conhece o índice do elemento que deseja, pode usar `pop`:"
   ]
  },
  {
   "cell_type": "code",
   "execution_count": null,
   "id": "3072f7f7",
   "metadata": {},
   "outputs": [],
   "source": [
    "t = ['a','b','c']\n",
    "print(t)"
   ]
  },
  {
   "cell_type": "code",
   "execution_count": null,
   "id": "739f29ee",
   "metadata": {},
   "outputs": [],
   "source": [
    "x = t.pop(1)\n",
    "print(f\"Conteúdo de t: \\n {t}\")\n",
    "print(f\"Conteúdo de x: \\n {x}\")\n"
   ]
  },
  {
   "cell_type": "markdown",
   "id": "e476a4aa",
   "metadata": {},
   "source": [
    "`pop` modifica a lista e retorna o elemento que foi removido. Se você não fornecer um índice, ele excluirá e retornará o último elemento.\n",
    "\n",
    "Se você não precisar do valor removido, poderá usar a instrução del:"
   ]
  },
  {
   "cell_type": "code",
   "execution_count": null,
   "id": "404ad920",
   "metadata": {},
   "outputs": [],
   "source": [
    "asynct = ['a','b','c']\n",
    "print(t)"
   ]
  },
  {
   "cell_type": "code",
   "execution_count": null,
   "id": "0d499c8b",
   "metadata": {},
   "outputs": [],
   "source": [
    "del t[1]\n",
    "print(t)"
   ]
  },
  {
   "cell_type": "markdown",
   "id": "d20ab18c",
   "metadata": {},
   "source": [
    "If you know the element you want to remove (but not the index), you can use `remove`:"
   ]
  },
  {
   "cell_type": "code",
   "execution_count": null,
   "id": "35d9ee3c-5521-4377-a181-d9c11f0a44da",
   "metadata": {},
   "outputs": [],
   "source": [
    "t = ['a','b','c']\n",
    "print(t)"
   ]
  },
  {
   "cell_type": "code",
   "execution_count": null,
   "id": "01897580-aa18-451d-a8cb-fa14f8ebd972",
   "metadata": {},
   "outputs": [],
   "source": [
    "t.remove('b')\n",
    "print(t)"
   ]
  },
  {
   "cell_type": "markdown",
   "id": "ca8ff58d-6954-4c86-80fe-c90971b9f00d",
   "metadata": {},
   "source": [
    "To remove more than one element, you can use del with a slice index:\n"
   ]
  },
  {
   "cell_type": "code",
   "execution_count": null,
   "id": "e18194c1-35de-4aaf-9d2f-45c445aed2d9",
   "metadata": {},
   "outputs": [],
   "source": [
    "t = ['a', 'b', 'c', 'd', 'e', 'f']\n",
    "print(t)"
   ]
  },
  {
   "cell_type": "code",
   "execution_count": null,
   "id": "582a0783-31fe-4232-82e4-82f78fbf439c",
   "metadata": {},
   "outputs": [],
   "source": [
    "del t[1:5]\n",
    "print(t)"
   ]
  },
  {
   "cell_type": "markdown",
   "id": "554b00d1-9362-4371-959b-edb548e16300",
   "metadata": {},
   "source": [
    "## 8.8. Lists and functions\n",
    "\n",
    "Existem várias funções internas que podem ser usadas em listas que permitem que você examine rapidamente uma lista sem escrever seus próprios loops:"
   ]
  },
  {
   "cell_type": "code",
   "execution_count": null,
   "id": "2e3eb874-b532-444d-b3cc-5d6de662db81",
   "metadata": {},
   "outputs": [],
   "source": [
    "nums = [3, 41, 12, 9, 74, 15]\n",
    "print(nums)"
   ]
  },
  {
   "cell_type": "code",
   "execution_count": null,
   "id": "21f6469c-08c6-4571-b38b-32884892c90b",
   "metadata": {},
   "outputs": [],
   "source": [
    "print(f\"len: {len(nums)}\")\n",
    "print(f\"max: {max(nums)}\")\n",
    "print(f\"min: {min(nums)}\")\n",
    "print(f\"sum: {sum(nums)}\")\n",
    "print(f\"media:{sum(nums)/len(nums)}\")"
   ]
  },
  {
   "cell_type": "markdown",
   "id": "9b7f1077-1105-4958-bda7-ffe44cefd5ae",
   "metadata": {},
   "source": [
    "__OBS:__\n",
    "Existem várias funções internas que podem ser usadas em listas que permitem que você examine rapidamente uma lista sem escrever seus próprios loops:"
   ]
  },
  {
   "cell_type": "markdown",
   "id": "85396edc-45d4-46c6-ae26-3eec5b48de42",
   "metadata": {},
   "source": [
    "We could rewrite an earlier program that computed the average of a list of numbers\n",
    "entered by the user using a list.\n",
    "\n",
    "First, the program to compute an average without a list: `avenum.py`"
   ]
  },
  {
   "cell_type": "markdown",
   "id": "9ffcfb87-1ba6-40cb-88e9-4674463e1701",
   "metadata": {},
   "source": [
    "## 8.9 Lists and strings\n",
    "\n",
    "Converter uma string em um lista"
   ]
  },
  {
   "cell_type": "code",
   "execution_count": null,
   "id": "1eb48386",
   "metadata": {},
   "outputs": [],
   "source": [
    "s = 'spam'\n",
    "print(s)"
   ]
  },
  {
   "cell_type": "code",
   "execution_count": null,
   "id": "65d8ce68",
   "metadata": {},
   "outputs": [],
   "source": [
    "t = list(s)\n",
    "print(t)"
   ]
  },
  {
   "cell_type": "markdown",
   "id": "df407737",
   "metadata": {},
   "source": [
    "- Usando `split` para armazenar as palavras em uma frase em uma lista"
   ]
  },
  {
   "cell_type": "code",
   "execution_count": null,
   "id": "3a9e60a3",
   "metadata": {},
   "outputs": [],
   "source": [
    "s = \"pining for the fjords\"\n",
    "print(s)"
   ]
  },
  {
   "cell_type": "code",
   "execution_count": null,
   "id": "dda67f09",
   "metadata": {},
   "outputs": [],
   "source": [
    "t = s.split()\n",
    "print(t)\n",
    "print(t[2])"
   ]
  },
  {
   "cell_type": "markdown",
   "id": "403be559",
   "metadata": {},
   "source": [
    "- Usando `split` com um delimitador (*delimiter*)"
   ]
  },
  {
   "cell_type": "code",
   "execution_count": null,
   "id": "1b7944b6",
   "metadata": {},
   "outputs": [],
   "source": [
    "s = \"spam-spam-spam\"\n",
    "delimiter = \"-\"\n",
    "print(s)\n",
    "print(delimiter)"
   ]
  },
  {
   "cell_type": "code",
   "execution_count": null,
   "id": "5f7c648a",
   "metadata": {},
   "outputs": [],
   "source": [
    "s.split(delimiter )"
   ]
  },
  {
   "cell_type": "markdown",
   "id": "3740c2a0",
   "metadata": {},
   "source": [
    "- Usando `join`para juntar elementos de um lista em uma string"
   ]
  },
  {
   "cell_type": "code",
   "execution_count": null,
   "id": "fd3932aa",
   "metadata": {},
   "outputs": [],
   "source": [
    "t = [ 'pining', 'for','the','fjords']\n",
    "delimiter = \" \"\n",
    "s  = delimiter.join(t)\n",
    "print(s)"
   ]
  },
  {
   "cell_type": "markdown",
   "id": "93935127",
   "metadata": {},
   "source": [
    "## 8.10. Analisando linhas\n",
    "Normalmente, quando estamos lendo um arquivo, queremos fazer algo nas linhas além de imprimir a linha inteira. Muitas vezes, queremos encontrar as \"linhas interessantes\" e, em seguida, analisar a linha para encontrar alguma parte interessante da linha. E se quiséssemos imprimir o dia da semana daquelas linhas que começam com `\"from\"`?\n",
    "\n",
    "veja o arquivo *../src/search5.py*"
   ]
  },
  {
   "cell_type": "markdown",
   "id": "0cc46a9f",
   "metadata": {},
   "source": [
    "8.11. Objects and values"
   ]
  },
  {
   "cell_type": "code",
   "execution_count": null,
   "id": "c52fbf56",
   "metadata": {},
   "outputs": [],
   "source": [
    "a = 'banana'\n",
    "b = 'banana'"
   ]
  },
  {
   "cell_type": "code",
   "execution_count": null,
   "id": "f897bf6d",
   "metadata": {},
   "outputs": [],
   "source": [
    "# validando se as variaveis são iguais\n",
    "a is b"
   ]
  },
  {
   "cell_type": "code",
   "execution_count": null,
   "id": "314bb872",
   "metadata": {},
   "outputs": [],
   "source": [
    "a = [1, 2, 3]\n",
    "b = [1, 2, 3]\n",
    "a is b"
   ]
  },
  {
   "cell_type": "markdown",
   "id": "aa847ede",
   "metadata": {},
   "source": [
    "Neste caso diríamos que as duas listas são equivalentes, pois possuem os mesmos elementos, mas não idênticas, pois não são o mesmo objeto. Se dois objetos são idênticos, eles também são equivalentes, mas se são equivalentes, não são necessariamente idênticos.\n",
    "\n",
    "Até agora, usamos \"objeto\" e \"valor\" de forma intercambiável, mas é mais preciso dizer que um objeto tem um valor. Se você executar a = [1,2,3], a refere-se a um objeto de lista cujo valor é uma determinada sequência de elementos. Se outra lista tiver os mesmos elementos, diríamos que ela tem o mesmo valor."
   ]
  },
  {
   "cell_type": "markdown",
   "id": "7e10dbc6",
   "metadata": {},
   "source": [
    "## 8.12. Aliasing"
   ]
  },
  {
   "cell_type": "code",
   "execution_count": null,
   "id": "7ba46c56",
   "metadata": {},
   "outputs": [],
   "source": [
    "a = [1, 2, 3]\n",
    "b = a\n",
    "b is a"
   ]
  },
  {
   "cell_type": "markdown",
   "id": "d576ca6f",
   "metadata": {},
   "source": [
    "A associação de uma variável com um objeto é chamada de referência. Neste exemplo, há duas referências ao mesmo objeto. Um objeto com mais de uma referência tem mais de um nome, então dizemos que o objeto é __aliased__.\n",
    "\n",
    "Se o objeto __aliased__ for mutável, as alterações feitas com um alias afetarão o outro:"
   ]
  },
  {
   "cell_type": "code",
   "execution_count": null,
   "id": "df44e9a1",
   "metadata": {},
   "outputs": [],
   "source": [
    "b[0] = 17\n",
    "print(a)"
   ]
  },
  {
   "cell_type": "markdown",
   "id": "65d1193d",
   "metadata": {},
   "source": [
    "Embora esse comportamento possa ser útil, é propenso a erros. Em geral, é mais seguro evitar o alias ao trabalhar com objetos mutáveis.\n",
    "\n",
    "Para objetos imutáveis ​​como strings, o alias não é um problema. Neste exemplo:"
   ]
  },
  {
   "cell_type": "code",
   "execution_count": null,
   "id": "840d0605",
   "metadata": {},
   "outputs": [],
   "source": [
    "a = 'banana'\n",
    "b ='banana'"
   ]
  },
  {
   "cell_type": "markdown",
   "id": "c8e6bdc7",
   "metadata": {},
   "source": [
    "quase nunca faz diferença se a e b se referem à mesma string ou não."
   ]
  },
  {
   "cell_type": "markdown",
   "id": "5d592fbc",
   "metadata": {},
   "source": [
    "## 8.13. List arguments\n",
    "\n",
    "When you pass a list to a function, the function gets a reference to the list. If\n",
    "the function modifies a list parameter, the caller sees the change. For example,\n",
    "delete_head removes the first element from a list:"
   ]
  },
  {
   "cell_type": "code",
   "execution_count": null,
   "id": "63b58643",
   "metadata": {},
   "outputs": [],
   "source": [
    "def delete_head(t):\n",
    "    del t[0]\n",
    "    \n",
    "letters = ['a', 'b', 'c']\n",
    "delete_head(letters)\n",
    "print(letters)"
   ]
  },
  {
   "cell_type": "markdown",
   "id": "a7126e95",
   "metadata": {},
   "source": [
    "O parâmetro te a variável __letters__ são aliases para o mesmo objeto.\n",
    "\n",
    "É importante distinguir entre operações que modificam listas e operações que criam novas listas. Por exemplo, o método append modifica uma lista, mas o operador + cria uma nova lista:"
   ]
  },
  {
   "cell_type": "code",
   "execution_count": null,
   "id": "50b701a5",
   "metadata": {},
   "outputs": [],
   "source": [
    "#modificando\n",
    "t1 =  [1,2]\n",
    "t2 =  t1.append(3)\n",
    "print(t1)\n",
    "print(t2)"
   ]
  },
  {
   "cell_type": "code",
   "execution_count": null,
   "id": "968617a7",
   "metadata": {},
   "outputs": [],
   "source": [
    "# concatenado\n",
    "t3 = t1 +[3]\n",
    "print(t3)\n",
    "print(t2 is t1)\n"
   ]
  },
  {
   "cell_type": "markdown",
   "id": "d7f7e0de",
   "metadata": {},
   "source": [
    "Essa diferença é importante quando você escreve funções que deveriam modificar listas. Por exemplo, esta função não exclui o cabeçalho de uma lista:"
   ]
  },
  {
   "cell_type": "code",
   "execution_count": null,
   "id": "c6d37fc7",
   "metadata": {},
   "outputs": [],
   "source": [
    "def bad_delete_head(t):\n",
    "    t =t[1:]  # errado"
   ]
  },
  {
   "cell_type": "markdown",
   "id": "30d0457c",
   "metadata": {},
   "source": [
    "O operador slice cria uma nova lista e a atribuição faz com que t se refira a ela, mas nada disso tem efeito na lista que foi passada como argumento.\n",
    "\n",
    "Uma alternativa é escrever uma função que cria e retorna uma nova lista. __Para__ exemplo, __tail__ retorna todos, exceto o primeiro elemento de uma lista:\n"
   ]
  },
  {
   "cell_type": "code",
   "execution_count": null,
   "id": "269b43a8",
   "metadata": {},
   "outputs": [],
   "source": [
    "def tail(t):\n",
    "    return t[1:]"
   ]
  },
  {
   "cell_type": "markdown",
   "id": "dfc3ae44",
   "metadata": {},
   "source": [
    "Esta função deixa a lista original inalterada. Veja como ele é usado:"
   ]
  },
  {
   "cell_type": "code",
   "execution_count": null,
   "id": "034acf91",
   "metadata": {},
   "outputs": [],
   "source": [
    "letters = ['a','b','c']\n",
    "rest = tail(letters)\n",
    "print(f\"rest: {rest}\")\n",
    "print(f\"letters: {letters}\")"
   ]
  },
  {
   "cell_type": "code",
   "execution_count": null,
   "id": "36d7482b",
   "metadata": {},
   "outputs": [],
   "source": [
    "t = [9, 41, 12, 3, 74, 15]\n",
    "t[2:4]"
   ]
  },
  {
   "cell_type": "code",
   "execution_count": null,
   "id": "6e044b32",
   "metadata": {},
   "outputs": [],
   "source": []
  }
 ],
 "metadata": {
  "kernelspec": {
   "display_name": "Python 3 (ipykernel)",
   "language": "python",
   "name": "python3"
  },
  "language_info": {
   "codemirror_mode": {
    "name": "ipython",
    "version": 3
   },
   "file_extension": ".py",
   "mimetype": "text/x-python",
   "name": "python",
   "nbconvert_exporter": "python",
   "pygments_lexer": "ipython3",
   "version": "3.9.12"
  },
  "vscode": {
   "interpreter": {
    "hash": "dc5c99c2466dfd7cfbb8cf018f0055358570a78f04eb8856aa1a5e99e3e45b54"
   }
  }
 },
 "nbformat": 4,
 "nbformat_minor": 5
}
